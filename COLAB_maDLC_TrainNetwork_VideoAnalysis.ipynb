{
  "nbformat": 4,
  "nbformat_minor": 0,
  "metadata": {
    "accelerator": "GPU",
    "colab": {
      "collapsed_sections": [],
      "provenance": []
    },
    "kernelspec": {
      "display_name": "Python 3",
      "name": "python3"
    }
  },
  "cells": [
    {
      "cell_type": "markdown",
      "metadata": {
        "id": "RK255E7YoEIt"
      },
      "source": [
        "# DeepLabCut 2.2+ Toolbox - COLAB\n",
        "![alt text](https://images.squarespace-cdn.com/content/v1/57f6d51c9f74566f55ecf271/1628180434489-T0RIWEJJU0FJVOT6FNVD/maDLC.png?format=800w)\n",
        "\n",
        "https://github.com/DeepLabCut/DeepLabCut\n",
        "\n",
        "This notebook illustrates how to, for multi-animal projects, use the cloud-based GPU to:\n",
        "- create a multi-animal training set\n",
        "- train a network\n",
        "- evaluate a network\n",
        "- analyze novel videos\n",
        "- assemble animals and tracklets\n",
        "- create quality check plots!\n",
        "\n",
        "###This notebook assumes you already have a DLC project folder with labeled data and you uploaded it to your own Google Drive.\n",
        "\n",
        "This notebook demonstrates the necessary steps to use DeepLabCut for your own project.\n",
        "\n",
        "This shows the most simple code to do so, but many of the functions have additional features, so please check out the docs on GitHub. We also recommend checking out our preprint, which covers the science of maDLC\n",
        "\n",
        "**Lauer et al 2021:** https://www.biorxiv.org/content/10.1101/2021.04.30.442096v1\n",
        "\n",
        "\n"
      ]
    },
    {
      "cell_type": "markdown",
      "metadata": {
        "id": "txoddlM8hLKm"
      },
      "source": [
        "## First, go to \"Runtime\" ->\"change runtime type\"->select \"Python3\", and then select \"GPU\"\n"
      ]
    },
    {
      "cell_type": "code",
      "execution_count": null,
      "metadata": {
        "id": "q23BzhA6CXxu",
        "outputId": "801cff40-3a58-4b3c-eb5c-b592efedea4e",
        "colab": {
          "base_uri": "https://localhost:8080/"
        }
      },
      "outputs": [
        {
          "output_type": "stream",
          "name": "stdout",
          "text": [
            "Looking in indexes: https://pypi.org/simple, https://us-python.pkg.dev/colab-wheels/public/simple/\n",
            "Requirement already satisfied: deeplabcut in /usr/local/lib/python3.7/dist-packages (2.2.3)\n",
            "Requirement already satisfied: tensorpack>=0.11 in /usr/local/lib/python3.7/dist-packages (from deeplabcut) (0.11)\n",
            "Requirement already satisfied: tf-slim>=1.1.0 in /usr/local/lib/python3.7/dist-packages (from deeplabcut) (1.1.0)\n",
            "Requirement already satisfied: scipy>=1.4 in /usr/local/lib/python3.7/dist-packages (from deeplabcut) (1.7.3)\n",
            "Requirement already satisfied: imgaug>=0.4.0 in /usr/local/lib/python3.7/dist-packages (from deeplabcut) (0.4.0)\n",
            "Requirement already satisfied: tqdm in /usr/local/lib/python3.7/dist-packages (from deeplabcut) (4.64.1)\n",
            "Requirement already satisfied: numba>=0.54 in /usr/local/lib/python3.7/dist-packages (from deeplabcut) (0.56.3)\n",
            "Requirement already satisfied: networkx>=2.6 in /usr/local/lib/python3.7/dist-packages (from deeplabcut) (2.6.3)\n",
            "Requirement already satisfied: Pillow>=7.1 in /usr/local/lib/python3.7/dist-packages (from deeplabcut) (7.1.2)\n",
            "Requirement already satisfied: scikit-image>=0.17 in /usr/local/lib/python3.7/dist-packages (from deeplabcut) (0.19.3)\n",
            "Requirement already satisfied: statsmodels>=0.11 in /usr/local/lib/python3.7/dist-packages (from deeplabcut) (0.12.2)\n",
            "Requirement already satisfied: ruamel.yaml>=0.15.0 in /usr/local/lib/python3.7/dist-packages (from deeplabcut) (0.17.21)\n",
            "Requirement already satisfied: tensorflow>=2.0 in /usr/local/lib/python3.7/dist-packages (from deeplabcut) (2.9.2)\n",
            "Requirement already satisfied: numpy>=1.18.5 in /usr/local/lib/python3.7/dist-packages (from deeplabcut) (1.21.6)\n",
            "Requirement already satisfied: pyyaml in /usr/local/lib/python3.7/dist-packages (from deeplabcut) (6.0)\n",
            "Requirement already satisfied: matplotlib>=3.3 in /usr/local/lib/python3.7/dist-packages (from deeplabcut) (3.5.3)\n",
            "Requirement already satisfied: tables>=3.7.0 in /usr/local/lib/python3.7/dist-packages (from deeplabcut) (3.7.0)\n",
            "Requirement already satisfied: filterpy>=1.4.4 in /usr/local/lib/python3.7/dist-packages (from deeplabcut) (1.4.5)\n",
            "Requirement already satisfied: scikit-learn>=1.0 in /usr/local/lib/python3.7/dist-packages (from deeplabcut) (1.0.2)\n",
            "Requirement already satisfied: pandas>=1.0.1 in /usr/local/lib/python3.7/dist-packages (from deeplabcut) (1.3.5)\n",
            "Requirement already satisfied: Shapely in /usr/local/lib/python3.7/dist-packages (from imgaug>=0.4.0->deeplabcut) (1.8.5.post1)\n",
            "Requirement already satisfied: opencv-python in /usr/local/lib/python3.7/dist-packages (from imgaug>=0.4.0->deeplabcut) (4.6.0.66)\n",
            "Requirement already satisfied: imageio in /usr/local/lib/python3.7/dist-packages (from imgaug>=0.4.0->deeplabcut) (2.9.0)\n",
            "Requirement already satisfied: six in /usr/local/lib/python3.7/dist-packages (from imgaug>=0.4.0->deeplabcut) (1.15.0)\n",
            "Requirement already satisfied: fonttools>=4.22.0 in /usr/local/lib/python3.7/dist-packages (from matplotlib>=3.3->deeplabcut) (4.38.0)\n",
            "Requirement already satisfied: packaging>=20.0 in /usr/local/lib/python3.7/dist-packages (from matplotlib>=3.3->deeplabcut) (21.3)\n",
            "Requirement already satisfied: pyparsing>=2.2.1 in /usr/local/lib/python3.7/dist-packages (from matplotlib>=3.3->deeplabcut) (3.0.9)\n",
            "Requirement already satisfied: python-dateutil>=2.7 in /usr/local/lib/python3.7/dist-packages (from matplotlib>=3.3->deeplabcut) (2.8.2)\n",
            "Requirement already satisfied: kiwisolver>=1.0.1 in /usr/local/lib/python3.7/dist-packages (from matplotlib>=3.3->deeplabcut) (1.4.4)\n",
            "Requirement already satisfied: cycler>=0.10 in /usr/local/lib/python3.7/dist-packages (from matplotlib>=3.3->deeplabcut) (0.11.0)\n",
            "Requirement already satisfied: typing-extensions in /usr/local/lib/python3.7/dist-packages (from kiwisolver>=1.0.1->matplotlib>=3.3->deeplabcut) (4.1.1)\n",
            "Requirement already satisfied: setuptools in /usr/local/lib/python3.7/dist-packages (from numba>=0.54->deeplabcut) (57.4.0)\n",
            "Requirement already satisfied: importlib-metadata in /usr/local/lib/python3.7/dist-packages (from numba>=0.54->deeplabcut) (4.13.0)\n",
            "Requirement already satisfied: llvmlite<0.40,>=0.39.0dev0 in /usr/local/lib/python3.7/dist-packages (from numba>=0.54->deeplabcut) (0.39.1)\n",
            "Requirement already satisfied: pytz>=2017.3 in /usr/local/lib/python3.7/dist-packages (from pandas>=1.0.1->deeplabcut) (2022.5)\n",
            "Requirement already satisfied: ruamel.yaml.clib>=0.2.6 in /usr/local/lib/python3.7/dist-packages (from ruamel.yaml>=0.15.0->deeplabcut) (0.2.7)\n",
            "Requirement already satisfied: tifffile>=2019.7.26 in /usr/local/lib/python3.7/dist-packages (from scikit-image>=0.17->deeplabcut) (2021.11.2)\n",
            "Requirement already satisfied: PyWavelets>=1.1.1 in /usr/local/lib/python3.7/dist-packages (from scikit-image>=0.17->deeplabcut) (1.3.0)\n",
            "Requirement already satisfied: joblib>=0.11 in /usr/local/lib/python3.7/dist-packages (from scikit-learn>=1.0->deeplabcut) (1.2.0)\n",
            "Requirement already satisfied: threadpoolctl>=2.0.0 in /usr/local/lib/python3.7/dist-packages (from scikit-learn>=1.0->deeplabcut) (3.1.0)\n",
            "Requirement already satisfied: patsy>=0.5 in /usr/local/lib/python3.7/dist-packages (from statsmodels>=0.11->deeplabcut) (0.5.3)\n",
            "Requirement already satisfied: numexpr>=2.6.2 in /usr/local/lib/python3.7/dist-packages (from tables>=3.7.0->deeplabcut) (2.8.3)\n",
            "Requirement already satisfied: libclang>=13.0.0 in /usr/local/lib/python3.7/dist-packages (from tensorflow>=2.0->deeplabcut) (14.0.6)\n",
            "Requirement already satisfied: astunparse>=1.6.0 in /usr/local/lib/python3.7/dist-packages (from tensorflow>=2.0->deeplabcut) (1.6.3)\n",
            "Requirement already satisfied: tensorboard<2.10,>=2.9 in /usr/local/lib/python3.7/dist-packages (from tensorflow>=2.0->deeplabcut) (2.9.1)\n",
            "Requirement already satisfied: gast<=0.4.0,>=0.2.1 in /usr/local/lib/python3.7/dist-packages (from tensorflow>=2.0->deeplabcut) (0.4.0)\n",
            "Requirement already satisfied: grpcio<2.0,>=1.24.3 in /usr/local/lib/python3.7/dist-packages (from tensorflow>=2.0->deeplabcut) (1.50.0)\n",
            "Requirement already satisfied: absl-py>=1.0.0 in /usr/local/lib/python3.7/dist-packages (from tensorflow>=2.0->deeplabcut) (1.3.0)\n",
            "Requirement already satisfied: opt-einsum>=2.3.2 in /usr/local/lib/python3.7/dist-packages (from tensorflow>=2.0->deeplabcut) (3.3.0)\n",
            "Requirement already satisfied: h5py>=2.9.0 in /usr/local/lib/python3.7/dist-packages (from tensorflow>=2.0->deeplabcut) (3.1.0)\n",
            "Requirement already satisfied: keras-preprocessing>=1.1.1 in /usr/local/lib/python3.7/dist-packages (from tensorflow>=2.0->deeplabcut) (1.1.2)\n",
            "Requirement already satisfied: protobuf<3.20,>=3.9.2 in /usr/local/lib/python3.7/dist-packages (from tensorflow>=2.0->deeplabcut) (3.17.3)\n",
            "Requirement already satisfied: wrapt>=1.11.0 in /usr/local/lib/python3.7/dist-packages (from tensorflow>=2.0->deeplabcut) (1.14.1)\n",
            "Requirement already satisfied: google-pasta>=0.1.1 in /usr/local/lib/python3.7/dist-packages (from tensorflow>=2.0->deeplabcut) (0.2.0)\n",
            "Requirement already satisfied: tensorflow-io-gcs-filesystem>=0.23.1 in /usr/local/lib/python3.7/dist-packages (from tensorflow>=2.0->deeplabcut) (0.27.0)\n",
            "Requirement already satisfied: keras<2.10.0,>=2.9.0rc0 in /usr/local/lib/python3.7/dist-packages (from tensorflow>=2.0->deeplabcut) (2.9.0)\n",
            "Requirement already satisfied: termcolor>=1.1.0 in /usr/local/lib/python3.7/dist-packages (from tensorflow>=2.0->deeplabcut) (2.0.1)\n",
            "Requirement already satisfied: tensorflow-estimator<2.10.0,>=2.9.0rc0 in /usr/local/lib/python3.7/dist-packages (from tensorflow>=2.0->deeplabcut) (2.9.0)\n",
            "Requirement already satisfied: flatbuffers<2,>=1.12 in /usr/local/lib/python3.7/dist-packages (from tensorflow>=2.0->deeplabcut) (1.12)\n",
            "Requirement already satisfied: wheel<1.0,>=0.23.0 in /usr/local/lib/python3.7/dist-packages (from astunparse>=1.6.0->tensorflow>=2.0->deeplabcut) (0.37.1)\n",
            "Requirement already satisfied: cached-property in /usr/local/lib/python3.7/dist-packages (from h5py>=2.9.0->tensorflow>=2.0->deeplabcut) (1.5.2)\n",
            "Requirement already satisfied: requests<3,>=2.21.0 in /usr/local/lib/python3.7/dist-packages (from tensorboard<2.10,>=2.9->tensorflow>=2.0->deeplabcut) (2.23.0)\n",
            "Requirement already satisfied: markdown>=2.6.8 in /usr/local/lib/python3.7/dist-packages (from tensorboard<2.10,>=2.9->tensorflow>=2.0->deeplabcut) (3.4.1)\n",
            "Requirement already satisfied: google-auth-oauthlib<0.5,>=0.4.1 in /usr/local/lib/python3.7/dist-packages (from tensorboard<2.10,>=2.9->tensorflow>=2.0->deeplabcut) (0.4.6)\n",
            "Requirement already satisfied: tensorboard-data-server<0.7.0,>=0.6.0 in /usr/local/lib/python3.7/dist-packages (from tensorboard<2.10,>=2.9->tensorflow>=2.0->deeplabcut) (0.6.1)\n",
            "Requirement already satisfied: tensorboard-plugin-wit>=1.6.0 in /usr/local/lib/python3.7/dist-packages (from tensorboard<2.10,>=2.9->tensorflow>=2.0->deeplabcut) (1.8.1)\n",
            "Requirement already satisfied: google-auth<3,>=1.6.3 in /usr/local/lib/python3.7/dist-packages (from tensorboard<2.10,>=2.9->tensorflow>=2.0->deeplabcut) (1.35.0)\n",
            "Requirement already satisfied: werkzeug>=1.0.1 in /usr/local/lib/python3.7/dist-packages (from tensorboard<2.10,>=2.9->tensorflow>=2.0->deeplabcut) (1.0.1)\n",
            "Requirement already satisfied: rsa<5,>=3.1.4 in /usr/local/lib/python3.7/dist-packages (from google-auth<3,>=1.6.3->tensorboard<2.10,>=2.9->tensorflow>=2.0->deeplabcut) (4.9)\n",
            "Requirement already satisfied: cachetools<5.0,>=2.0.0 in /usr/local/lib/python3.7/dist-packages (from google-auth<3,>=1.6.3->tensorboard<2.10,>=2.9->tensorflow>=2.0->deeplabcut) (4.2.4)\n",
            "Requirement already satisfied: pyasn1-modules>=0.2.1 in /usr/local/lib/python3.7/dist-packages (from google-auth<3,>=1.6.3->tensorboard<2.10,>=2.9->tensorflow>=2.0->deeplabcut) (0.2.8)\n",
            "Requirement already satisfied: requests-oauthlib>=0.7.0 in /usr/local/lib/python3.7/dist-packages (from google-auth-oauthlib<0.5,>=0.4.1->tensorboard<2.10,>=2.9->tensorflow>=2.0->deeplabcut) (1.3.1)\n",
            "Requirement already satisfied: zipp>=0.5 in /usr/local/lib/python3.7/dist-packages (from importlib-metadata->numba>=0.54->deeplabcut) (3.9.0)\n",
            "Requirement already satisfied: pyasn1<0.5.0,>=0.4.6 in /usr/local/lib/python3.7/dist-packages (from pyasn1-modules>=0.2.1->google-auth<3,>=1.6.3->tensorboard<2.10,>=2.9->tensorflow>=2.0->deeplabcut) (0.4.8)\n",
            "Requirement already satisfied: urllib3!=1.25.0,!=1.25.1,<1.26,>=1.21.1 in /usr/local/lib/python3.7/dist-packages (from requests<3,>=2.21.0->tensorboard<2.10,>=2.9->tensorflow>=2.0->deeplabcut) (1.24.3)\n",
            "Requirement already satisfied: certifi>=2017.4.17 in /usr/local/lib/python3.7/dist-packages (from requests<3,>=2.21.0->tensorboard<2.10,>=2.9->tensorflow>=2.0->deeplabcut) (2022.9.24)\n",
            "Requirement already satisfied: idna<3,>=2.5 in /usr/local/lib/python3.7/dist-packages (from requests<3,>=2.21.0->tensorboard<2.10,>=2.9->tensorflow>=2.0->deeplabcut) (2.10)\n",
            "Requirement already satisfied: chardet<4,>=3.0.2 in /usr/local/lib/python3.7/dist-packages (from requests<3,>=2.21.0->tensorboard<2.10,>=2.9->tensorflow>=2.0->deeplabcut) (3.0.4)\n",
            "Requirement already satisfied: oauthlib>=3.0.0 in /usr/local/lib/python3.7/dist-packages (from requests-oauthlib>=0.7.0->google-auth-oauthlib<0.5,>=0.4.1->tensorboard<2.10,>=2.9->tensorflow>=2.0->deeplabcut) (3.2.2)\n",
            "Requirement already satisfied: tabulate>=0.7.7 in /usr/local/lib/python3.7/dist-packages (from tensorpack>=0.11->deeplabcut) (0.8.10)\n",
            "Requirement already satisfied: msgpack>=0.5.2 in /usr/local/lib/python3.7/dist-packages (from tensorpack>=0.11->deeplabcut) (1.0.4)\n",
            "Requirement already satisfied: msgpack-numpy>=0.4.4.2 in /usr/local/lib/python3.7/dist-packages (from tensorpack>=0.11->deeplabcut) (0.4.8)\n",
            "Requirement already satisfied: pyzmq>=16 in /usr/local/lib/python3.7/dist-packages (from tensorpack>=0.11->deeplabcut) (23.2.1)\n",
            "Requirement already satisfied: psutil>=5 in /usr/local/lib/python3.7/dist-packages (from tensorpack>=0.11->deeplabcut) (5.4.8)\n"
          ]
        }
      ],
      "source": [
        "#(this will take a few minutes to install all the dependences!)\n",
        "!pip install deeplabcut\n",
        "%reload_ext numpy\n",
        "%reload_ext scipy\n",
        "%reload_ext matplotlib\n",
        "%reload_ext mpl_toolkits"
      ]
    },
    {
      "cell_type": "code",
      "metadata": {
        "id": "-MVvZ13_FMvP",
        "outputId": "62b0e2cd-1969-400c-ed96-637f1cf46463",
        "colab": {
          "base_uri": "https://localhost:8080/"
        }
      },
      "source": [
        "#a few colab specific things needed:\n",
        "!pip install --upgrade scikit-image\n",
        "!pip3 install pickle5"
      ],
      "execution_count": null,
      "outputs": [
        {
          "output_type": "stream",
          "name": "stdout",
          "text": [
            "Looking in indexes: https://pypi.org/simple, https://us-python.pkg.dev/colab-wheels/public/simple/\n",
            "Requirement already satisfied: scikit-image in /usr/local/lib/python3.7/dist-packages (0.19.3)\n",
            "Requirement already satisfied: numpy>=1.17.0 in /usr/local/lib/python3.7/dist-packages (from scikit-image) (1.21.6)\n",
            "Requirement already satisfied: pillow!=7.1.0,!=7.1.1,!=8.3.0,>=6.1.0 in /usr/local/lib/python3.7/dist-packages (from scikit-image) (7.1.2)\n",
            "Requirement already satisfied: PyWavelets>=1.1.1 in /usr/local/lib/python3.7/dist-packages (from scikit-image) (1.3.0)\n",
            "Requirement already satisfied: scipy>=1.4.1 in /usr/local/lib/python3.7/dist-packages (from scikit-image) (1.7.3)\n",
            "Requirement already satisfied: imageio>=2.4.1 in /usr/local/lib/python3.7/dist-packages (from scikit-image) (2.9.0)\n",
            "Requirement already satisfied: tifffile>=2019.7.26 in /usr/local/lib/python3.7/dist-packages (from scikit-image) (2021.11.2)\n",
            "Requirement already satisfied: packaging>=20.0 in /usr/local/lib/python3.7/dist-packages (from scikit-image) (21.3)\n",
            "Requirement already satisfied: networkx>=2.2 in /usr/local/lib/python3.7/dist-packages (from scikit-image) (2.6.3)\n",
            "Requirement already satisfied: pyparsing!=3.0.5,>=2.0.2 in /usr/local/lib/python3.7/dist-packages (from packaging>=20.0->scikit-image) (3.0.9)\n",
            "Looking in indexes: https://pypi.org/simple, https://us-python.pkg.dev/colab-wheels/public/simple/\n",
            "Requirement already satisfied: pickle5 in /usr/local/lib/python3.7/dist-packages (0.0.12)\n"
          ]
        }
      ]
    },
    {
      "cell_type": "markdown",
      "metadata": {
        "id": "bqUEb8TBdpWb"
      },
      "source": [
        "After the package is installed, please click \"restart runtime\" if it appears for DLC changes to take effect in your COLAB environment. You will see this button at the output of the cells above ^."
      ]
    },
    {
      "cell_type": "code",
      "execution_count": null,
      "metadata": {
        "id": "oTwAcbq2-FZz"
      },
      "outputs": [],
      "source": [
        "import deeplabcut\n",
        "import pickle5 as pickle"
      ]
    },
    {
      "cell_type": "markdown",
      "metadata": {
        "id": "cQ-nlTkri4HZ"
      },
      "source": [
        "## Link your Google Drive (with your labeled data):\n",
        "\n",
        "- This code assumes you locally installed DeepLabCut, created a project, extracted and labeled frames. Be sure to \"check Labels\" to confirm you are happy with your data. As, these frames are the only thing that is used to train your network. 💪 You can find all the docs to do this here: https://deeplabcut.github.io/DeepLabCut\n",
        "\n",
        "- Next, place your DLC project folder into you Google Drive- i.e., copy the folder named \"Project-YourName-TheDate\" into Google Drive.\n",
        "\n",
        "- Then, click run on the cell below to link this notebook to your Google Drive:"
      ]
    },
    {
      "cell_type": "code",
      "execution_count": null,
      "metadata": {
        "id": "KS4Q4UkR9rgG",
        "outputId": "9f9b43c6-15ce-4e99-f073-c3b8a4a9134a",
        "colab": {
          "base_uri": "https://localhost:8080/"
        }
      },
      "outputs": [
        {
          "output_type": "stream",
          "name": "stdout",
          "text": [
            "Drive already mounted at /content/drive; to attempt to forcibly remount, call drive.mount(\"/content/drive\", force_remount=True).\n"
          ]
        }
      ],
      "source": [
        "#Now, let's link to your Google Drive. Run this cell and follow the authorization instructions:\n",
        "#(We recommend putting a copy of the github repo in your google drive if you are using the demo \"examples\")\n",
        "\n",
        "from google.colab import drive\n",
        "drive.mount('/content/drive')"
      ]
    },
    {
      "cell_type": "markdown",
      "metadata": {
        "id": "Frnj1RVDyEqs"
      },
      "source": [
        "## Next, edit the few items below, and click run:\n"
      ]
    },
    {
      "cell_type": "code",
      "execution_count": null,
      "metadata": {
        "id": "vhENAlQnFENJ",
        "outputId": "e4ea4cd6-4592-4b2a-c890-026abc54000b",
        "colab": {
          "base_uri": "https://localhost:8080/",
          "height": 35
        }
      },
      "outputs": [
        {
          "output_type": "execute_result",
          "data": {
            "text/plain": [
              "'/content/drive/My Drive/2022-06-10-labo-cg-2022-09-27/config.yaml'"
            ],
            "application/vnd.google.colaboratory.intrinsic+json": {
              "type": "string"
            }
          },
          "metadata": {},
          "execution_count": 19
        }
      ],
      "source": [
        "# PLEASE EDIT THIS:\n",
        "ProjectFolderName = '2022-06-10-labo-cg-2022-09-27'\n",
        "VideoType = 'mp4' #, mp4, MOV, or avi, whatever you uploaded!\n",
        "\n",
        "\n",
        "# No need to edit this, we are going to assume you put videos you want to analyze in the \"videos\" folder, but if this is NOT true, edit below:\n",
        "videofile_path = ['/content/drive/My Drive/'+ProjectFolderName+'/videos/'] #Enter the list of videos or folder to analyze.\n",
        "videofile_path\n",
        "\n",
        "#No need to edit this, as you set it when you passed the ProjectFolderName (above): \n",
        "path_config_file = '/content/drive/My Drive/'+ProjectFolderName+'/config.yaml'\n",
        "path_config_file\n",
        "#This creates a path variable that links to your google drive project"
      ]
    },
    {
      "cell_type": "markdown",
      "metadata": {
        "id": "xNi9s1dboEJN"
      },
      "source": [
        "## Create a multi-animal training dataset:\n",
        "\n",
        "- more info: https://deeplabcut.github.io/DeepLabCut/docs/maDLC_UserGuide.html#create-training-dataset\n",
        "\n",
        "- please check the text below, edit if needed, and then click run (this can take some time):"
      ]
    },
    {
      "cell_type": "code",
      "execution_count": null,
      "metadata": {
        "id": "-AAYSoW313me"
      },
      "outputs": [],
      "source": [
        "#OPTIONAL LEARNING: did you know you can check what each function does by running with a ?\n",
        "deeplabcut.create_multianimaltraining_dataset?"
      ]
    },
    {
      "cell_type": "code",
      "execution_count": null,
      "metadata": {
        "id": "eMeUwgxPoEJP",
        "scrolled": true
      },
      "outputs": [],
      "source": [
        "# ATTENTION:\n",
        "#which shuffle do you want to create and train?\n",
        "shuffle = 11 #edit if needed; 1 is the default.\n",
        "\n",
        "#if you labeled on Windows, please set the windows2linux=True:\n",
        "#deeplabcut.create_multianimaltraining_dataset(path_config_file, Shuffles=[shuffle], net_type=\"dlcrnet_ms5\",windows2linux=False)"
      ]
    },
    {
      "cell_type": "markdown",
      "metadata": {
        "id": "c4FczXGDoEJU"
      },
      "source": [
        "## Start training:\n",
        "This function trains the network for a specific shuffle of the training dataset. \n",
        " - more info: https://deeplabcut.github.io/DeepLabCut/docs/maDLC_UserGuide.html#train-the-network"
      ]
    },
    {
      "cell_type": "code",
      "execution_count": null,
      "metadata": {
        "id": "_pOvDq_2oEJW",
        "outputId": "c2dad053-1209-4fb1-f1f2-e725feee945f",
        "colab": {
          "base_uri": "https://localhost:8080/"
        }
      },
      "outputs": [
        {
          "output_type": "stream",
          "name": "stdout",
          "text": [
            "Selecting multi-animal trainer\n"
          ]
        },
        {
          "output_type": "stream",
          "name": "stderr",
          "text": [
            "Config:\n",
            "{'all_joints': [[0], [1], [2], [3], [4], [5], [6], [7]],\n",
            " 'all_joints_names': ['Nose',\n",
            "                      'R_Eye',\n",
            "                      'L_eye',\n",
            "                      'Stomach',\n",
            "                      'T1',\n",
            "                      'T2',\n",
            "                      'T3',\n",
            "                      'T4'],\n",
            " 'alpha_r': 0.02,\n",
            " 'apply_prob': 0.5,\n",
            " 'batch_size': 8,\n",
            " 'contrast': {'clahe': True,\n",
            "              'claheratio': 0.1,\n",
            "              'histeq': True,\n",
            "              'histeqratio': 0.1},\n",
            " 'convolution': {'edge': False,\n",
            "                 'emboss': {'alpha': [0.0, 1.0], 'strength': [0.5, 1.5]},\n",
            "                 'embossratio': 0.1,\n",
            "                 'sharpen': False,\n",
            "                 'sharpenratio': 0.3},\n",
            " 'crop_pad': 0,\n",
            " 'crop_sampling': 'hybrid',\n",
            " 'crop_size': [400, 400],\n",
            " 'cropratio': 0.4,\n",
            " 'dataset': 'training-datasets/iteration-0/UnaugmentedDataSet_2022-06-10-laboSep27/2022-06-10-labo_cg95shuffle11.pickle',\n",
            " 'dataset_type': 'multi-animal-imgaug',\n",
            " 'decay_steps': 30000,\n",
            " 'deterministic': False,\n",
            " 'display_iters': 500,\n",
            " 'fg_fraction': 0.25,\n",
            " 'global_scale': 0.8,\n",
            " 'init_weights': '/content/drive/My '\n",
            "                 'Drive/2022-06-10-labo-cg-2022-09-27/dlc-models/iteration-0/2022-06-10-laboSep27-trainset95shuffle11/train/snapshot-168000',\n",
            " 'intermediate_supervision': False,\n",
            " 'intermediate_supervision_layer': 12,\n",
            " 'location_refinement': True,\n",
            " 'locref_huber_loss': True,\n",
            " 'locref_loss_weight': 0.05,\n",
            " 'locref_stdev': 7.2801,\n",
            " 'log_dir': 'log',\n",
            " 'lr_init': 0.0005,\n",
            " 'max_input_size': 1500,\n",
            " 'max_shift': 0.4,\n",
            " 'mean_pixel': [123.68, 116.779, 103.939],\n",
            " 'metadataset': 'training-datasets/iteration-0/UnaugmentedDataSet_2022-06-10-laboSep27/Documentation_data-2022-06-10-labo_95shuffle11.pickle',\n",
            " 'min_input_size': 64,\n",
            " 'mirror': False,\n",
            " 'multi_stage': True,\n",
            " 'multi_step': [[0.0001, 7500], [5e-05, 12000], [1e-05, 200000]],\n",
            " 'net_type': 'resnet_50',\n",
            " 'num_idchannel': 0,\n",
            " 'num_joints': 8,\n",
            " 'num_limbs': 28,\n",
            " 'optimizer': 'adam',\n",
            " 'pafwidth': 20,\n",
            " 'pairwise_huber_loss': False,\n",
            " 'pairwise_loss_weight': 0.1,\n",
            " 'pairwise_predict': False,\n",
            " 'partaffinityfield_graph': [[0, 1],\n",
            "                             [0, 2],\n",
            "                             [0, 3],\n",
            "                             [0, 4],\n",
            "                             [0, 5],\n",
            "                             [0, 6],\n",
            "                             [0, 7],\n",
            "                             [1, 2],\n",
            "                             [1, 3],\n",
            "                             [1, 4],\n",
            "                             [1, 5],\n",
            "                             [1, 6],\n",
            "                             [1, 7],\n",
            "                             [2, 3],\n",
            "                             [2, 4],\n",
            "                             [2, 5],\n",
            "                             [2, 6],\n",
            "                             [2, 7],\n",
            "                             [3, 4],\n",
            "                             [3, 5],\n",
            "                             [3, 6],\n",
            "                             [3, 7],\n",
            "                             [4, 5],\n",
            "                             [4, 6],\n",
            "                             [4, 7],\n",
            "                             [5, 6],\n",
            "                             [5, 7],\n",
            "                             [6, 7]],\n",
            " 'partaffinityfield_predict': True,\n",
            " 'pos_dist_thresh': 17,\n",
            " 'pre_resize': [],\n",
            " 'project_path': '/content/drive/My Drive/2022-06-10-labo-cg-2022-09-27',\n",
            " 'regularize': False,\n",
            " 'rotation': 25,\n",
            " 'rotratio': 0.4,\n",
            " 'save_iters': 10000,\n",
            " 'scale_jitter_lo': 0.5,\n",
            " 'scale_jitter_up': 1.25,\n",
            " 'scoremap_dir': 'test',\n",
            " 'shuffle': True,\n",
            " 'snapshot_prefix': '/content/drive/My '\n",
            "                    'Drive/2022-06-10-labo-cg-2022-09-27/dlc-models/iteration-0/2022-06-10-laboSep27-trainset95shuffle11/train/snapshot',\n",
            " 'stride': 8.0,\n",
            " 'weigh_negatives': False,\n",
            " 'weigh_only_present_joints': False,\n",
            " 'weigh_part_predictions': False,\n",
            " 'weight_decay': 0.0001}\n"
          ]
        },
        {
          "output_type": "stream",
          "name": "stdout",
          "text": [
            "Activating limb prediction...\n",
            "Batch Size is 8\n",
            "Getting specs multi-animal-imgaug 28 8\n"
          ]
        },
        {
          "output_type": "stream",
          "name": "stderr",
          "text": [
            "/usr/local/lib/python3.7/dist-packages/tensorflow/python/keras/engine/base_layer_v1.py:1694: UserWarning: `layer.apply` is deprecated and will be removed in a future version. Please use `layer.__call__` method instead.\n",
            "  warnings.warn('`layer.apply` is deprecated and '\n",
            "/usr/local/lib/python3.7/dist-packages/tf_slim/layers/layers.py:684: UserWarning: `layer.apply` is deprecated and will be removed in a future version. Please use `layer.__call__` method instead.\n",
            "  outputs = layer.apply(inputs, training=is_training)\n"
          ]
        },
        {
          "output_type": "stream",
          "name": "stdout",
          "text": [
            "Loading already trained DLC with backbone: resnet_50\n",
            "Max_iters overwritten as 75000\n",
            "Display_iters overwritten as 100\n",
            "Save_iters overwritten as 1000\n",
            "Training parameters:\n",
            "{'stride': 8.0, 'weigh_part_predictions': False, 'weigh_negatives': False, 'fg_fraction': 0.25, 'mean_pixel': [123.68, 116.779, 103.939], 'shuffle': True, 'snapshot_prefix': '/content/drive/My Drive/2022-06-10-labo-cg-2022-09-27/dlc-models/iteration-0/2022-06-10-laboSep27-trainset95shuffle11/train/snapshot', 'log_dir': 'log', 'global_scale': 0.8, 'location_refinement': True, 'locref_stdev': 7.2801, 'locref_loss_weight': 0.05, 'locref_huber_loss': True, 'optimizer': 'adam', 'intermediate_supervision': False, 'intermediate_supervision_layer': 12, 'regularize': False, 'weight_decay': 0.0001, 'crop_pad': 0, 'scoremap_dir': 'test', 'batch_size': 8, 'dataset_type': 'multi-animal-imgaug', 'deterministic': False, 'mirror': False, 'pairwise_huber_loss': False, 'weigh_only_present_joints': False, 'partaffinityfield_predict': True, 'pairwise_predict': True, 'all_joints': [[0], [1], [2], [3], [4], [5], [6], [7]], 'all_joints_names': ['Nose', 'R_Eye', 'L_eye', 'Stomach', 'T1', 'T2', 'T3', 'T4'], 'alpha_r': 0.02, 'apply_prob': 0.5, 'contrast': {'clahe': True, 'claheratio': 0.1, 'histeq': True, 'histeqratio': 0.1, 'gamma': False, 'sigmoid': False, 'log': False, 'linear': False}, 'convolution': {'edge': False, 'emboss': {'alpha': [0.0, 1.0], 'strength': [0.5, 1.5]}, 'embossratio': 0.1, 'sharpen': False, 'sharpenratio': 0.3}, 'crop_sampling': 'hybrid', 'crop_size': [400, 400], 'cropratio': 0.4, 'dataset': 'training-datasets/iteration-0/UnaugmentedDataSet_2022-06-10-laboSep27/2022-06-10-labo_cg95shuffle11.pickle', 'decay_steps': 30000, 'display_iters': 500, 'init_weights': '/content/drive/My Drive/2022-06-10-labo-cg-2022-09-27/dlc-models/iteration-0/2022-06-10-laboSep27-trainset95shuffle11/train/snapshot-168000', 'lr_init': 0.0005, 'max_input_size': 1500, 'max_shift': 0.4, 'metadataset': 'training-datasets/iteration-0/UnaugmentedDataSet_2022-06-10-laboSep27/Documentation_data-2022-06-10-labo_95shuffle11.pickle', 'min_input_size': 64, 'multi_stage': True, 'multi_step': [[0.0001, 7500], [5e-05, 12000], [1e-05, 200000]], 'net_type': 'resnet_50', 'num_idchannel': 0, 'num_joints': 8, 'num_limbs': 28, 'pafwidth': 20, 'pairwise_loss_weight': 0.1, 'partaffinityfield_graph': [[0, 1], [0, 2], [0, 3], [0, 4], [0, 5], [0, 6], [0, 7], [1, 2], [1, 3], [1, 4], [1, 5], [1, 6], [1, 7], [2, 3], [2, 4], [2, 5], [2, 6], [2, 7], [3, 4], [3, 5], [3, 6], [3, 7], [4, 5], [4, 6], [4, 7], [5, 6], [5, 7], [6, 7]], 'pos_dist_thresh': 17, 'pre_resize': [], 'project_path': '/content/drive/My Drive/2022-06-10-labo-cg-2022-09-27', 'rotation': 25, 'rotratio': 0.4, 'save_iters': 10000, 'scale_jitter_lo': 0.5, 'scale_jitter_up': 1.25}\n",
            "Starting multi-animal training....\n"
          ]
        },
        {
          "output_type": "stream",
          "name": "stderr",
          "text": [
            "iteration: 168100 loss: 0.0053 scmap loss: 0.0049 locref loss: 0.0001 limb loss: 0.0003 lr: 0.0001\n",
            "iteration: 168200 loss: 0.0054 scmap loss: 0.0050 locref loss: 0.0001 limb loss: 0.0003 lr: 0.0001\n",
            "iteration: 168300 loss: 0.0059 scmap loss: 0.0055 locref loss: 0.0001 limb loss: 0.0003 lr: 0.0001\n",
            "iteration: 168400 loss: 0.0058 scmap loss: 0.0054 locref loss: 0.0001 limb loss: 0.0003 lr: 0.0001\n",
            "iteration: 168500 loss: 0.0058 scmap loss: 0.0054 locref loss: 0.0001 limb loss: 0.0003 lr: 0.0001\n",
            "iteration: 168600 loss: 0.0060 scmap loss: 0.0056 locref loss: 0.0001 limb loss: 0.0003 lr: 0.0001\n",
            "iteration: 168700 loss: 0.0060 scmap loss: 0.0056 locref loss: 0.0001 limb loss: 0.0003 lr: 0.0001\n",
            "iteration: 168800 loss: 0.0057 scmap loss: 0.0053 locref loss: 0.0001 limb loss: 0.0003 lr: 0.0001\n",
            "iteration: 168900 loss: 0.0061 scmap loss: 0.0057 locref loss: 0.0001 limb loss: 0.0003 lr: 0.0001\n",
            "iteration: 169000 loss: 0.0061 scmap loss: 0.0056 locref loss: 0.0001 limb loss: 0.0004 lr: 0.0001\n",
            "iteration: 169100 loss: 0.0062 scmap loss: 0.0058 locref loss: 0.0001 limb loss: 0.0003 lr: 0.0001\n",
            "iteration: 169200 loss: 0.0061 scmap loss: 0.0057 locref loss: 0.0001 limb loss: 0.0004 lr: 0.0001\n",
            "iteration: 169300 loss: 0.0061 scmap loss: 0.0057 locref loss: 0.0001 limb loss: 0.0003 lr: 0.0001\n",
            "iteration: 169400 loss: 0.0061 scmap loss: 0.0056 locref loss: 0.0001 limb loss: 0.0004 lr: 0.0001\n",
            "iteration: 169500 loss: 0.0061 scmap loss: 0.0057 locref loss: 0.0001 limb loss: 0.0003 lr: 0.0001\n",
            "iteration: 169600 loss: 0.0061 scmap loss: 0.0057 locref loss: 0.0001 limb loss: 0.0003 lr: 0.0001\n",
            "iteration: 169700 loss: 0.0060 scmap loss: 0.0056 locref loss: 0.0001 limb loss: 0.0004 lr: 0.0001\n",
            "iteration: 169800 loss: 0.0060 scmap loss: 0.0055 locref loss: 0.0001 limb loss: 0.0003 lr: 0.0001\n",
            "iteration: 169900 loss: 0.0062 scmap loss: 0.0058 locref loss: 0.0001 limb loss: 0.0003 lr: 0.0001\n",
            "iteration: 170000 loss: 0.0060 scmap loss: 0.0056 locref loss: 0.0001 limb loss: 0.0003 lr: 0.0001\n",
            "iteration: 170100 loss: 0.0061 scmap loss: 0.0057 locref loss: 0.0001 limb loss: 0.0003 lr: 0.0001\n",
            "iteration: 170200 loss: 0.0061 scmap loss: 0.0056 locref loss: 0.0001 limb loss: 0.0003 lr: 0.0001\n",
            "iteration: 170300 loss: 0.0063 scmap loss: 0.0059 locref loss: 0.0001 limb loss: 0.0004 lr: 0.0001\n",
            "iteration: 170400 loss: 0.0062 scmap loss: 0.0057 locref loss: 0.0001 limb loss: 0.0004 lr: 0.0001\n",
            "iteration: 170500 loss: 0.0061 scmap loss: 0.0056 locref loss: 0.0001 limb loss: 0.0003 lr: 0.0001\n",
            "iteration: 170600 loss: 0.0063 scmap loss: 0.0059 locref loss: 0.0001 limb loss: 0.0003 lr: 0.0001\n",
            "iteration: 170700 loss: 0.0061 scmap loss: 0.0057 locref loss: 0.0001 limb loss: 0.0003 lr: 0.0001\n",
            "iteration: 170800 loss: 0.0061 scmap loss: 0.0057 locref loss: 0.0001 limb loss: 0.0004 lr: 0.0001\n",
            "iteration: 170900 loss: 0.0062 scmap loss: 0.0058 locref loss: 0.0001 limb loss: 0.0003 lr: 0.0001\n",
            "iteration: 171000 loss: 0.0061 scmap loss: 0.0057 locref loss: 0.0001 limb loss: 0.0003 lr: 0.0001\n",
            "iteration: 171100 loss: 0.0062 scmap loss: 0.0058 locref loss: 0.0001 limb loss: 0.0003 lr: 0.0001\n",
            "iteration: 171200 loss: 0.0061 scmap loss: 0.0057 locref loss: 0.0001 limb loss: 0.0003 lr: 0.0001\n",
            "iteration: 171300 loss: 0.0061 scmap loss: 0.0056 locref loss: 0.0001 limb loss: 0.0003 lr: 0.0001\n",
            "iteration: 171400 loss: 0.0060 scmap loss: 0.0056 locref loss: 0.0001 limb loss: 0.0003 lr: 0.0001\n",
            "iteration: 171500 loss: 0.0061 scmap loss: 0.0056 locref loss: 0.0001 limb loss: 0.0003 lr: 0.0001\n",
            "iteration: 171600 loss: 0.0062 scmap loss: 0.0057 locref loss: 0.0001 limb loss: 0.0004 lr: 0.0001\n",
            "iteration: 171700 loss: 0.0059 scmap loss: 0.0055 locref loss: 0.0001 limb loss: 0.0003 lr: 0.0001\n",
            "iteration: 171800 loss: 0.0061 scmap loss: 0.0057 locref loss: 0.0001 limb loss: 0.0004 lr: 0.0001\n",
            "iteration: 171900 loss: 0.0063 scmap loss: 0.0058 locref loss: 0.0001 limb loss: 0.0004 lr: 0.0001\n",
            "iteration: 172000 loss: 0.0061 scmap loss: 0.0057 locref loss: 0.0001 limb loss: 0.0003 lr: 0.0001\n",
            "iteration: 172100 loss: 0.0064 scmap loss: 0.0059 locref loss: 0.0001 limb loss: 0.0004 lr: 0.0001\n",
            "iteration: 172200 loss: 0.0060 scmap loss: 0.0056 locref loss: 0.0001 limb loss: 0.0003 lr: 0.0001\n",
            "iteration: 172300 loss: 0.0061 scmap loss: 0.0057 locref loss: 0.0001 limb loss: 0.0003 lr: 0.0001\n",
            "iteration: 172400 loss: 0.0063 scmap loss: 0.0058 locref loss: 0.0001 limb loss: 0.0004 lr: 0.0001\n",
            "iteration: 172500 loss: 0.0062 scmap loss: 0.0057 locref loss: 0.0001 limb loss: 0.0003 lr: 0.0001\n",
            "iteration: 172600 loss: 0.0060 scmap loss: 0.0056 locref loss: 0.0001 limb loss: 0.0003 lr: 0.0001\n",
            "iteration: 172700 loss: 0.0061 scmap loss: 0.0056 locref loss: 0.0001 limb loss: 0.0004 lr: 0.0001\n",
            "iteration: 172800 loss: 0.0062 scmap loss: 0.0057 locref loss: 0.0001 limb loss: 0.0003 lr: 0.0001\n",
            "iteration: 172900 loss: 0.0059 scmap loss: 0.0055 locref loss: 0.0001 limb loss: 0.0003 lr: 0.0001\n",
            "iteration: 173000 loss: 0.0061 scmap loss: 0.0057 locref loss: 0.0001 limb loss: 0.0003 lr: 0.0001\n",
            "iteration: 173100 loss: 0.0066 scmap loss: 0.0061 locref loss: 0.0001 limb loss: 0.0003 lr: 0.0001\n",
            "iteration: 173200 loss: 0.0062 scmap loss: 0.0058 locref loss: 0.0001 limb loss: 0.0003 lr: 0.0001\n",
            "iteration: 173300 loss: 0.0061 scmap loss: 0.0056 locref loss: 0.0001 limb loss: 0.0004 lr: 0.0001\n",
            "iteration: 173400 loss: 0.0061 scmap loss: 0.0057 locref loss: 0.0001 limb loss: 0.0003 lr: 0.0001\n",
            "iteration: 173500 loss: 0.0060 scmap loss: 0.0056 locref loss: 0.0001 limb loss: 0.0004 lr: 0.0001\n",
            "iteration: 173600 loss: 0.0063 scmap loss: 0.0058 locref loss: 0.0001 limb loss: 0.0004 lr: 0.0001\n",
            "iteration: 173700 loss: 0.0062 scmap loss: 0.0058 locref loss: 0.0001 limb loss: 0.0003 lr: 0.0001\n",
            "iteration: 173800 loss: 0.0060 scmap loss: 0.0056 locref loss: 0.0001 limb loss: 0.0004 lr: 0.0001\n",
            "iteration: 173900 loss: 0.0059 scmap loss: 0.0055 locref loss: 0.0001 limb loss: 0.0003 lr: 0.0001\n",
            "iteration: 174000 loss: 0.0061 scmap loss: 0.0056 locref loss: 0.0001 limb loss: 0.0004 lr: 0.0001\n",
            "iteration: 174100 loss: 0.0061 scmap loss: 0.0057 locref loss: 0.0001 limb loss: 0.0004 lr: 0.0001\n",
            "iteration: 174200 loss: 0.0062 scmap loss: 0.0058 locref loss: 0.0001 limb loss: 0.0003 lr: 0.0001\n",
            "iteration: 174300 loss: 0.0061 scmap loss: 0.0057 locref loss: 0.0001 limb loss: 0.0003 lr: 0.0001\n",
            "iteration: 174400 loss: 0.0061 scmap loss: 0.0057 locref loss: 0.0001 limb loss: 0.0003 lr: 0.0001\n",
            "iteration: 174500 loss: 0.0061 scmap loss: 0.0056 locref loss: 0.0001 limb loss: 0.0004 lr: 0.0001\n",
            "iteration: 174600 loss: 0.0061 scmap loss: 0.0057 locref loss: 0.0001 limb loss: 0.0003 lr: 0.0001\n",
            "iteration: 174700 loss: 0.0058 scmap loss: 0.0054 locref loss: 0.0001 limb loss: 0.0003 lr: 0.0001\n",
            "iteration: 174800 loss: 0.0062 scmap loss: 0.0057 locref loss: 0.0001 limb loss: 0.0004 lr: 0.0001\n",
            "iteration: 174900 loss: 0.0063 scmap loss: 0.0058 locref loss: 0.0001 limb loss: 0.0004 lr: 0.0001\n",
            "iteration: 175000 loss: 0.0062 scmap loss: 0.0057 locref loss: 0.0001 limb loss: 0.0004 lr: 0.0001\n",
            "iteration: 175100 loss: 0.0062 scmap loss: 0.0057 locref loss: 0.0001 limb loss: 0.0003 lr: 0.0001\n",
            "iteration: 175200 loss: 0.0062 scmap loss: 0.0058 locref loss: 0.0001 limb loss: 0.0003 lr: 0.0001\n",
            "iteration: 175300 loss: 0.0061 scmap loss: 0.0057 locref loss: 0.0001 limb loss: 0.0004 lr: 0.0001\n",
            "iteration: 175400 loss: 0.0061 scmap loss: 0.0056 locref loss: 0.0001 limb loss: 0.0003 lr: 0.0001\n",
            "iteration: 175500 loss: 0.0060 scmap loss: 0.0056 locref loss: 0.0001 limb loss: 0.0003 lr: 0.0001\n",
            "iteration: 175600 loss: 0.0062 scmap loss: 0.0058 locref loss: 0.0001 limb loss: 0.0003 lr: 5e-05\n",
            "iteration: 175700 loss: 0.0060 scmap loss: 0.0056 locref loss: 0.0001 limb loss: 0.0003 lr: 5e-05\n",
            "iteration: 175800 loss: 0.0060 scmap loss: 0.0056 locref loss: 0.0001 limb loss: 0.0003 lr: 5e-05\n",
            "iteration: 175900 loss: 0.0057 scmap loss: 0.0053 locref loss: 0.0001 limb loss: 0.0003 lr: 5e-05\n",
            "iteration: 176000 loss: 0.0059 scmap loss: 0.0054 locref loss: 0.0001 limb loss: 0.0004 lr: 5e-05\n",
            "iteration: 176100 loss: 0.0058 scmap loss: 0.0054 locref loss: 0.0001 limb loss: 0.0003 lr: 5e-05\n",
            "iteration: 176200 loss: 0.0058 scmap loss: 0.0054 locref loss: 0.0001 limb loss: 0.0003 lr: 5e-05\n",
            "iteration: 176300 loss: 0.0057 scmap loss: 0.0053 locref loss: 0.0001 limb loss: 0.0003 lr: 5e-05\n",
            "iteration: 176400 loss: 0.0056 scmap loss: 0.0052 locref loss: 0.0001 limb loss: 0.0003 lr: 5e-05\n",
            "iteration: 176500 loss: 0.0058 scmap loss: 0.0054 locref loss: 0.0001 limb loss: 0.0003 lr: 5e-05\n",
            "iteration: 176600 loss: 0.0057 scmap loss: 0.0053 locref loss: 0.0001 limb loss: 0.0003 lr: 5e-05\n",
            "iteration: 176700 loss: 0.0057 scmap loss: 0.0052 locref loss: 0.0001 limb loss: 0.0003 lr: 5e-05\n",
            "iteration: 176800 loss: 0.0057 scmap loss: 0.0053 locref loss: 0.0001 limb loss: 0.0003 lr: 5e-05\n",
            "iteration: 176900 loss: 0.0057 scmap loss: 0.0053 locref loss: 0.0001 limb loss: 0.0003 lr: 5e-05\n",
            "iteration: 177000 loss: 0.0056 scmap loss: 0.0052 locref loss: 0.0001 limb loss: 0.0003 lr: 5e-05\n",
            "iteration: 177100 loss: 0.0056 scmap loss: 0.0052 locref loss: 0.0001 limb loss: 0.0003 lr: 5e-05\n",
            "iteration: 177200 loss: 0.0055 scmap loss: 0.0051 locref loss: 0.0001 limb loss: 0.0003 lr: 5e-05\n",
            "iteration: 177300 loss: 0.0053 scmap loss: 0.0049 locref loss: 0.0001 limb loss: 0.0003 lr: 5e-05\n",
            "iteration: 177400 loss: 0.0054 scmap loss: 0.0050 locref loss: 0.0001 limb loss: 0.0003 lr: 5e-05\n",
            "iteration: 177500 loss: 0.0055 scmap loss: 0.0051 locref loss: 0.0001 limb loss: 0.0003 lr: 5e-05\n",
            "iteration: 177600 loss: 0.0054 scmap loss: 0.0050 locref loss: 0.0001 limb loss: 0.0003 lr: 5e-05\n",
            "iteration: 177700 loss: 0.0055 scmap loss: 0.0051 locref loss: 0.0001 limb loss: 0.0003 lr: 5e-05\n",
            "iteration: 177800 loss: 0.0056 scmap loss: 0.0052 locref loss: 0.0001 limb loss: 0.0003 lr: 5e-05\n",
            "iteration: 177900 loss: 0.0056 scmap loss: 0.0052 locref loss: 0.0001 limb loss: 0.0003 lr: 5e-05\n",
            "iteration: 178000 loss: 0.0055 scmap loss: 0.0051 locref loss: 0.0001 limb loss: 0.0003 lr: 5e-05\n",
            "iteration: 178100 loss: 0.0054 scmap loss: 0.0050 locref loss: 0.0001 limb loss: 0.0003 lr: 5e-05\n",
            "iteration: 178200 loss: 0.0054 scmap loss: 0.0050 locref loss: 0.0001 limb loss: 0.0003 lr: 5e-05\n",
            "iteration: 178300 loss: 0.0055 scmap loss: 0.0051 locref loss: 0.0001 limb loss: 0.0003 lr: 5e-05\n",
            "iteration: 178400 loss: 0.0054 scmap loss: 0.0050 locref loss: 0.0001 limb loss: 0.0003 lr: 5e-05\n",
            "iteration: 178500 loss: 0.0055 scmap loss: 0.0051 locref loss: 0.0001 limb loss: 0.0003 lr: 5e-05\n",
            "iteration: 178600 loss: 0.0054 scmap loss: 0.0050 locref loss: 0.0001 limb loss: 0.0003 lr: 5e-05\n",
            "iteration: 178700 loss: 0.0054 scmap loss: 0.0050 locref loss: 0.0001 limb loss: 0.0003 lr: 5e-05\n",
            "iteration: 178800 loss: 0.0055 scmap loss: 0.0051 locref loss: 0.0001 limb loss: 0.0003 lr: 5e-05\n",
            "iteration: 178900 loss: 0.0054 scmap loss: 0.0050 locref loss: 0.0001 limb loss: 0.0003 lr: 5e-05\n",
            "iteration: 179000 loss: 0.0054 scmap loss: 0.0050 locref loss: 0.0001 limb loss: 0.0003 lr: 5e-05\n",
            "iteration: 179100 loss: 0.0055 scmap loss: 0.0051 locref loss: 0.0001 limb loss: 0.0003 lr: 5e-05\n",
            "iteration: 179200 loss: 0.0053 scmap loss: 0.0049 locref loss: 0.0001 limb loss: 0.0003 lr: 5e-05\n",
            "iteration: 179300 loss: 0.0054 scmap loss: 0.0050 locref loss: 0.0001 limb loss: 0.0003 lr: 5e-05\n",
            "iteration: 179400 loss: 0.0054 scmap loss: 0.0050 locref loss: 0.0001 limb loss: 0.0003 lr: 5e-05\n",
            "iteration: 179500 loss: 0.0053 scmap loss: 0.0049 locref loss: 0.0001 limb loss: 0.0003 lr: 5e-05\n",
            "iteration: 179600 loss: 0.0053 scmap loss: 0.0049 locref loss: 0.0001 limb loss: 0.0003 lr: 5e-05\n",
            "iteration: 179700 loss: 0.0053 scmap loss: 0.0049 locref loss: 0.0001 limb loss: 0.0003 lr: 5e-05\n",
            "iteration: 179800 loss: 0.0052 scmap loss: 0.0048 locref loss: 0.0001 limb loss: 0.0003 lr: 5e-05\n",
            "iteration: 179900 loss: 0.0054 scmap loss: 0.0050 locref loss: 0.0001 limb loss: 0.0003 lr: 5e-05\n",
            "iteration: 180000 loss: 0.0054 scmap loss: 0.0050 locref loss: 0.0001 limb loss: 0.0003 lr: 5e-05\n",
            "iteration: 180100 loss: 0.0059 scmap loss: 0.0055 locref loss: 0.0001 limb loss: 0.0003 lr: 1e-05\n",
            "iteration: 180200 loss: 0.0058 scmap loss: 0.0053 locref loss: 0.0001 limb loss: 0.0003 lr: 1e-05\n",
            "iteration: 180300 loss: 0.0056 scmap loss: 0.0052 locref loss: 0.0001 limb loss: 0.0003 lr: 1e-05\n",
            "iteration: 180400 loss: 0.0057 scmap loss: 0.0053 locref loss: 0.0001 limb loss: 0.0003 lr: 1e-05\n",
            "iteration: 180500 loss: 0.0056 scmap loss: 0.0052 locref loss: 0.0001 limb loss: 0.0003 lr: 1e-05\n",
            "iteration: 180600 loss: 0.0057 scmap loss: 0.0053 locref loss: 0.0001 limb loss: 0.0003 lr: 1e-05\n",
            "iteration: 180700 loss: 0.0056 scmap loss: 0.0052 locref loss: 0.0001 limb loss: 0.0003 lr: 1e-05\n",
            "iteration: 180800 loss: 0.0056 scmap loss: 0.0052 locref loss: 0.0001 limb loss: 0.0003 lr: 1e-05\n",
            "iteration: 180900 loss: 0.0055 scmap loss: 0.0051 locref loss: 0.0001 limb loss: 0.0003 lr: 1e-05\n",
            "iteration: 181000 loss: 0.0055 scmap loss: 0.0051 locref loss: 0.0001 limb loss: 0.0003 lr: 1e-05\n",
            "iteration: 181100 loss: 0.0053 scmap loss: 0.0050 locref loss: 0.0001 limb loss: 0.0003 lr: 1e-05\n",
            "iteration: 181200 loss: 0.0054 scmap loss: 0.0050 locref loss: 0.0001 limb loss: 0.0003 lr: 1e-05\n",
            "iteration: 181300 loss: 0.0056 scmap loss: 0.0052 locref loss: 0.0001 limb loss: 0.0003 lr: 1e-05\n",
            "iteration: 181400 loss: 0.0054 scmap loss: 0.0050 locref loss: 0.0001 limb loss: 0.0003 lr: 1e-05\n",
            "iteration: 181500 loss: 0.0054 scmap loss: 0.0051 locref loss: 0.0001 limb loss: 0.0003 lr: 1e-05\n",
            "iteration: 181600 loss: 0.0055 scmap loss: 0.0051 locref loss: 0.0001 limb loss: 0.0003 lr: 1e-05\n",
            "iteration: 181700 loss: 0.0054 scmap loss: 0.0050 locref loss: 0.0001 limb loss: 0.0003 lr: 1e-05\n",
            "iteration: 181800 loss: 0.0053 scmap loss: 0.0049 locref loss: 0.0001 limb loss: 0.0003 lr: 1e-05\n",
            "iteration: 181900 loss: 0.0055 scmap loss: 0.0051 locref loss: 0.0001 limb loss: 0.0003 lr: 1e-05\n",
            "iteration: 182000 loss: 0.0054 scmap loss: 0.0050 locref loss: 0.0001 limb loss: 0.0003 lr: 1e-05\n",
            "iteration: 182100 loss: 0.0054 scmap loss: 0.0050 locref loss: 0.0001 limb loss: 0.0003 lr: 1e-05\n",
            "iteration: 182200 loss: 0.0054 scmap loss: 0.0050 locref loss: 0.0001 limb loss: 0.0003 lr: 1e-05\n",
            "iteration: 182300 loss: 0.0055 scmap loss: 0.0050 locref loss: 0.0001 limb loss: 0.0003 lr: 1e-05\n",
            "iteration: 182400 loss: 0.0053 scmap loss: 0.0050 locref loss: 0.0001 limb loss: 0.0003 lr: 1e-05\n",
            "iteration: 182500 loss: 0.0054 scmap loss: 0.0050 locref loss: 0.0001 limb loss: 0.0003 lr: 1e-05\n",
            "iteration: 182600 loss: 0.0053 scmap loss: 0.0049 locref loss: 0.0001 limb loss: 0.0003 lr: 1e-05\n",
            "iteration: 182700 loss: 0.0054 scmap loss: 0.0050 locref loss: 0.0001 limb loss: 0.0003 lr: 1e-05\n",
            "iteration: 182800 loss: 0.0054 scmap loss: 0.0050 locref loss: 0.0001 limb loss: 0.0003 lr: 1e-05\n",
            "iteration: 182900 loss: 0.0053 scmap loss: 0.0049 locref loss: 0.0001 limb loss: 0.0003 lr: 1e-05\n",
            "iteration: 183000 loss: 0.0053 scmap loss: 0.0049 locref loss: 0.0001 limb loss: 0.0003 lr: 1e-05\n",
            "iteration: 183100 loss: 0.0053 scmap loss: 0.0049 locref loss: 0.0001 limb loss: 0.0003 lr: 1e-05\n",
            "iteration: 183200 loss: 0.0053 scmap loss: 0.0049 locref loss: 0.0001 limb loss: 0.0003 lr: 1e-05\n",
            "iteration: 183300 loss: 0.0052 scmap loss: 0.0048 locref loss: 0.0001 limb loss: 0.0003 lr: 1e-05\n",
            "iteration: 183400 loss: 0.0053 scmap loss: 0.0049 locref loss: 0.0001 limb loss: 0.0003 lr: 1e-05\n",
            "iteration: 183500 loss: 0.0052 scmap loss: 0.0049 locref loss: 0.0001 limb loss: 0.0003 lr: 1e-05\n",
            "iteration: 183600 loss: 0.0053 scmap loss: 0.0049 locref loss: 0.0001 limb loss: 0.0003 lr: 1e-05\n",
            "iteration: 183700 loss: 0.0052 scmap loss: 0.0048 locref loss: 0.0001 limb loss: 0.0003 lr: 1e-05\n",
            "iteration: 183800 loss: 0.0052 scmap loss: 0.0048 locref loss: 0.0001 limb loss: 0.0003 lr: 1e-05\n",
            "iteration: 183900 loss: 0.0052 scmap loss: 0.0048 locref loss: 0.0001 limb loss: 0.0003 lr: 1e-05\n",
            "iteration: 184000 loss: 0.0052 scmap loss: 0.0048 locref loss: 0.0001 limb loss: 0.0003 lr: 1e-05\n",
            "iteration: 184100 loss: 0.0053 scmap loss: 0.0049 locref loss: 0.0001 limb loss: 0.0003 lr: 1e-05\n",
            "iteration: 184200 loss: 0.0054 scmap loss: 0.0050 locref loss: 0.0001 limb loss: 0.0003 lr: 1e-05\n",
            "iteration: 184300 loss: 0.0052 scmap loss: 0.0048 locref loss: 0.0001 limb loss: 0.0003 lr: 1e-05\n",
            "iteration: 184400 loss: 0.0054 scmap loss: 0.0050 locref loss: 0.0001 limb loss: 0.0003 lr: 1e-05\n",
            "iteration: 184500 loss: 0.0052 scmap loss: 0.0048 locref loss: 0.0001 limb loss: 0.0003 lr: 1e-05\n",
            "iteration: 184600 loss: 0.0053 scmap loss: 0.0049 locref loss: 0.0001 limb loss: 0.0003 lr: 1e-05\n",
            "iteration: 184700 loss: 0.0052 scmap loss: 0.0048 locref loss: 0.0001 limb loss: 0.0003 lr: 1e-05\n",
            "iteration: 184800 loss: 0.0053 scmap loss: 0.0049 locref loss: 0.0001 limb loss: 0.0003 lr: 1e-05\n",
            "iteration: 184900 loss: 0.0053 scmap loss: 0.0049 locref loss: 0.0001 limb loss: 0.0003 lr: 1e-05\n",
            "iteration: 185000 loss: 0.0052 scmap loss: 0.0048 locref loss: 0.0001 limb loss: 0.0003 lr: 1e-05\n",
            "iteration: 185100 loss: 0.0052 scmap loss: 0.0048 locref loss: 0.0001 limb loss: 0.0003 lr: 1e-05\n",
            "iteration: 185200 loss: 0.0051 scmap loss: 0.0047 locref loss: 0.0001 limb loss: 0.0003 lr: 1e-05\n",
            "iteration: 185300 loss: 0.0053 scmap loss: 0.0049 locref loss: 0.0001 limb loss: 0.0003 lr: 1e-05\n",
            "iteration: 185400 loss: 0.0052 scmap loss: 0.0048 locref loss: 0.0001 limb loss: 0.0003 lr: 1e-05\n",
            "iteration: 185500 loss: 0.0051 scmap loss: 0.0047 locref loss: 0.0001 limb loss: 0.0003 lr: 1e-05\n",
            "iteration: 185600 loss: 0.0053 scmap loss: 0.0049 locref loss: 0.0001 limb loss: 0.0003 lr: 1e-05\n",
            "iteration: 185700 loss: 0.0052 scmap loss: 0.0049 locref loss: 0.0001 limb loss: 0.0003 lr: 1e-05\n",
            "iteration: 185800 loss: 0.0052 scmap loss: 0.0048 locref loss: 0.0001 limb loss: 0.0003 lr: 1e-05\n",
            "iteration: 185900 loss: 0.0054 scmap loss: 0.0050 locref loss: 0.0001 limb loss: 0.0003 lr: 1e-05\n",
            "iteration: 186000 loss: 0.0053 scmap loss: 0.0049 locref loss: 0.0001 limb loss: 0.0003 lr: 1e-05\n",
            "iteration: 186100 loss: 0.0051 scmap loss: 0.0048 locref loss: 0.0001 limb loss: 0.0003 lr: 1e-05\n",
            "iteration: 186200 loss: 0.0052 scmap loss: 0.0048 locref loss: 0.0001 limb loss: 0.0003 lr: 1e-05\n",
            "iteration: 186300 loss: 0.0052 scmap loss: 0.0048 locref loss: 0.0001 limb loss: 0.0003 lr: 1e-05\n",
            "iteration: 186400 loss: 0.0054 scmap loss: 0.0050 locref loss: 0.0001 limb loss: 0.0003 lr: 1e-05\n",
            "iteration: 186500 loss: 0.0051 scmap loss: 0.0048 locref loss: 0.0001 limb loss: 0.0003 lr: 1e-05\n",
            "iteration: 186600 loss: 0.0051 scmap loss: 0.0047 locref loss: 0.0001 limb loss: 0.0003 lr: 1e-05\n",
            "iteration: 186700 loss: 0.0051 scmap loss: 0.0048 locref loss: 0.0001 limb loss: 0.0003 lr: 1e-05\n",
            "iteration: 186800 loss: 0.0052 scmap loss: 0.0049 locref loss: 0.0001 limb loss: 0.0003 lr: 1e-05\n",
            "iteration: 186900 loss: 0.0053 scmap loss: 0.0049 locref loss: 0.0001 limb loss: 0.0003 lr: 1e-05\n",
            "iteration: 187000 loss: 0.0052 scmap loss: 0.0048 locref loss: 0.0001 limb loss: 0.0003 lr: 1e-05\n",
            "iteration: 187100 loss: 0.0051 scmap loss: 0.0047 locref loss: 0.0001 limb loss: 0.0003 lr: 1e-05\n",
            "iteration: 187200 loss: 0.0051 scmap loss: 0.0047 locref loss: 0.0001 limb loss: 0.0003 lr: 1e-05\n",
            "iteration: 187300 loss: 0.0052 scmap loss: 0.0048 locref loss: 0.0001 limb loss: 0.0003 lr: 1e-05\n",
            "iteration: 187400 loss: 0.0051 scmap loss: 0.0048 locref loss: 0.0001 limb loss: 0.0003 lr: 1e-05\n",
            "iteration: 187500 loss: 0.0050 scmap loss: 0.0046 locref loss: 0.0001 limb loss: 0.0003 lr: 1e-05\n",
            "iteration: 187600 loss: 0.0051 scmap loss: 0.0047 locref loss: 0.0001 limb loss: 0.0003 lr: 1e-05\n",
            "iteration: 187700 loss: 0.0052 scmap loss: 0.0048 locref loss: 0.0001 limb loss: 0.0003 lr: 1e-05\n",
            "iteration: 187800 loss: 0.0051 scmap loss: 0.0047 locref loss: 0.0001 limb loss: 0.0003 lr: 1e-05\n",
            "iteration: 187900 loss: 0.0049 scmap loss: 0.0046 locref loss: 0.0001 limb loss: 0.0003 lr: 1e-05\n",
            "iteration: 188000 loss: 0.0051 scmap loss: 0.0047 locref loss: 0.0001 limb loss: 0.0003 lr: 1e-05\n",
            "iteration: 188100 loss: 0.0051 scmap loss: 0.0047 locref loss: 0.0001 limb loss: 0.0003 lr: 1e-05\n",
            "iteration: 188200 loss: 0.0051 scmap loss: 0.0047 locref loss: 0.0001 limb loss: 0.0003 lr: 1e-05\n",
            "iteration: 188300 loss: 0.0051 scmap loss: 0.0047 locref loss: 0.0001 limb loss: 0.0003 lr: 1e-05\n",
            "iteration: 188400 loss: 0.0052 scmap loss: 0.0048 locref loss: 0.0001 limb loss: 0.0003 lr: 1e-05\n",
            "iteration: 188500 loss: 0.0052 scmap loss: 0.0048 locref loss: 0.0001 limb loss: 0.0003 lr: 1e-05\n",
            "iteration: 188600 loss: 0.0052 scmap loss: 0.0048 locref loss: 0.0001 limb loss: 0.0003 lr: 1e-05\n",
            "iteration: 188700 loss: 0.0050 scmap loss: 0.0046 locref loss: 0.0001 limb loss: 0.0003 lr: 1e-05\n",
            "iteration: 188800 loss: 0.0051 scmap loss: 0.0047 locref loss: 0.0001 limb loss: 0.0003 lr: 1e-05\n",
            "iteration: 188900 loss: 0.0052 scmap loss: 0.0049 locref loss: 0.0001 limb loss: 0.0003 lr: 1e-05\n",
            "iteration: 189000 loss: 0.0051 scmap loss: 0.0047 locref loss: 0.0001 limb loss: 0.0003 lr: 1e-05\n",
            "iteration: 189100 loss: 0.0050 scmap loss: 0.0046 locref loss: 0.0001 limb loss: 0.0003 lr: 1e-05\n",
            "iteration: 189200 loss: 0.0050 scmap loss: 0.0047 locref loss: 0.0001 limb loss: 0.0003 lr: 1e-05\n",
            "iteration: 189300 loss: 0.0051 scmap loss: 0.0047 locref loss: 0.0001 limb loss: 0.0003 lr: 1e-05\n",
            "iteration: 189400 loss: 0.0051 scmap loss: 0.0048 locref loss: 0.0001 limb loss: 0.0003 lr: 1e-05\n",
            "iteration: 189500 loss: 0.0051 scmap loss: 0.0047 locref loss: 0.0001 limb loss: 0.0003 lr: 1e-05\n",
            "iteration: 189600 loss: 0.0051 scmap loss: 0.0047 locref loss: 0.0001 limb loss: 0.0003 lr: 1e-05\n",
            "iteration: 189700 loss: 0.0051 scmap loss: 0.0047 locref loss: 0.0001 limb loss: 0.0003 lr: 1e-05\n",
            "iteration: 189800 loss: 0.0051 scmap loss: 0.0047 locref loss: 0.0001 limb loss: 0.0003 lr: 1e-05\n",
            "iteration: 189900 loss: 0.0053 scmap loss: 0.0049 locref loss: 0.0001 limb loss: 0.0003 lr: 1e-05\n",
            "iteration: 190000 loss: 0.0051 scmap loss: 0.0047 locref loss: 0.0001 limb loss: 0.0003 lr: 1e-05\n",
            "iteration: 190100 loss: 0.0051 scmap loss: 0.0047 locref loss: 0.0001 limb loss: 0.0003 lr: 1e-05\n",
            "iteration: 190200 loss: 0.0051 scmap loss: 0.0047 locref loss: 0.0001 limb loss: 0.0003 lr: 1e-05\n",
            "iteration: 190300 loss: 0.0052 scmap loss: 0.0048 locref loss: 0.0001 limb loss: 0.0003 lr: 1e-05\n",
            "iteration: 190400 loss: 0.0052 scmap loss: 0.0049 locref loss: 0.0001 limb loss: 0.0003 lr: 1e-05\n",
            "iteration: 190500 loss: 0.0052 scmap loss: 0.0048 locref loss: 0.0001 limb loss: 0.0003 lr: 1e-05\n",
            "iteration: 190600 loss: 0.0051 scmap loss: 0.0047 locref loss: 0.0001 limb loss: 0.0003 lr: 1e-05\n",
            "iteration: 190700 loss: 0.0050 scmap loss: 0.0047 locref loss: 0.0001 limb loss: 0.0003 lr: 1e-05\n",
            "iteration: 190800 loss: 0.0051 scmap loss: 0.0047 locref loss: 0.0001 limb loss: 0.0003 lr: 1e-05\n",
            "iteration: 190900 loss: 0.0051 scmap loss: 0.0048 locref loss: 0.0001 limb loss: 0.0003 lr: 1e-05\n",
            "iteration: 191000 loss: 0.0051 scmap loss: 0.0047 locref loss: 0.0001 limb loss: 0.0003 lr: 1e-05\n",
            "iteration: 191100 loss: 0.0051 scmap loss: 0.0047 locref loss: 0.0001 limb loss: 0.0003 lr: 1e-05\n",
            "iteration: 191200 loss: 0.0050 scmap loss: 0.0046 locref loss: 0.0001 limb loss: 0.0003 lr: 1e-05\n",
            "iteration: 191300 loss: 0.0051 scmap loss: 0.0047 locref loss: 0.0001 limb loss: 0.0003 lr: 1e-05\n",
            "iteration: 191400 loss: 0.0051 scmap loss: 0.0047 locref loss: 0.0001 limb loss: 0.0003 lr: 1e-05\n",
            "iteration: 191500 loss: 0.0050 scmap loss: 0.0047 locref loss: 0.0001 limb loss: 0.0003 lr: 1e-05\n",
            "iteration: 191600 loss: 0.0051 scmap loss: 0.0047 locref loss: 0.0001 limb loss: 0.0003 lr: 1e-05\n",
            "iteration: 191700 loss: 0.0052 scmap loss: 0.0048 locref loss: 0.0001 limb loss: 0.0003 lr: 1e-05\n",
            "iteration: 191800 loss: 0.0051 scmap loss: 0.0047 locref loss: 0.0001 limb loss: 0.0003 lr: 1e-05\n",
            "iteration: 191900 loss: 0.0051 scmap loss: 0.0047 locref loss: 0.0001 limb loss: 0.0003 lr: 1e-05\n",
            "iteration: 192000 loss: 0.0051 scmap loss: 0.0048 locref loss: 0.0001 limb loss: 0.0003 lr: 1e-05\n",
            "iteration: 192100 loss: 0.0051 scmap loss: 0.0047 locref loss: 0.0001 limb loss: 0.0003 lr: 1e-05\n",
            "iteration: 192200 loss: 0.0052 scmap loss: 0.0048 locref loss: 0.0001 limb loss: 0.0003 lr: 1e-05\n",
            "iteration: 192300 loss: 0.0051 scmap loss: 0.0047 locref loss: 0.0001 limb loss: 0.0003 lr: 1e-05\n",
            "iteration: 192400 loss: 0.0050 scmap loss: 0.0046 locref loss: 0.0001 limb loss: 0.0003 lr: 1e-05\n",
            "iteration: 192500 loss: 0.0049 scmap loss: 0.0045 locref loss: 0.0001 limb loss: 0.0003 lr: 1e-05\n",
            "iteration: 192600 loss: 0.0050 scmap loss: 0.0047 locref loss: 0.0001 limb loss: 0.0003 lr: 1e-05\n",
            "iteration: 192700 loss: 0.0050 scmap loss: 0.0047 locref loss: 0.0001 limb loss: 0.0003 lr: 1e-05\n",
            "iteration: 192800 loss: 0.0051 scmap loss: 0.0047 locref loss: 0.0001 limb loss: 0.0003 lr: 1e-05\n",
            "iteration: 192900 loss: 0.0050 scmap loss: 0.0046 locref loss: 0.0001 limb loss: 0.0003 lr: 1e-05\n",
            "iteration: 193000 loss: 0.0049 scmap loss: 0.0046 locref loss: 0.0001 limb loss: 0.0003 lr: 1e-05\n",
            "iteration: 193100 loss: 0.0050 scmap loss: 0.0047 locref loss: 0.0001 limb loss: 0.0003 lr: 1e-05\n",
            "iteration: 193200 loss: 0.0050 scmap loss: 0.0047 locref loss: 0.0001 limb loss: 0.0003 lr: 1e-05\n",
            "iteration: 193300 loss: 0.0052 scmap loss: 0.0048 locref loss: 0.0001 limb loss: 0.0003 lr: 1e-05\n",
            "iteration: 193400 loss: 0.0050 scmap loss: 0.0047 locref loss: 0.0001 limb loss: 0.0003 lr: 1e-05\n",
            "iteration: 193500 loss: 0.0050 scmap loss: 0.0047 locref loss: 0.0001 limb loss: 0.0003 lr: 1e-05\n",
            "iteration: 193600 loss: 0.0051 scmap loss: 0.0047 locref loss: 0.0001 limb loss: 0.0003 lr: 1e-05\n",
            "iteration: 193700 loss: 0.0051 scmap loss: 0.0047 locref loss: 0.0001 limb loss: 0.0003 lr: 1e-05\n",
            "iteration: 193800 loss: 0.0051 scmap loss: 0.0047 locref loss: 0.0001 limb loss: 0.0003 lr: 1e-05\n",
            "iteration: 193900 loss: 0.0048 scmap loss: 0.0045 locref loss: 0.0001 limb loss: 0.0003 lr: 1e-05\n",
            "iteration: 194000 loss: 0.0050 scmap loss: 0.0047 locref loss: 0.0001 limb loss: 0.0003 lr: 1e-05\n",
            "iteration: 194100 loss: 0.0050 scmap loss: 0.0046 locref loss: 0.0001 limb loss: 0.0003 lr: 1e-05\n",
            "iteration: 194200 loss: 0.0050 scmap loss: 0.0046 locref loss: 0.0001 limb loss: 0.0003 lr: 1e-05\n",
            "iteration: 194300 loss: 0.0049 scmap loss: 0.0046 locref loss: 0.0001 limb loss: 0.0003 lr: 1e-05\n",
            "iteration: 194400 loss: 0.0052 scmap loss: 0.0048 locref loss: 0.0001 limb loss: 0.0003 lr: 1e-05\n",
            "iteration: 194500 loss: 0.0049 scmap loss: 0.0046 locref loss: 0.0001 limb loss: 0.0003 lr: 1e-05\n",
            "iteration: 194600 loss: 0.0050 scmap loss: 0.0046 locref loss: 0.0001 limb loss: 0.0003 lr: 1e-05\n",
            "iteration: 194700 loss: 0.0051 scmap loss: 0.0047 locref loss: 0.0001 limb loss: 0.0003 lr: 1e-05\n",
            "iteration: 194800 loss: 0.0051 scmap loss: 0.0047 locref loss: 0.0001 limb loss: 0.0003 lr: 1e-05\n",
            "iteration: 194900 loss: 0.0050 scmap loss: 0.0047 locref loss: 0.0001 limb loss: 0.0003 lr: 1e-05\n",
            "iteration: 195000 loss: 0.0049 scmap loss: 0.0045 locref loss: 0.0001 limb loss: 0.0003 lr: 1e-05\n",
            "iteration: 195100 loss: 0.0050 scmap loss: 0.0046 locref loss: 0.0001 limb loss: 0.0003 lr: 1e-05\n",
            "iteration: 195200 loss: 0.0050 scmap loss: 0.0046 locref loss: 0.0001 limb loss: 0.0003 lr: 1e-05\n",
            "iteration: 195300 loss: 0.0049 scmap loss: 0.0046 locref loss: 0.0001 limb loss: 0.0003 lr: 1e-05\n",
            "iteration: 195400 loss: 0.0050 scmap loss: 0.0047 locref loss: 0.0001 limb loss: 0.0003 lr: 1e-05\n",
            "iteration: 195500 loss: 0.0050 scmap loss: 0.0047 locref loss: 0.0001 limb loss: 0.0003 lr: 1e-05\n",
            "iteration: 195600 loss: 0.0049 scmap loss: 0.0045 locref loss: 0.0001 limb loss: 0.0003 lr: 1e-05\n",
            "iteration: 195700 loss: 0.0050 scmap loss: 0.0047 locref loss: 0.0001 limb loss: 0.0003 lr: 1e-05\n",
            "iteration: 195800 loss: 0.0049 scmap loss: 0.0046 locref loss: 0.0001 limb loss: 0.0003 lr: 1e-05\n",
            "iteration: 195900 loss: 0.0050 scmap loss: 0.0046 locref loss: 0.0001 limb loss: 0.0003 lr: 1e-05\n",
            "iteration: 196000 loss: 0.0049 scmap loss: 0.0045 locref loss: 0.0001 limb loss: 0.0003 lr: 1e-05\n",
            "iteration: 196100 loss: 0.0049 scmap loss: 0.0045 locref loss: 0.0001 limb loss: 0.0003 lr: 1e-05\n",
            "iteration: 196200 loss: 0.0051 scmap loss: 0.0047 locref loss: 0.0001 limb loss: 0.0003 lr: 1e-05\n",
            "iteration: 196300 loss: 0.0051 scmap loss: 0.0047 locref loss: 0.0001 limb loss: 0.0003 lr: 1e-05\n",
            "iteration: 196400 loss: 0.0049 scmap loss: 0.0045 locref loss: 0.0001 limb loss: 0.0003 lr: 1e-05\n",
            "iteration: 196500 loss: 0.0051 scmap loss: 0.0047 locref loss: 0.0001 limb loss: 0.0003 lr: 1e-05\n",
            "iteration: 196600 loss: 0.0050 scmap loss: 0.0046 locref loss: 0.0001 limb loss: 0.0003 lr: 1e-05\n",
            "iteration: 196700 loss: 0.0049 scmap loss: 0.0046 locref loss: 0.0001 limb loss: 0.0003 lr: 1e-05\n",
            "iteration: 196800 loss: 0.0050 scmap loss: 0.0047 locref loss: 0.0001 limb loss: 0.0003 lr: 1e-05\n",
            "iteration: 196900 loss: 0.0050 scmap loss: 0.0047 locref loss: 0.0001 limb loss: 0.0003 lr: 1e-05\n",
            "iteration: 197000 loss: 0.0048 scmap loss: 0.0045 locref loss: 0.0001 limb loss: 0.0003 lr: 1e-05\n",
            "iteration: 197100 loss: 0.0051 scmap loss: 0.0047 locref loss: 0.0001 limb loss: 0.0003 lr: 1e-05\n",
            "iteration: 197200 loss: 0.0050 scmap loss: 0.0047 locref loss: 0.0001 limb loss: 0.0003 lr: 1e-05\n",
            "iteration: 197300 loss: 0.0050 scmap loss: 0.0046 locref loss: 0.0001 limb loss: 0.0003 lr: 1e-05\n",
            "iteration: 197400 loss: 0.0050 scmap loss: 0.0047 locref loss: 0.0001 limb loss: 0.0003 lr: 1e-05\n",
            "iteration: 197500 loss: 0.0051 scmap loss: 0.0047 locref loss: 0.0001 limb loss: 0.0003 lr: 1e-05\n",
            "iteration: 197600 loss: 0.0051 scmap loss: 0.0047 locref loss: 0.0001 limb loss: 0.0003 lr: 1e-05\n",
            "iteration: 197700 loss: 0.0051 scmap loss: 0.0048 locref loss: 0.0001 limb loss: 0.0003 lr: 1e-05\n",
            "iteration: 197800 loss: 0.0050 scmap loss: 0.0046 locref loss: 0.0001 limb loss: 0.0003 lr: 1e-05\n",
            "iteration: 197900 loss: 0.0051 scmap loss: 0.0047 locref loss: 0.0001 limb loss: 0.0003 lr: 1e-05\n",
            "iteration: 198000 loss: 0.0050 scmap loss: 0.0046 locref loss: 0.0001 limb loss: 0.0003 lr: 1e-05\n",
            "iteration: 198100 loss: 0.0050 scmap loss: 0.0047 locref loss: 0.0001 limb loss: 0.0003 lr: 1e-05\n",
            "iteration: 198200 loss: 0.0049 scmap loss: 0.0046 locref loss: 0.0001 limb loss: 0.0003 lr: 1e-05\n",
            "iteration: 198300 loss: 0.0049 scmap loss: 0.0046 locref loss: 0.0001 limb loss: 0.0003 lr: 1e-05\n",
            "iteration: 198400 loss: 0.0050 scmap loss: 0.0047 locref loss: 0.0001 limb loss: 0.0003 lr: 1e-05\n",
            "iteration: 198500 loss: 0.0050 scmap loss: 0.0046 locref loss: 0.0001 limb loss: 0.0003 lr: 1e-05\n",
            "iteration: 198600 loss: 0.0051 scmap loss: 0.0047 locref loss: 0.0001 limb loss: 0.0003 lr: 1e-05\n",
            "iteration: 198700 loss: 0.0050 scmap loss: 0.0046 locref loss: 0.0001 limb loss: 0.0003 lr: 1e-05\n",
            "iteration: 198800 loss: 0.0051 scmap loss: 0.0047 locref loss: 0.0001 limb loss: 0.0003 lr: 1e-05\n",
            "iteration: 198900 loss: 0.0048 scmap loss: 0.0045 locref loss: 0.0001 limb loss: 0.0003 lr: 1e-05\n",
            "iteration: 199000 loss: 0.0051 scmap loss: 0.0047 locref loss: 0.0001 limb loss: 0.0003 lr: 1e-05\n",
            "iteration: 199100 loss: 0.0049 scmap loss: 0.0046 locref loss: 0.0001 limb loss: 0.0003 lr: 1e-05\n",
            "iteration: 199200 loss: 0.0049 scmap loss: 0.0045 locref loss: 0.0001 limb loss: 0.0003 lr: 1e-05\n",
            "iteration: 199300 loss: 0.0050 scmap loss: 0.0046 locref loss: 0.0001 limb loss: 0.0003 lr: 1e-05\n",
            "iteration: 199400 loss: 0.0051 scmap loss: 0.0047 locref loss: 0.0001 limb loss: 0.0003 lr: 1e-05\n",
            "iteration: 199500 loss: 0.0051 scmap loss: 0.0047 locref loss: 0.0001 limb loss: 0.0003 lr: 1e-05\n",
            "iteration: 199600 loss: 0.0051 scmap loss: 0.0047 locref loss: 0.0001 limb loss: 0.0003 lr: 1e-05\n",
            "iteration: 199700 loss: 0.0050 scmap loss: 0.0046 locref loss: 0.0001 limb loss: 0.0003 lr: 1e-05\n",
            "iteration: 199800 loss: 0.0050 scmap loss: 0.0046 locref loss: 0.0001 limb loss: 0.0003 lr: 1e-05\n",
            "iteration: 199900 loss: 0.0049 scmap loss: 0.0046 locref loss: 0.0001 limb loss: 0.0003 lr: 1e-05\n",
            "iteration: 200000 loss: 0.0050 scmap loss: 0.0046 locref loss: 0.0001 limb loss: 0.0003 lr: 1e-05\n",
            "iteration: 200100 loss: 0.0050 scmap loss: 0.0046 locref loss: 0.0001 limb loss: 0.0003 lr: 1e-05\n",
            "iteration: 200200 loss: 0.0049 scmap loss: 0.0045 locref loss: 0.0001 limb loss: 0.0003 lr: 1e-05\n",
            "iteration: 200300 loss: 0.0049 scmap loss: 0.0045 locref loss: 0.0001 limb loss: 0.0003 lr: 1e-05\n",
            "iteration: 200400 loss: 0.0049 scmap loss: 0.0046 locref loss: 0.0001 limb loss: 0.0003 lr: 1e-05\n",
            "iteration: 200500 loss: 0.0051 scmap loss: 0.0047 locref loss: 0.0001 limb loss: 0.0003 lr: 1e-05\n",
            "iteration: 200600 loss: 0.0050 scmap loss: 0.0046 locref loss: 0.0001 limb loss: 0.0003 lr: 1e-05\n",
            "iteration: 200700 loss: 0.0049 scmap loss: 0.0046 locref loss: 0.0001 limb loss: 0.0003 lr: 1e-05\n",
            "iteration: 200800 loss: 0.0050 scmap loss: 0.0046 locref loss: 0.0001 limb loss: 0.0003 lr: 1e-05\n",
            "iteration: 200900 loss: 0.0051 scmap loss: 0.0047 locref loss: 0.0001 limb loss: 0.0003 lr: 1e-05\n",
            "iteration: 201000 loss: 0.0049 scmap loss: 0.0045 locref loss: 0.0001 limb loss: 0.0003 lr: 1e-05\n",
            "iteration: 201100 loss: 0.0050 scmap loss: 0.0046 locref loss: 0.0001 limb loss: 0.0003 lr: 1e-05\n",
            "iteration: 201200 loss: 0.0050 scmap loss: 0.0046 locref loss: 0.0001 limb loss: 0.0003 lr: 1e-05\n",
            "iteration: 201300 loss: 0.0049 scmap loss: 0.0045 locref loss: 0.0001 limb loss: 0.0003 lr: 1e-05\n",
            "iteration: 201400 loss: 0.0049 scmap loss: 0.0045 locref loss: 0.0001 limb loss: 0.0003 lr: 1e-05\n",
            "iteration: 201500 loss: 0.0048 scmap loss: 0.0045 locref loss: 0.0001 limb loss: 0.0003 lr: 1e-05\n",
            "iteration: 201600 loss: 0.0050 scmap loss: 0.0047 locref loss: 0.0001 limb loss: 0.0003 lr: 1e-05\n",
            "iteration: 201700 loss: 0.0051 scmap loss: 0.0047 locref loss: 0.0001 limb loss: 0.0003 lr: 1e-05\n",
            "iteration: 201800 loss: 0.0049 scmap loss: 0.0045 locref loss: 0.0001 limb loss: 0.0003 lr: 1e-05\n",
            "iteration: 201900 loss: 0.0048 scmap loss: 0.0045 locref loss: 0.0001 limb loss: 0.0003 lr: 1e-05\n",
            "iteration: 202000 loss: 0.0049 scmap loss: 0.0045 locref loss: 0.0001 limb loss: 0.0003 lr: 1e-05\n",
            "iteration: 202100 loss: 0.0048 scmap loss: 0.0044 locref loss: 0.0001 limb loss: 0.0003 lr: 1e-05\n",
            "iteration: 202200 loss: 0.0050 scmap loss: 0.0046 locref loss: 0.0001 limb loss: 0.0003 lr: 1e-05\n",
            "iteration: 202300 loss: 0.0050 scmap loss: 0.0047 locref loss: 0.0001 limb loss: 0.0003 lr: 1e-05\n",
            "iteration: 202400 loss: 0.0051 scmap loss: 0.0047 locref loss: 0.0001 limb loss: 0.0003 lr: 1e-05\n",
            "iteration: 202500 loss: 0.0049 scmap loss: 0.0045 locref loss: 0.0001 limb loss: 0.0003 lr: 1e-05\n",
            "iteration: 202600 loss: 0.0050 scmap loss: 0.0047 locref loss: 0.0001 limb loss: 0.0003 lr: 1e-05\n",
            "iteration: 202700 loss: 0.0052 scmap loss: 0.0048 locref loss: 0.0001 limb loss: 0.0003 lr: 1e-05\n",
            "iteration: 202800 loss: 0.0049 scmap loss: 0.0046 locref loss: 0.0001 limb loss: 0.0003 lr: 1e-05\n",
            "iteration: 202900 loss: 0.0051 scmap loss: 0.0047 locref loss: 0.0001 limb loss: 0.0003 lr: 1e-05\n",
            "iteration: 203000 loss: 0.0049 scmap loss: 0.0046 locref loss: 0.0001 limb loss: 0.0003 lr: 1e-05\n",
            "iteration: 203100 loss: 0.0049 scmap loss: 0.0045 locref loss: 0.0001 limb loss: 0.0003 lr: 1e-05\n",
            "iteration: 203200 loss: 0.0050 scmap loss: 0.0046 locref loss: 0.0001 limb loss: 0.0003 lr: 1e-05\n",
            "iteration: 203300 loss: 0.0049 scmap loss: 0.0046 locref loss: 0.0001 limb loss: 0.0003 lr: 1e-05\n",
            "iteration: 203400 loss: 0.0050 scmap loss: 0.0046 locref loss: 0.0001 limb loss: 0.0003 lr: 1e-05\n",
            "iteration: 203500 loss: 0.0050 scmap loss: 0.0046 locref loss: 0.0001 limb loss: 0.0003 lr: 1e-05\n",
            "iteration: 203600 loss: 0.0049 scmap loss: 0.0045 locref loss: 0.0001 limb loss: 0.0003 lr: 1e-05\n",
            "iteration: 203700 loss: 0.0050 scmap loss: 0.0046 locref loss: 0.0001 limb loss: 0.0003 lr: 1e-05\n",
            "iteration: 203800 loss: 0.0048 scmap loss: 0.0044 locref loss: 0.0001 limb loss: 0.0003 lr: 1e-05\n",
            "iteration: 203900 loss: 0.0049 scmap loss: 0.0045 locref loss: 0.0001 limb loss: 0.0003 lr: 1e-05\n",
            "iteration: 204000 loss: 0.0048 scmap loss: 0.0045 locref loss: 0.0001 limb loss: 0.0003 lr: 1e-05\n",
            "iteration: 204100 loss: 0.0049 scmap loss: 0.0045 locref loss: 0.0001 limb loss: 0.0003 lr: 1e-05\n",
            "iteration: 204200 loss: 0.0049 scmap loss: 0.0045 locref loss: 0.0001 limb loss: 0.0003 lr: 1e-05\n",
            "iteration: 204300 loss: 0.0047 scmap loss: 0.0044 locref loss: 0.0001 limb loss: 0.0002 lr: 1e-05\n",
            "iteration: 204400 loss: 0.0051 scmap loss: 0.0047 locref loss: 0.0001 limb loss: 0.0003 lr: 1e-05\n",
            "iteration: 204500 loss: 0.0049 scmap loss: 0.0045 locref loss: 0.0001 limb loss: 0.0003 lr: 1e-05\n",
            "iteration: 204600 loss: 0.0050 scmap loss: 0.0046 locref loss: 0.0001 limb loss: 0.0003 lr: 1e-05\n",
            "iteration: 204700 loss: 0.0049 scmap loss: 0.0045 locref loss: 0.0001 limb loss: 0.0003 lr: 1e-05\n",
            "iteration: 204800 loss: 0.0049 scmap loss: 0.0046 locref loss: 0.0001 limb loss: 0.0003 lr: 1e-05\n",
            "iteration: 204900 loss: 0.0050 scmap loss: 0.0046 locref loss: 0.0001 limb loss: 0.0003 lr: 1e-05\n",
            "iteration: 205000 loss: 0.0048 scmap loss: 0.0044 locref loss: 0.0001 limb loss: 0.0003 lr: 1e-05\n",
            "iteration: 205100 loss: 0.0049 scmap loss: 0.0045 locref loss: 0.0001 limb loss: 0.0003 lr: 1e-05\n",
            "iteration: 205200 loss: 0.0049 scmap loss: 0.0045 locref loss: 0.0001 limb loss: 0.0003 lr: 1e-05\n",
            "iteration: 205300 loss: 0.0049 scmap loss: 0.0045 locref loss: 0.0001 limb loss: 0.0003 lr: 1e-05\n",
            "iteration: 205400 loss: 0.0048 scmap loss: 0.0044 locref loss: 0.0001 limb loss: 0.0003 lr: 1e-05\n",
            "iteration: 205500 loss: 0.0049 scmap loss: 0.0045 locref loss: 0.0001 limb loss: 0.0003 lr: 1e-05\n",
            "iteration: 205600 loss: 0.0048 scmap loss: 0.0045 locref loss: 0.0001 limb loss: 0.0003 lr: 1e-05\n",
            "iteration: 205700 loss: 0.0049 scmap loss: 0.0045 locref loss: 0.0001 limb loss: 0.0003 lr: 1e-05\n",
            "iteration: 205800 loss: 0.0050 scmap loss: 0.0046 locref loss: 0.0001 limb loss: 0.0003 lr: 1e-05\n",
            "iteration: 205900 loss: 0.0049 scmap loss: 0.0046 locref loss: 0.0001 limb loss: 0.0003 lr: 1e-05\n",
            "iteration: 206000 loss: 0.0050 scmap loss: 0.0046 locref loss: 0.0001 limb loss: 0.0003 lr: 1e-05\n",
            "iteration: 206100 loss: 0.0050 scmap loss: 0.0047 locref loss: 0.0001 limb loss: 0.0003 lr: 1e-05\n",
            "iteration: 206200 loss: 0.0051 scmap loss: 0.0047 locref loss: 0.0001 limb loss: 0.0003 lr: 1e-05\n",
            "iteration: 206300 loss: 0.0049 scmap loss: 0.0045 locref loss: 0.0001 limb loss: 0.0003 lr: 1e-05\n",
            "iteration: 206400 loss: 0.0048 scmap loss: 0.0045 locref loss: 0.0001 limb loss: 0.0003 lr: 1e-05\n",
            "iteration: 206500 loss: 0.0048 scmap loss: 0.0045 locref loss: 0.0001 limb loss: 0.0003 lr: 1e-05\n",
            "iteration: 206600 loss: 0.0049 scmap loss: 0.0045 locref loss: 0.0001 limb loss: 0.0003 lr: 1e-05\n",
            "iteration: 206700 loss: 0.0049 scmap loss: 0.0046 locref loss: 0.0001 limb loss: 0.0003 lr: 1e-05\n",
            "iteration: 206800 loss: 0.0049 scmap loss: 0.0045 locref loss: 0.0001 limb loss: 0.0003 lr: 1e-05\n",
            "iteration: 206900 loss: 0.0050 scmap loss: 0.0047 locref loss: 0.0001 limb loss: 0.0003 lr: 1e-05\n",
            "iteration: 207000 loss: 0.0048 scmap loss: 0.0044 locref loss: 0.0001 limb loss: 0.0003 lr: 1e-05\n",
            "iteration: 207100 loss: 0.0049 scmap loss: 0.0045 locref loss: 0.0001 limb loss: 0.0003 lr: 1e-05\n",
            "iteration: 207200 loss: 0.0050 scmap loss: 0.0046 locref loss: 0.0001 limb loss: 0.0003 lr: 1e-05\n",
            "iteration: 207300 loss: 0.0049 scmap loss: 0.0045 locref loss: 0.0001 limb loss: 0.0003 lr: 1e-05\n",
            "iteration: 207400 loss: 0.0049 scmap loss: 0.0045 locref loss: 0.0001 limb loss: 0.0003 lr: 1e-05\n",
            "iteration: 207500 loss: 0.0050 scmap loss: 0.0046 locref loss: 0.0001 limb loss: 0.0003 lr: 1e-05\n",
            "iteration: 207600 loss: 0.0049 scmap loss: 0.0045 locref loss: 0.0001 limb loss: 0.0003 lr: 1e-05\n",
            "iteration: 207700 loss: 0.0049 scmap loss: 0.0045 locref loss: 0.0001 limb loss: 0.0003 lr: 1e-05\n",
            "iteration: 207800 loss: 0.0048 scmap loss: 0.0045 locref loss: 0.0001 limb loss: 0.0003 lr: 1e-05\n",
            "iteration: 207900 loss: 0.0051 scmap loss: 0.0047 locref loss: 0.0001 limb loss: 0.0003 lr: 1e-05\n",
            "iteration: 208000 loss: 0.0048 scmap loss: 0.0044 locref loss: 0.0001 limb loss: 0.0003 lr: 1e-05\n",
            "iteration: 208100 loss: 0.0050 scmap loss: 0.0046 locref loss: 0.0001 limb loss: 0.0003 lr: 1e-05\n",
            "iteration: 208200 loss: 0.0049 scmap loss: 0.0045 locref loss: 0.0001 limb loss: 0.0003 lr: 1e-05\n",
            "iteration: 208300 loss: 0.0048 scmap loss: 0.0044 locref loss: 0.0001 limb loss: 0.0003 lr: 1e-05\n",
            "iteration: 208400 loss: 0.0047 scmap loss: 0.0043 locref loss: 0.0001 limb loss: 0.0003 lr: 1e-05\n",
            "iteration: 208500 loss: 0.0049 scmap loss: 0.0046 locref loss: 0.0001 limb loss: 0.0003 lr: 1e-05\n",
            "iteration: 208600 loss: 0.0049 scmap loss: 0.0046 locref loss: 0.0001 limb loss: 0.0003 lr: 1e-05\n",
            "iteration: 208700 loss: 0.0048 scmap loss: 0.0044 locref loss: 0.0001 limb loss: 0.0003 lr: 1e-05\n",
            "iteration: 208800 loss: 0.0049 scmap loss: 0.0045 locref loss: 0.0001 limb loss: 0.0003 lr: 1e-05\n",
            "iteration: 208900 loss: 0.0049 scmap loss: 0.0045 locref loss: 0.0001 limb loss: 0.0003 lr: 1e-05\n",
            "iteration: 209000 loss: 0.0049 scmap loss: 0.0046 locref loss: 0.0001 limb loss: 0.0003 lr: 1e-05\n",
            "iteration: 209100 loss: 0.0049 scmap loss: 0.0045 locref loss: 0.0001 limb loss: 0.0003 lr: 1e-05\n",
            "iteration: 209200 loss: 0.0048 scmap loss: 0.0045 locref loss: 0.0001 limb loss: 0.0003 lr: 1e-05\n",
            "iteration: 209300 loss: 0.0049 scmap loss: 0.0046 locref loss: 0.0001 limb loss: 0.0003 lr: 1e-05\n",
            "iteration: 209400 loss: 0.0049 scmap loss: 0.0045 locref loss: 0.0001 limb loss: 0.0003 lr: 1e-05\n",
            "iteration: 209500 loss: 0.0049 scmap loss: 0.0045 locref loss: 0.0001 limb loss: 0.0003 lr: 1e-05\n",
            "iteration: 209600 loss: 0.0047 scmap loss: 0.0043 locref loss: 0.0001 limb loss: 0.0003 lr: 1e-05\n",
            "iteration: 209700 loss: 0.0050 scmap loss: 0.0046 locref loss: 0.0001 limb loss: 0.0003 lr: 1e-05\n",
            "iteration: 209800 loss: 0.0048 scmap loss: 0.0044 locref loss: 0.0001 limb loss: 0.0003 lr: 1e-05\n",
            "iteration: 209900 loss: 0.0049 scmap loss: 0.0046 locref loss: 0.0001 limb loss: 0.0003 lr: 1e-05\n",
            "iteration: 210000 loss: 0.0049 scmap loss: 0.0045 locref loss: 0.0001 limb loss: 0.0003 lr: 1e-05\n",
            "iteration: 210100 loss: 0.0048 scmap loss: 0.0045 locref loss: 0.0001 limb loss: 0.0003 lr: 1e-05\n",
            "iteration: 210200 loss: 0.0048 scmap loss: 0.0045 locref loss: 0.0001 limb loss: 0.0003 lr: 1e-05\n",
            "iteration: 210300 loss: 0.0047 scmap loss: 0.0044 locref loss: 0.0001 limb loss: 0.0003 lr: 1e-05\n",
            "iteration: 210400 loss: 0.0049 scmap loss: 0.0046 locref loss: 0.0001 limb loss: 0.0003 lr: 1e-05\n",
            "iteration: 210500 loss: 0.0049 scmap loss: 0.0045 locref loss: 0.0001 limb loss: 0.0003 lr: 1e-05\n",
            "iteration: 210600 loss: 0.0049 scmap loss: 0.0045 locref loss: 0.0001 limb loss: 0.0003 lr: 1e-05\n",
            "iteration: 210700 loss: 0.0049 scmap loss: 0.0045 locref loss: 0.0001 limb loss: 0.0003 lr: 1e-05\n",
            "iteration: 210800 loss: 0.0049 scmap loss: 0.0045 locref loss: 0.0001 limb loss: 0.0003 lr: 1e-05\n",
            "iteration: 210900 loss: 0.0049 scmap loss: 0.0046 locref loss: 0.0001 limb loss: 0.0003 lr: 1e-05\n",
            "iteration: 211000 loss: 0.0049 scmap loss: 0.0045 locref loss: 0.0001 limb loss: 0.0003 lr: 1e-05\n",
            "iteration: 211100 loss: 0.0048 scmap loss: 0.0044 locref loss: 0.0001 limb loss: 0.0003 lr: 1e-05\n",
            "iteration: 211200 loss: 0.0049 scmap loss: 0.0045 locref loss: 0.0001 limb loss: 0.0003 lr: 1e-05\n",
            "iteration: 211300 loss: 0.0046 scmap loss: 0.0043 locref loss: 0.0001 limb loss: 0.0003 lr: 1e-05\n",
            "iteration: 211400 loss: 0.0047 scmap loss: 0.0043 locref loss: 0.0001 limb loss: 0.0003 lr: 1e-05\n",
            "iteration: 211500 loss: 0.0048 scmap loss: 0.0044 locref loss: 0.0001 limb loss: 0.0003 lr: 1e-05\n",
            "iteration: 211600 loss: 0.0049 scmap loss: 0.0045 locref loss: 0.0001 limb loss: 0.0003 lr: 1e-05\n",
            "iteration: 211700 loss: 0.0049 scmap loss: 0.0045 locref loss: 0.0001 limb loss: 0.0003 lr: 1e-05\n",
            "iteration: 211800 loss: 0.0047 scmap loss: 0.0043 locref loss: 0.0001 limb loss: 0.0003 lr: 1e-05\n",
            "iteration: 211900 loss: 0.0049 scmap loss: 0.0045 locref loss: 0.0001 limb loss: 0.0003 lr: 1e-05\n",
            "iteration: 212000 loss: 0.0050 scmap loss: 0.0046 locref loss: 0.0001 limb loss: 0.0003 lr: 1e-05\n",
            "iteration: 212100 loss: 0.0050 scmap loss: 0.0046 locref loss: 0.0001 limb loss: 0.0003 lr: 1e-05\n",
            "iteration: 212200 loss: 0.0049 scmap loss: 0.0045 locref loss: 0.0001 limb loss: 0.0003 lr: 1e-05\n",
            "iteration: 212300 loss: 0.0049 scmap loss: 0.0045 locref loss: 0.0001 limb loss: 0.0003 lr: 1e-05\n",
            "iteration: 212400 loss: 0.0049 scmap loss: 0.0045 locref loss: 0.0001 limb loss: 0.0003 lr: 1e-05\n",
            "iteration: 212500 loss: 0.0048 scmap loss: 0.0044 locref loss: 0.0001 limb loss: 0.0003 lr: 1e-05\n",
            "iteration: 212600 loss: 0.0049 scmap loss: 0.0046 locref loss: 0.0001 limb loss: 0.0003 lr: 1e-05\n",
            "iteration: 212700 loss: 0.0047 scmap loss: 0.0043 locref loss: 0.0001 limb loss: 0.0003 lr: 1e-05\n",
            "iteration: 212800 loss: 0.0049 scmap loss: 0.0045 locref loss: 0.0001 limb loss: 0.0003 lr: 1e-05\n",
            "iteration: 212900 loss: 0.0048 scmap loss: 0.0044 locref loss: 0.0001 limb loss: 0.0003 lr: 1e-05\n",
            "iteration: 213000 loss: 0.0048 scmap loss: 0.0045 locref loss: 0.0001 limb loss: 0.0003 lr: 1e-05\n",
            "iteration: 213100 loss: 0.0048 scmap loss: 0.0044 locref loss: 0.0001 limb loss: 0.0003 lr: 1e-05\n",
            "iteration: 213200 loss: 0.0049 scmap loss: 0.0045 locref loss: 0.0001 limb loss: 0.0003 lr: 1e-05\n",
            "iteration: 213300 loss: 0.0050 scmap loss: 0.0046 locref loss: 0.0001 limb loss: 0.0003 lr: 1e-05\n",
            "iteration: 213400 loss: 0.0050 scmap loss: 0.0046 locref loss: 0.0001 limb loss: 0.0003 lr: 1e-05\n",
            "iteration: 213500 loss: 0.0048 scmap loss: 0.0044 locref loss: 0.0001 limb loss: 0.0003 lr: 1e-05\n",
            "iteration: 213600 loss: 0.0047 scmap loss: 0.0044 locref loss: 0.0001 limb loss: 0.0003 lr: 1e-05\n",
            "iteration: 213700 loss: 0.0049 scmap loss: 0.0045 locref loss: 0.0001 limb loss: 0.0003 lr: 1e-05\n",
            "iteration: 213800 loss: 0.0048 scmap loss: 0.0044 locref loss: 0.0001 limb loss: 0.0003 lr: 1e-05\n",
            "iteration: 213900 loss: 0.0049 scmap loss: 0.0045 locref loss: 0.0001 limb loss: 0.0003 lr: 1e-05\n",
            "iteration: 214000 loss: 0.0049 scmap loss: 0.0045 locref loss: 0.0001 limb loss: 0.0003 lr: 1e-05\n",
            "iteration: 214100 loss: 0.0048 scmap loss: 0.0045 locref loss: 0.0001 limb loss: 0.0003 lr: 1e-05\n",
            "iteration: 214200 loss: 0.0048 scmap loss: 0.0045 locref loss: 0.0001 limb loss: 0.0003 lr: 1e-05\n",
            "iteration: 214300 loss: 0.0047 scmap loss: 0.0044 locref loss: 0.0001 limb loss: 0.0003 lr: 1e-05\n",
            "iteration: 214400 loss: 0.0047 scmap loss: 0.0044 locref loss: 0.0001 limb loss: 0.0003 lr: 1e-05\n",
            "iteration: 214500 loss: 0.0049 scmap loss: 0.0045 locref loss: 0.0001 limb loss: 0.0003 lr: 1e-05\n",
            "iteration: 214600 loss: 0.0048 scmap loss: 0.0044 locref loss: 0.0001 limb loss: 0.0003 lr: 1e-05\n",
            "iteration: 214700 loss: 0.0048 scmap loss: 0.0045 locref loss: 0.0001 limb loss: 0.0003 lr: 1e-05\n",
            "iteration: 214800 loss: 0.0048 scmap loss: 0.0044 locref loss: 0.0001 limb loss: 0.0003 lr: 1e-05\n",
            "iteration: 214900 loss: 0.0049 scmap loss: 0.0045 locref loss: 0.0001 limb loss: 0.0003 lr: 1e-05\n",
            "iteration: 215000 loss: 0.0048 scmap loss: 0.0044 locref loss: 0.0001 limb loss: 0.0003 lr: 1e-05\n",
            "iteration: 215100 loss: 0.0048 scmap loss: 0.0044 locref loss: 0.0001 limb loss: 0.0003 lr: 1e-05\n",
            "iteration: 215200 loss: 0.0049 scmap loss: 0.0045 locref loss: 0.0001 limb loss: 0.0003 lr: 1e-05\n",
            "iteration: 215300 loss: 0.0047 scmap loss: 0.0043 locref loss: 0.0001 limb loss: 0.0003 lr: 1e-05\n",
            "iteration: 215400 loss: 0.0047 scmap loss: 0.0044 locref loss: 0.0001 limb loss: 0.0003 lr: 1e-05\n",
            "iteration: 215500 loss: 0.0049 scmap loss: 0.0045 locref loss: 0.0001 limb loss: 0.0003 lr: 1e-05\n",
            "iteration: 215600 loss: 0.0049 scmap loss: 0.0045 locref loss: 0.0001 limb loss: 0.0003 lr: 1e-05\n",
            "iteration: 215700 loss: 0.0047 scmap loss: 0.0043 locref loss: 0.0001 limb loss: 0.0003 lr: 1e-05\n",
            "iteration: 215800 loss: 0.0048 scmap loss: 0.0044 locref loss: 0.0001 limb loss: 0.0003 lr: 1e-05\n",
            "iteration: 215900 loss: 0.0049 scmap loss: 0.0045 locref loss: 0.0001 limb loss: 0.0003 lr: 1e-05\n",
            "iteration: 216000 loss: 0.0049 scmap loss: 0.0045 locref loss: 0.0001 limb loss: 0.0003 lr: 1e-05\n",
            "iteration: 216100 loss: 0.0048 scmap loss: 0.0044 locref loss: 0.0001 limb loss: 0.0003 lr: 1e-05\n",
            "iteration: 216200 loss: 0.0047 scmap loss: 0.0044 locref loss: 0.0001 limb loss: 0.0003 lr: 1e-05\n",
            "iteration: 216300 loss: 0.0048 scmap loss: 0.0044 locref loss: 0.0001 limb loss: 0.0003 lr: 1e-05\n",
            "iteration: 216400 loss: 0.0049 scmap loss: 0.0045 locref loss: 0.0001 limb loss: 0.0003 lr: 1e-05\n",
            "iteration: 216500 loss: 0.0047 scmap loss: 0.0044 locref loss: 0.0001 limb loss: 0.0003 lr: 1e-05\n",
            "iteration: 216600 loss: 0.0047 scmap loss: 0.0043 locref loss: 0.0001 limb loss: 0.0003 lr: 1e-05\n",
            "iteration: 216700 loss: 0.0050 scmap loss: 0.0046 locref loss: 0.0001 limb loss: 0.0003 lr: 1e-05\n",
            "iteration: 216800 loss: 0.0048 scmap loss: 0.0045 locref loss: 0.0001 limb loss: 0.0003 lr: 1e-05\n",
            "iteration: 216900 loss: 0.0048 scmap loss: 0.0045 locref loss: 0.0001 limb loss: 0.0003 lr: 1e-05\n",
            "iteration: 217000 loss: 0.0048 scmap loss: 0.0044 locref loss: 0.0001 limb loss: 0.0003 lr: 1e-05\n",
            "iteration: 217100 loss: 0.0048 scmap loss: 0.0044 locref loss: 0.0001 limb loss: 0.0003 lr: 1e-05\n",
            "iteration: 217200 loss: 0.0048 scmap loss: 0.0045 locref loss: 0.0001 limb loss: 0.0003 lr: 1e-05\n",
            "iteration: 217300 loss: 0.0047 scmap loss: 0.0043 locref loss: 0.0001 limb loss: 0.0003 lr: 1e-05\n",
            "iteration: 217400 loss: 0.0048 scmap loss: 0.0044 locref loss: 0.0001 limb loss: 0.0003 lr: 1e-05\n",
            "iteration: 217500 loss: 0.0047 scmap loss: 0.0043 locref loss: 0.0001 limb loss: 0.0003 lr: 1e-05\n",
            "iteration: 217600 loss: 0.0047 scmap loss: 0.0044 locref loss: 0.0001 limb loss: 0.0003 lr: 1e-05\n",
            "iteration: 217700 loss: 0.0047 scmap loss: 0.0044 locref loss: 0.0001 limb loss: 0.0003 lr: 1e-05\n",
            "iteration: 217800 loss: 0.0047 scmap loss: 0.0043 locref loss: 0.0001 limb loss: 0.0003 lr: 1e-05\n",
            "iteration: 217900 loss: 0.0046 scmap loss: 0.0043 locref loss: 0.0001 limb loss: 0.0003 lr: 1e-05\n",
            "iteration: 218000 loss: 0.0047 scmap loss: 0.0044 locref loss: 0.0001 limb loss: 0.0003 lr: 1e-05\n",
            "iteration: 218100 loss: 0.0048 scmap loss: 0.0045 locref loss: 0.0001 limb loss: 0.0003 lr: 1e-05\n",
            "iteration: 218200 loss: 0.0047 scmap loss: 0.0044 locref loss: 0.0001 limb loss: 0.0003 lr: 1e-05\n",
            "iteration: 218300 loss: 0.0049 scmap loss: 0.0045 locref loss: 0.0001 limb loss: 0.0003 lr: 1e-05\n",
            "iteration: 218400 loss: 0.0049 scmap loss: 0.0046 locref loss: 0.0001 limb loss: 0.0003 lr: 1e-05\n",
            "iteration: 218500 loss: 0.0047 scmap loss: 0.0043 locref loss: 0.0001 limb loss: 0.0003 lr: 1e-05\n",
            "iteration: 218600 loss: 0.0048 scmap loss: 0.0044 locref loss: 0.0001 limb loss: 0.0003 lr: 1e-05\n",
            "iteration: 218700 loss: 0.0050 scmap loss: 0.0046 locref loss: 0.0001 limb loss: 0.0003 lr: 1e-05\n",
            "iteration: 218800 loss: 0.0049 scmap loss: 0.0045 locref loss: 0.0001 limb loss: 0.0003 lr: 1e-05\n",
            "iteration: 218900 loss: 0.0048 scmap loss: 0.0045 locref loss: 0.0001 limb loss: 0.0003 lr: 1e-05\n",
            "iteration: 219000 loss: 0.0048 scmap loss: 0.0044 locref loss: 0.0001 limb loss: 0.0003 lr: 1e-05\n",
            "iteration: 219100 loss: 0.0048 scmap loss: 0.0044 locref loss: 0.0001 limb loss: 0.0003 lr: 1e-05\n",
            "iteration: 219200 loss: 0.0048 scmap loss: 0.0044 locref loss: 0.0001 limb loss: 0.0003 lr: 1e-05\n",
            "iteration: 219300 loss: 0.0048 scmap loss: 0.0044 locref loss: 0.0001 limb loss: 0.0003 lr: 1e-05\n",
            "iteration: 219400 loss: 0.0048 scmap loss: 0.0044 locref loss: 0.0001 limb loss: 0.0003 lr: 1e-05\n",
            "iteration: 219500 loss: 0.0047 scmap loss: 0.0043 locref loss: 0.0001 limb loss: 0.0003 lr: 1e-05\n",
            "iteration: 219600 loss: 0.0048 scmap loss: 0.0044 locref loss: 0.0001 limb loss: 0.0003 lr: 1e-05\n",
            "iteration: 219700 loss: 0.0047 scmap loss: 0.0044 locref loss: 0.0001 limb loss: 0.0003 lr: 1e-05\n",
            "iteration: 219800 loss: 0.0049 scmap loss: 0.0045 locref loss: 0.0001 limb loss: 0.0003 lr: 1e-05\n",
            "iteration: 219900 loss: 0.0048 scmap loss: 0.0045 locref loss: 0.0001 limb loss: 0.0003 lr: 1e-05\n",
            "iteration: 220000 loss: 0.0048 scmap loss: 0.0044 locref loss: 0.0001 limb loss: 0.0003 lr: 1e-05\n",
            "iteration: 220100 loss: 0.0048 scmap loss: 0.0044 locref loss: 0.0001 limb loss: 0.0003 lr: 1e-05\n",
            "iteration: 220200 loss: 0.0047 scmap loss: 0.0044 locref loss: 0.0001 limb loss: 0.0003 lr: 1e-05\n",
            "iteration: 220300 loss: 0.0047 scmap loss: 0.0043 locref loss: 0.0001 limb loss: 0.0003 lr: 1e-05\n",
            "iteration: 220400 loss: 0.0048 scmap loss: 0.0044 locref loss: 0.0001 limb loss: 0.0003 lr: 1e-05\n",
            "iteration: 220500 loss: 0.0049 scmap loss: 0.0045 locref loss: 0.0001 limb loss: 0.0003 lr: 1e-05\n",
            "iteration: 220600 loss: 0.0048 scmap loss: 0.0044 locref loss: 0.0001 limb loss: 0.0003 lr: 1e-05\n",
            "iteration: 220700 loss: 0.0048 scmap loss: 0.0044 locref loss: 0.0001 limb loss: 0.0003 lr: 1e-05\n",
            "iteration: 220800 loss: 0.0048 scmap loss: 0.0044 locref loss: 0.0001 limb loss: 0.0003 lr: 1e-05\n",
            "iteration: 220900 loss: 0.0047 scmap loss: 0.0043 locref loss: 0.0001 limb loss: 0.0003 lr: 1e-05\n",
            "iteration: 221000 loss: 0.0048 scmap loss: 0.0044 locref loss: 0.0001 limb loss: 0.0003 lr: 1e-05\n",
            "iteration: 221100 loss: 0.0047 scmap loss: 0.0044 locref loss: 0.0001 limb loss: 0.0003 lr: 1e-05\n",
            "iteration: 221200 loss: 0.0047 scmap loss: 0.0044 locref loss: 0.0001 limb loss: 0.0003 lr: 1e-05\n",
            "iteration: 221300 loss: 0.0048 scmap loss: 0.0045 locref loss: 0.0001 limb loss: 0.0003 lr: 1e-05\n",
            "iteration: 221400 loss: 0.0047 scmap loss: 0.0043 locref loss: 0.0001 limb loss: 0.0003 lr: 1e-05\n",
            "iteration: 221500 loss: 0.0048 scmap loss: 0.0044 locref loss: 0.0001 limb loss: 0.0003 lr: 1e-05\n",
            "iteration: 221600 loss: 0.0048 scmap loss: 0.0044 locref loss: 0.0001 limb loss: 0.0003 lr: 1e-05\n",
            "iteration: 221700 loss: 0.0048 scmap loss: 0.0044 locref loss: 0.0001 limb loss: 0.0003 lr: 1e-05\n",
            "iteration: 221800 loss: 0.0047 scmap loss: 0.0043 locref loss: 0.0001 limb loss: 0.0003 lr: 1e-05\n",
            "iteration: 221900 loss: 0.0049 scmap loss: 0.0045 locref loss: 0.0001 limb loss: 0.0003 lr: 1e-05\n",
            "iteration: 222000 loss: 0.0048 scmap loss: 0.0045 locref loss: 0.0001 limb loss: 0.0003 lr: 1e-05\n",
            "iteration: 222100 loss: 0.0049 scmap loss: 0.0045 locref loss: 0.0001 limb loss: 0.0003 lr: 1e-05\n",
            "iteration: 222200 loss: 0.0049 scmap loss: 0.0045 locref loss: 0.0001 limb loss: 0.0003 lr: 1e-05\n",
            "iteration: 222300 loss: 0.0049 scmap loss: 0.0045 locref loss: 0.0001 limb loss: 0.0003 lr: 1e-05\n",
            "iteration: 222400 loss: 0.0048 scmap loss: 0.0044 locref loss: 0.0001 limb loss: 0.0003 lr: 1e-05\n",
            "iteration: 222500 loss: 0.0050 scmap loss: 0.0046 locref loss: 0.0001 limb loss: 0.0003 lr: 1e-05\n",
            "iteration: 222600 loss: 0.0048 scmap loss: 0.0045 locref loss: 0.0001 limb loss: 0.0003 lr: 1e-05\n",
            "iteration: 222700 loss: 0.0051 scmap loss: 0.0047 locref loss: 0.0001 limb loss: 0.0003 lr: 1e-05\n",
            "iteration: 222800 loss: 0.0048 scmap loss: 0.0044 locref loss: 0.0001 limb loss: 0.0003 lr: 1e-05\n",
            "iteration: 222900 loss: 0.0050 scmap loss: 0.0046 locref loss: 0.0001 limb loss: 0.0003 lr: 1e-05\n",
            "iteration: 223000 loss: 0.0049 scmap loss: 0.0045 locref loss: 0.0001 limb loss: 0.0003 lr: 1e-05\n",
            "iteration: 223100 loss: 0.0049 scmap loss: 0.0045 locref loss: 0.0001 limb loss: 0.0003 lr: 1e-05\n",
            "iteration: 223200 loss: 0.0051 scmap loss: 0.0047 locref loss: 0.0001 limb loss: 0.0003 lr: 1e-05\n",
            "iteration: 223300 loss: 0.0049 scmap loss: 0.0046 locref loss: 0.0001 limb loss: 0.0003 lr: 1e-05\n",
            "iteration: 223400 loss: 0.0048 scmap loss: 0.0045 locref loss: 0.0001 limb loss: 0.0003 lr: 1e-05\n",
            "iteration: 223500 loss: 0.0050 scmap loss: 0.0046 locref loss: 0.0001 limb loss: 0.0003 lr: 1e-05\n",
            "iteration: 223600 loss: 0.0049 scmap loss: 0.0046 locref loss: 0.0001 limb loss: 0.0003 lr: 1e-05\n",
            "iteration: 223700 loss: 0.0049 scmap loss: 0.0046 locref loss: 0.0001 limb loss: 0.0003 lr: 1e-05\n",
            "iteration: 223800 loss: 0.0048 scmap loss: 0.0044 locref loss: 0.0001 limb loss: 0.0003 lr: 1e-05\n",
            "iteration: 223900 loss: 0.0049 scmap loss: 0.0046 locref loss: 0.0001 limb loss: 0.0003 lr: 1e-05\n",
            "iteration: 224000 loss: 0.0048 scmap loss: 0.0044 locref loss: 0.0001 limb loss: 0.0003 lr: 1e-05\n",
            "iteration: 224100 loss: 0.0051 scmap loss: 0.0047 locref loss: 0.0001 limb loss: 0.0003 lr: 1e-05\n",
            "iteration: 224200 loss: 0.0050 scmap loss: 0.0047 locref loss: 0.0001 limb loss: 0.0003 lr: 1e-05\n",
            "iteration: 224300 loss: 0.0049 scmap loss: 0.0046 locref loss: 0.0001 limb loss: 0.0003 lr: 1e-05\n",
            "iteration: 224400 loss: 0.0050 scmap loss: 0.0046 locref loss: 0.0001 limb loss: 0.0003 lr: 1e-05\n",
            "iteration: 224500 loss: 0.0049 scmap loss: 0.0045 locref loss: 0.0001 limb loss: 0.0003 lr: 1e-05\n",
            "iteration: 224600 loss: 0.0049 scmap loss: 0.0045 locref loss: 0.0001 limb loss: 0.0003 lr: 1e-05\n",
            "iteration: 224700 loss: 0.0049 scmap loss: 0.0046 locref loss: 0.0001 limb loss: 0.0003 lr: 1e-05\n",
            "iteration: 224800 loss: 0.0048 scmap loss: 0.0045 locref loss: 0.0001 limb loss: 0.0003 lr: 1e-05\n",
            "iteration: 224900 loss: 0.0048 scmap loss: 0.0045 locref loss: 0.0001 limb loss: 0.0003 lr: 1e-05\n",
            "iteration: 225000 loss: 0.0050 scmap loss: 0.0046 locref loss: 0.0001 limb loss: 0.0003 lr: 1e-05\n",
            "iteration: 225100 loss: 0.0049 scmap loss: 0.0045 locref loss: 0.0001 limb loss: 0.0003 lr: 1e-05\n",
            "iteration: 225200 loss: 0.0048 scmap loss: 0.0044 locref loss: 0.0001 limb loss: 0.0003 lr: 1e-05\n",
            "iteration: 225300 loss: 0.0050 scmap loss: 0.0046 locref loss: 0.0001 limb loss: 0.0003 lr: 1e-05\n",
            "iteration: 225400 loss: 0.0048 scmap loss: 0.0044 locref loss: 0.0001 limb loss: 0.0003 lr: 1e-05\n",
            "iteration: 225500 loss: 0.0050 scmap loss: 0.0046 locref loss: 0.0001 limb loss: 0.0003 lr: 1e-05\n",
            "iteration: 225600 loss: 0.0049 scmap loss: 0.0045 locref loss: 0.0001 limb loss: 0.0003 lr: 1e-05\n",
            "iteration: 225700 loss: 0.0049 scmap loss: 0.0046 locref loss: 0.0001 limb loss: 0.0003 lr: 1e-05\n",
            "iteration: 225800 loss: 0.0049 scmap loss: 0.0045 locref loss: 0.0001 limb loss: 0.0003 lr: 1e-05\n",
            "iteration: 225900 loss: 0.0050 scmap loss: 0.0046 locref loss: 0.0001 limb loss: 0.0003 lr: 1e-05\n",
            "iteration: 226000 loss: 0.0049 scmap loss: 0.0046 locref loss: 0.0001 limb loss: 0.0003 lr: 1e-05\n",
            "iteration: 226100 loss: 0.0050 scmap loss: 0.0046 locref loss: 0.0001 limb loss: 0.0003 lr: 1e-05\n",
            "iteration: 226200 loss: 0.0048 scmap loss: 0.0044 locref loss: 0.0001 limb loss: 0.0003 lr: 1e-05\n",
            "iteration: 226300 loss: 0.0049 scmap loss: 0.0045 locref loss: 0.0001 limb loss: 0.0003 lr: 1e-05\n",
            "iteration: 226400 loss: 0.0049 scmap loss: 0.0046 locref loss: 0.0001 limb loss: 0.0003 lr: 1e-05\n",
            "iteration: 226500 loss: 0.0049 scmap loss: 0.0045 locref loss: 0.0001 limb loss: 0.0003 lr: 1e-05\n",
            "iteration: 226600 loss: 0.0049 scmap loss: 0.0045 locref loss: 0.0001 limb loss: 0.0003 lr: 1e-05\n",
            "iteration: 226700 loss: 0.0049 scmap loss: 0.0045 locref loss: 0.0001 limb loss: 0.0003 lr: 1e-05\n",
            "iteration: 226800 loss: 0.0048 scmap loss: 0.0045 locref loss: 0.0001 limb loss: 0.0003 lr: 1e-05\n",
            "iteration: 226900 loss: 0.0050 scmap loss: 0.0046 locref loss: 0.0001 limb loss: 0.0003 lr: 1e-05\n",
            "iteration: 227000 loss: 0.0049 scmap loss: 0.0045 locref loss: 0.0001 limb loss: 0.0003 lr: 1e-05\n",
            "iteration: 227100 loss: 0.0050 scmap loss: 0.0046 locref loss: 0.0001 limb loss: 0.0003 lr: 1e-05\n",
            "iteration: 227200 loss: 0.0051 scmap loss: 0.0047 locref loss: 0.0001 limb loss: 0.0003 lr: 1e-05\n",
            "iteration: 227300 loss: 0.0048 scmap loss: 0.0045 locref loss: 0.0001 limb loss: 0.0003 lr: 1e-05\n",
            "iteration: 227400 loss: 0.0049 scmap loss: 0.0045 locref loss: 0.0001 limb loss: 0.0003 lr: 1e-05\n",
            "iteration: 227500 loss: 0.0050 scmap loss: 0.0046 locref loss: 0.0001 limb loss: 0.0003 lr: 1e-05\n",
            "iteration: 227600 loss: 0.0050 scmap loss: 0.0046 locref loss: 0.0001 limb loss: 0.0003 lr: 1e-05\n",
            "iteration: 227700 loss: 0.0047 scmap loss: 0.0043 locref loss: 0.0001 limb loss: 0.0003 lr: 1e-05\n",
            "iteration: 227800 loss: 0.0048 scmap loss: 0.0045 locref loss: 0.0001 limb loss: 0.0003 lr: 1e-05\n",
            "iteration: 227900 loss: 0.0049 scmap loss: 0.0045 locref loss: 0.0001 limb loss: 0.0003 lr: 1e-05\n",
            "iteration: 228000 loss: 0.0049 scmap loss: 0.0045 locref loss: 0.0001 limb loss: 0.0003 lr: 1e-05\n",
            "iteration: 228100 loss: 0.0048 scmap loss: 0.0044 locref loss: 0.0001 limb loss: 0.0003 lr: 1e-05\n",
            "iteration: 228200 loss: 0.0049 scmap loss: 0.0046 locref loss: 0.0001 limb loss: 0.0003 lr: 1e-05\n",
            "iteration: 228300 loss: 0.0048 scmap loss: 0.0045 locref loss: 0.0001 limb loss: 0.0002 lr: 1e-05\n",
            "iteration: 228400 loss: 0.0049 scmap loss: 0.0045 locref loss: 0.0001 limb loss: 0.0003 lr: 1e-05\n",
            "iteration: 228500 loss: 0.0049 scmap loss: 0.0045 locref loss: 0.0001 limb loss: 0.0003 lr: 1e-05\n",
            "iteration: 228600 loss: 0.0050 scmap loss: 0.0046 locref loss: 0.0001 limb loss: 0.0003 lr: 1e-05\n",
            "iteration: 228700 loss: 0.0049 scmap loss: 0.0046 locref loss: 0.0001 limb loss: 0.0003 lr: 1e-05\n",
            "iteration: 228800 loss: 0.0048 scmap loss: 0.0044 locref loss: 0.0001 limb loss: 0.0003 lr: 1e-05\n",
            "iteration: 228900 loss: 0.0051 scmap loss: 0.0047 locref loss: 0.0001 limb loss: 0.0003 lr: 1e-05\n",
            "iteration: 229000 loss: 0.0049 scmap loss: 0.0046 locref loss: 0.0001 limb loss: 0.0003 lr: 1e-05\n",
            "iteration: 229100 loss: 0.0050 scmap loss: 0.0046 locref loss: 0.0001 limb loss: 0.0003 lr: 1e-05\n",
            "iteration: 229200 loss: 0.0049 scmap loss: 0.0045 locref loss: 0.0001 limb loss: 0.0003 lr: 1e-05\n",
            "iteration: 229300 loss: 0.0049 scmap loss: 0.0045 locref loss: 0.0001 limb loss: 0.0003 lr: 1e-05\n",
            "iteration: 229400 loss: 0.0049 scmap loss: 0.0045 locref loss: 0.0001 limb loss: 0.0003 lr: 1e-05\n",
            "iteration: 229500 loss: 0.0048 scmap loss: 0.0044 locref loss: 0.0001 limb loss: 0.0003 lr: 1e-05\n",
            "iteration: 229600 loss: 0.0049 scmap loss: 0.0045 locref loss: 0.0001 limb loss: 0.0003 lr: 1e-05\n",
            "iteration: 229700 loss: 0.0048 scmap loss: 0.0045 locref loss: 0.0001 limb loss: 0.0003 lr: 1e-05\n",
            "iteration: 229800 loss: 0.0048 scmap loss: 0.0045 locref loss: 0.0001 limb loss: 0.0003 lr: 1e-05\n",
            "iteration: 229900 loss: 0.0047 scmap loss: 0.0043 locref loss: 0.0001 limb loss: 0.0003 lr: 1e-05\n",
            "iteration: 230000 loss: 0.0049 scmap loss: 0.0045 locref loss: 0.0001 limb loss: 0.0003 lr: 1e-05\n",
            "iteration: 230100 loss: 0.0048 scmap loss: 0.0044 locref loss: 0.0001 limb loss: 0.0003 lr: 1e-05\n",
            "iteration: 230200 loss: 0.0048 scmap loss: 0.0044 locref loss: 0.0001 limb loss: 0.0003 lr: 1e-05\n",
            "iteration: 230300 loss: 0.0050 scmap loss: 0.0046 locref loss: 0.0001 limb loss: 0.0003 lr: 1e-05\n",
            "iteration: 230400 loss: 0.0048 scmap loss: 0.0044 locref loss: 0.0001 limb loss: 0.0003 lr: 1e-05\n",
            "iteration: 230500 loss: 0.0048 scmap loss: 0.0044 locref loss: 0.0001 limb loss: 0.0003 lr: 1e-05\n",
            "iteration: 230600 loss: 0.0047 scmap loss: 0.0044 locref loss: 0.0001 limb loss: 0.0003 lr: 1e-05\n",
            "iteration: 230700 loss: 0.0049 scmap loss: 0.0046 locref loss: 0.0001 limb loss: 0.0003 lr: 1e-05\n",
            "iteration: 230800 loss: 0.0048 scmap loss: 0.0045 locref loss: 0.0001 limb loss: 0.0003 lr: 1e-05\n",
            "iteration: 230900 loss: 0.0048 scmap loss: 0.0044 locref loss: 0.0001 limb loss: 0.0003 lr: 1e-05\n",
            "iteration: 231000 loss: 0.0050 scmap loss: 0.0046 locref loss: 0.0001 limb loss: 0.0003 lr: 1e-05\n",
            "iteration: 231100 loss: 0.0050 scmap loss: 0.0047 locref loss: 0.0001 limb loss: 0.0003 lr: 1e-05\n",
            "iteration: 231200 loss: 0.0048 scmap loss: 0.0044 locref loss: 0.0001 limb loss: 0.0003 lr: 1e-05\n",
            "iteration: 231300 loss: 0.0049 scmap loss: 0.0045 locref loss: 0.0001 limb loss: 0.0003 lr: 1e-05\n",
            "iteration: 231400 loss: 0.0048 scmap loss: 0.0045 locref loss: 0.0001 limb loss: 0.0003 lr: 1e-05\n",
            "iteration: 231500 loss: 0.0048 scmap loss: 0.0044 locref loss: 0.0001 limb loss: 0.0003 lr: 1e-05\n",
            "iteration: 231600 loss: 0.0049 scmap loss: 0.0046 locref loss: 0.0001 limb loss: 0.0003 lr: 1e-05\n",
            "iteration: 231700 loss: 0.0048 scmap loss: 0.0044 locref loss: 0.0001 limb loss: 0.0003 lr: 1e-05\n",
            "iteration: 231800 loss: 0.0047 scmap loss: 0.0044 locref loss: 0.0001 limb loss: 0.0003 lr: 1e-05\n",
            "iteration: 231900 loss: 0.0048 scmap loss: 0.0044 locref loss: 0.0001 limb loss: 0.0003 lr: 1e-05\n",
            "iteration: 232000 loss: 0.0048 scmap loss: 0.0044 locref loss: 0.0001 limb loss: 0.0003 lr: 1e-05\n",
            "iteration: 232100 loss: 0.0049 scmap loss: 0.0045 locref loss: 0.0001 limb loss: 0.0003 lr: 1e-05\n",
            "iteration: 232200 loss: 0.0047 scmap loss: 0.0044 locref loss: 0.0001 limb loss: 0.0003 lr: 1e-05\n",
            "iteration: 232300 loss: 0.0048 scmap loss: 0.0045 locref loss: 0.0001 limb loss: 0.0003 lr: 1e-05\n",
            "iteration: 232400 loss: 0.0047 scmap loss: 0.0044 locref loss: 0.0001 limb loss: 0.0003 lr: 1e-05\n",
            "iteration: 232500 loss: 0.0048 scmap loss: 0.0044 locref loss: 0.0001 limb loss: 0.0003 lr: 1e-05\n",
            "iteration: 232600 loss: 0.0048 scmap loss: 0.0044 locref loss: 0.0001 limb loss: 0.0003 lr: 1e-05\n",
            "iteration: 232700 loss: 0.0048 scmap loss: 0.0045 locref loss: 0.0001 limb loss: 0.0003 lr: 1e-05\n",
            "iteration: 232800 loss: 0.0049 scmap loss: 0.0046 locref loss: 0.0001 limb loss: 0.0003 lr: 1e-05\n",
            "iteration: 232900 loss: 0.0049 scmap loss: 0.0045 locref loss: 0.0001 limb loss: 0.0003 lr: 1e-05\n",
            "iteration: 233000 loss: 0.0049 scmap loss: 0.0045 locref loss: 0.0001 limb loss: 0.0003 lr: 1e-05\n",
            "iteration: 233100 loss: 0.0049 scmap loss: 0.0045 locref loss: 0.0001 limb loss: 0.0003 lr: 1e-05\n",
            "iteration: 233200 loss: 0.0049 scmap loss: 0.0045 locref loss: 0.0001 limb loss: 0.0003 lr: 1e-05\n",
            "iteration: 233300 loss: 0.0049 scmap loss: 0.0045 locref loss: 0.0001 limb loss: 0.0003 lr: 1e-05\n",
            "iteration: 233400 loss: 0.0050 scmap loss: 0.0046 locref loss: 0.0001 limb loss: 0.0003 lr: 1e-05\n",
            "iteration: 233500 loss: 0.0047 scmap loss: 0.0044 locref loss: 0.0001 limb loss: 0.0003 lr: 1e-05\n",
            "iteration: 233600 loss: 0.0050 scmap loss: 0.0046 locref loss: 0.0001 limb loss: 0.0003 lr: 1e-05\n",
            "iteration: 233700 loss: 0.0050 scmap loss: 0.0046 locref loss: 0.0001 limb loss: 0.0003 lr: 1e-05\n",
            "iteration: 233800 loss: 0.0048 scmap loss: 0.0045 locref loss: 0.0001 limb loss: 0.0003 lr: 1e-05\n",
            "iteration: 233900 loss: 0.0049 scmap loss: 0.0045 locref loss: 0.0001 limb loss: 0.0003 lr: 1e-05\n",
            "iteration: 234000 loss: 0.0047 scmap loss: 0.0044 locref loss: 0.0001 limb loss: 0.0003 lr: 1e-05\n",
            "iteration: 234100 loss: 0.0047 scmap loss: 0.0044 locref loss: 0.0001 limb loss: 0.0003 lr: 1e-05\n",
            "iteration: 234200 loss: 0.0048 scmap loss: 0.0044 locref loss: 0.0001 limb loss: 0.0003 lr: 1e-05\n",
            "iteration: 234300 loss: 0.0048 scmap loss: 0.0044 locref loss: 0.0001 limb loss: 0.0003 lr: 1e-05\n",
            "iteration: 234400 loss: 0.0047 scmap loss: 0.0043 locref loss: 0.0001 limb loss: 0.0003 lr: 1e-05\n",
            "iteration: 234500 loss: 0.0050 scmap loss: 0.0046 locref loss: 0.0001 limb loss: 0.0003 lr: 1e-05\n",
            "iteration: 234600 loss: 0.0050 scmap loss: 0.0046 locref loss: 0.0001 limb loss: 0.0003 lr: 1e-05\n",
            "iteration: 234700 loss: 0.0048 scmap loss: 0.0044 locref loss: 0.0001 limb loss: 0.0003 lr: 1e-05\n",
            "iteration: 234800 loss: 0.0050 scmap loss: 0.0046 locref loss: 0.0001 limb loss: 0.0003 lr: 1e-05\n",
            "iteration: 234900 loss: 0.0046 scmap loss: 0.0042 locref loss: 0.0001 limb loss: 0.0003 lr: 1e-05\n",
            "iteration: 235000 loss: 0.0047 scmap loss: 0.0044 locref loss: 0.0001 limb loss: 0.0003 lr: 1e-05\n",
            "iteration: 235100 loss: 0.0047 scmap loss: 0.0043 locref loss: 0.0001 limb loss: 0.0003 lr: 1e-05\n",
            "iteration: 235200 loss: 0.0049 scmap loss: 0.0045 locref loss: 0.0001 limb loss: 0.0003 lr: 1e-05\n",
            "iteration: 235300 loss: 0.0047 scmap loss: 0.0044 locref loss: 0.0001 limb loss: 0.0003 lr: 1e-05\n",
            "iteration: 235400 loss: 0.0048 scmap loss: 0.0044 locref loss: 0.0001 limb loss: 0.0003 lr: 1e-05\n",
            "iteration: 235500 loss: 0.0047 scmap loss: 0.0043 locref loss: 0.0001 limb loss: 0.0003 lr: 1e-05\n",
            "iteration: 235600 loss: 0.0048 scmap loss: 0.0044 locref loss: 0.0001 limb loss: 0.0003 lr: 1e-05\n",
            "iteration: 235700 loss: 0.0048 scmap loss: 0.0045 locref loss: 0.0001 limb loss: 0.0003 lr: 1e-05\n",
            "iteration: 235800 loss: 0.0047 scmap loss: 0.0043 locref loss: 0.0001 limb loss: 0.0003 lr: 1e-05\n",
            "iteration: 235900 loss: 0.0048 scmap loss: 0.0044 locref loss: 0.0001 limb loss: 0.0003 lr: 1e-05\n",
            "iteration: 236000 loss: 0.0049 scmap loss: 0.0045 locref loss: 0.0001 limb loss: 0.0003 lr: 1e-05\n",
            "iteration: 236100 loss: 0.0049 scmap loss: 0.0045 locref loss: 0.0001 limb loss: 0.0003 lr: 1e-05\n",
            "iteration: 236200 loss: 0.0050 scmap loss: 0.0046 locref loss: 0.0001 limb loss: 0.0003 lr: 1e-05\n",
            "iteration: 236300 loss: 0.0048 scmap loss: 0.0044 locref loss: 0.0001 limb loss: 0.0003 lr: 1e-05\n",
            "iteration: 236400 loss: 0.0047 scmap loss: 0.0043 locref loss: 0.0001 limb loss: 0.0003 lr: 1e-05\n",
            "iteration: 236500 loss: 0.0047 scmap loss: 0.0043 locref loss: 0.0001 limb loss: 0.0003 lr: 1e-05\n",
            "iteration: 236600 loss: 0.0048 scmap loss: 0.0045 locref loss: 0.0001 limb loss: 0.0003 lr: 1e-05\n",
            "iteration: 236700 loss: 0.0048 scmap loss: 0.0045 locref loss: 0.0001 limb loss: 0.0003 lr: 1e-05\n",
            "iteration: 236800 loss: 0.0050 scmap loss: 0.0046 locref loss: 0.0001 limb loss: 0.0003 lr: 1e-05\n",
            "iteration: 236900 loss: 0.0047 scmap loss: 0.0043 locref loss: 0.0001 limb loss: 0.0003 lr: 1e-05\n",
            "iteration: 237000 loss: 0.0048 scmap loss: 0.0044 locref loss: 0.0001 limb loss: 0.0003 lr: 1e-05\n",
            "iteration: 237100 loss: 0.0047 scmap loss: 0.0044 locref loss: 0.0001 limb loss: 0.0003 lr: 1e-05\n",
            "iteration: 237200 loss: 0.0048 scmap loss: 0.0045 locref loss: 0.0001 limb loss: 0.0003 lr: 1e-05\n",
            "iteration: 237300 loss: 0.0046 scmap loss: 0.0043 locref loss: 0.0001 limb loss: 0.0003 lr: 1e-05\n",
            "iteration: 237400 loss: 0.0047 scmap loss: 0.0043 locref loss: 0.0001 limb loss: 0.0003 lr: 1e-05\n",
            "iteration: 237500 loss: 0.0048 scmap loss: 0.0044 locref loss: 0.0001 limb loss: 0.0003 lr: 1e-05\n",
            "iteration: 237600 loss: 0.0047 scmap loss: 0.0044 locref loss: 0.0001 limb loss: 0.0003 lr: 1e-05\n",
            "iteration: 237700 loss: 0.0047 scmap loss: 0.0044 locref loss: 0.0001 limb loss: 0.0003 lr: 1e-05\n",
            "iteration: 237800 loss: 0.0048 scmap loss: 0.0045 locref loss: 0.0001 limb loss: 0.0003 lr: 1e-05\n",
            "iteration: 237900 loss: 0.0048 scmap loss: 0.0044 locref loss: 0.0001 limb loss: 0.0003 lr: 1e-05\n",
            "iteration: 238000 loss: 0.0048 scmap loss: 0.0044 locref loss: 0.0001 limb loss: 0.0003 lr: 1e-05\n",
            "iteration: 238100 loss: 0.0048 scmap loss: 0.0044 locref loss: 0.0001 limb loss: 0.0003 lr: 1e-05\n",
            "iteration: 238200 loss: 0.0047 scmap loss: 0.0043 locref loss: 0.0001 limb loss: 0.0003 lr: 1e-05\n",
            "iteration: 238300 loss: 0.0048 scmap loss: 0.0044 locref loss: 0.0001 limb loss: 0.0003 lr: 1e-05\n",
            "iteration: 238400 loss: 0.0049 scmap loss: 0.0045 locref loss: 0.0001 limb loss: 0.0003 lr: 1e-05\n",
            "iteration: 238500 loss: 0.0048 scmap loss: 0.0044 locref loss: 0.0001 limb loss: 0.0003 lr: 1e-05\n",
            "iteration: 238600 loss: 0.0048 scmap loss: 0.0044 locref loss: 0.0001 limb loss: 0.0003 lr: 1e-05\n",
            "iteration: 238700 loss: 0.0048 scmap loss: 0.0045 locref loss: 0.0001 limb loss: 0.0003 lr: 1e-05\n",
            "iteration: 238800 loss: 0.0049 scmap loss: 0.0045 locref loss: 0.0001 limb loss: 0.0003 lr: 1e-05\n",
            "iteration: 238900 loss: 0.0049 scmap loss: 0.0045 locref loss: 0.0001 limb loss: 0.0003 lr: 1e-05\n",
            "iteration: 239000 loss: 0.0049 scmap loss: 0.0045 locref loss: 0.0001 limb loss: 0.0003 lr: 1e-05\n",
            "iteration: 239100 loss: 0.0048 scmap loss: 0.0044 locref loss: 0.0001 limb loss: 0.0003 lr: 1e-05\n",
            "iteration: 239200 loss: 0.0047 scmap loss: 0.0044 locref loss: 0.0001 limb loss: 0.0003 lr: 1e-05\n",
            "iteration: 239300 loss: 0.0047 scmap loss: 0.0044 locref loss: 0.0001 limb loss: 0.0003 lr: 1e-05\n",
            "iteration: 239400 loss: 0.0049 scmap loss: 0.0045 locref loss: 0.0001 limb loss: 0.0003 lr: 1e-05\n",
            "iteration: 239500 loss: 0.0048 scmap loss: 0.0045 locref loss: 0.0001 limb loss: 0.0003 lr: 1e-05\n",
            "iteration: 239600 loss: 0.0050 scmap loss: 0.0046 locref loss: 0.0001 limb loss: 0.0003 lr: 1e-05\n",
            "iteration: 239700 loss: 0.0047 scmap loss: 0.0043 locref loss: 0.0001 limb loss: 0.0003 lr: 1e-05\n",
            "iteration: 239800 loss: 0.0047 scmap loss: 0.0044 locref loss: 0.0001 limb loss: 0.0003 lr: 1e-05\n",
            "iteration: 239900 loss: 0.0047 scmap loss: 0.0043 locref loss: 0.0001 limb loss: 0.0003 lr: 1e-05\n",
            "iteration: 240000 loss: 0.0047 scmap loss: 0.0044 locref loss: 0.0001 limb loss: 0.0003 lr: 1e-05\n",
            "iteration: 240100 loss: 0.0047 scmap loss: 0.0044 locref loss: 0.0001 limb loss: 0.0003 lr: 1e-05\n",
            "iteration: 240200 loss: 0.0047 scmap loss: 0.0043 locref loss: 0.0001 limb loss: 0.0002 lr: 1e-05\n",
            "iteration: 240300 loss: 0.0048 scmap loss: 0.0044 locref loss: 0.0001 limb loss: 0.0003 lr: 1e-05\n",
            "iteration: 240400 loss: 0.0048 scmap loss: 0.0044 locref loss: 0.0001 limb loss: 0.0003 lr: 1e-05\n",
            "iteration: 240500 loss: 0.0048 scmap loss: 0.0044 locref loss: 0.0001 limb loss: 0.0003 lr: 1e-05\n",
            "iteration: 240600 loss: 0.0048 scmap loss: 0.0045 locref loss: 0.0001 limb loss: 0.0003 lr: 1e-05\n",
            "iteration: 240700 loss: 0.0048 scmap loss: 0.0044 locref loss: 0.0001 limb loss: 0.0003 lr: 1e-05\n",
            "iteration: 240800 loss: 0.0047 scmap loss: 0.0044 locref loss: 0.0001 limb loss: 0.0003 lr: 1e-05\n",
            "iteration: 240900 loss: 0.0048 scmap loss: 0.0045 locref loss: 0.0001 limb loss: 0.0003 lr: 1e-05\n",
            "iteration: 241000 loss: 0.0049 scmap loss: 0.0045 locref loss: 0.0001 limb loss: 0.0003 lr: 1e-05\n",
            "iteration: 241100 loss: 0.0047 scmap loss: 0.0044 locref loss: 0.0001 limb loss: 0.0003 lr: 1e-05\n",
            "iteration: 241200 loss: 0.0049 scmap loss: 0.0045 locref loss: 0.0001 limb loss: 0.0003 lr: 1e-05\n",
            "iteration: 241300 loss: 0.0046 scmap loss: 0.0043 locref loss: 0.0001 limb loss: 0.0003 lr: 1e-05\n",
            "iteration: 241400 loss: 0.0047 scmap loss: 0.0043 locref loss: 0.0001 limb loss: 0.0003 lr: 1e-05\n",
            "iteration: 241500 loss: 0.0046 scmap loss: 0.0043 locref loss: 0.0001 limb loss: 0.0003 lr: 1e-05\n",
            "iteration: 241600 loss: 0.0047 scmap loss: 0.0044 locref loss: 0.0001 limb loss: 0.0003 lr: 1e-05\n",
            "iteration: 241700 loss: 0.0047 scmap loss: 0.0043 locref loss: 0.0001 limb loss: 0.0003 lr: 1e-05\n",
            "iteration: 241800 loss: 0.0047 scmap loss: 0.0043 locref loss: 0.0001 limb loss: 0.0003 lr: 1e-05\n",
            "iteration: 241900 loss: 0.0046 scmap loss: 0.0043 locref loss: 0.0001 limb loss: 0.0002 lr: 1e-05\n",
            "iteration: 242000 loss: 0.0048 scmap loss: 0.0044 locref loss: 0.0001 limb loss: 0.0003 lr: 1e-05\n",
            "iteration: 242100 loss: 0.0047 scmap loss: 0.0043 locref loss: 0.0001 limb loss: 0.0003 lr: 1e-05\n",
            "iteration: 242200 loss: 0.0048 scmap loss: 0.0044 locref loss: 0.0001 limb loss: 0.0003 lr: 1e-05\n",
            "iteration: 242300 loss: 0.0048 scmap loss: 0.0045 locref loss: 0.0001 limb loss: 0.0003 lr: 1e-05\n",
            "iteration: 242400 loss: 0.0047 scmap loss: 0.0044 locref loss: 0.0001 limb loss: 0.0003 lr: 1e-05\n",
            "iteration: 242500 loss: 0.0048 scmap loss: 0.0044 locref loss: 0.0001 limb loss: 0.0003 lr: 1e-05\n",
            "iteration: 242600 loss: 0.0047 scmap loss: 0.0043 locref loss: 0.0001 limb loss: 0.0003 lr: 1e-05\n",
            "iteration: 242700 loss: 0.0048 scmap loss: 0.0045 locref loss: 0.0001 limb loss: 0.0003 lr: 1e-05\n",
            "iteration: 242800 loss: 0.0046 scmap loss: 0.0043 locref loss: 0.0001 limb loss: 0.0003 lr: 1e-05\n",
            "iteration: 242900 loss: 0.0049 scmap loss: 0.0045 locref loss: 0.0001 limb loss: 0.0003 lr: 1e-05\n",
            "iteration: 243000 loss: 0.0048 scmap loss: 0.0045 locref loss: 0.0001 limb loss: 0.0003 lr: 1e-05\n",
            "Exception in thread Thread-13:\n",
            "Traceback (most recent call last):\n",
            "  File \"/usr/local/lib/python3.7/dist-packages/tensorflow/python/client/session.py\", line 1377, in _do_call\n",
            "    return fn(*args)\n",
            "  File \"/usr/local/lib/python3.7/dist-packages/tensorflow/python/client/session.py\", line 1361, in _run_fn\n",
            "    target_list, run_metadata)\n",
            "  File \"/usr/local/lib/python3.7/dist-packages/tensorflow/python/client/session.py\", line 1455, in _call_tf_sessionrun\n",
            "    run_metadata)\n",
            "tensorflow.python.framework.errors_impl.CancelledError: Enqueue operation was cancelled\n",
            "\t [[{{node fifo_queue_enqueue}}]]\n",
            "\n",
            "During handling of the above exception, another exception occurred:\n",
            "\n",
            "Traceback (most recent call last):\n",
            "  File \"/usr/lib/python3.7/threading.py\", line 926, in _bootstrap_inner\n",
            "    self.run()\n",
            "  File \"/usr/lib/python3.7/threading.py\", line 870, in run\n",
            "    self._target(*self._args, **self._kwargs)\n",
            "  File \"/usr/local/lib/python3.7/dist-packages/deeplabcut/pose_estimation_tensorflow/core/train.py\", line 83, in load_and_enqueue\n",
            "    sess.run(enqueue_op, feed_dict=food)\n",
            "  File \"/usr/local/lib/python3.7/dist-packages/tensorflow/python/client/session.py\", line 968, in run\n",
            "    run_metadata_ptr)\n",
            "  File \"/usr/local/lib/python3.7/dist-packages/tensorflow/python/client/session.py\", line 1191, in _run\n",
            "    feed_dict_tensor, options, run_metadata)\n",
            "  File \"/usr/local/lib/python3.7/dist-packages/tensorflow/python/client/session.py\", line 1371, in _do_run\n",
            "    run_metadata)\n",
            "  File \"/usr/local/lib/python3.7/dist-packages/tensorflow/python/client/session.py\", line 1396, in _do_call\n",
            "    raise type(e)(node_def, op, message)  # pylint: disable=no-value-for-parameter\n",
            "tensorflow.python.framework.errors_impl.CancelledError: Graph execution error:\n",
            "\n",
            "Detected at node 'fifo_queue_enqueue' defined at (most recent call last):\n",
            "    File \"/usr/lib/python3.7/runpy.py\", line 193, in _run_module_as_main\n",
            "      \"__main__\", mod_spec)\n",
            "    File \"/usr/lib/python3.7/runpy.py\", line 85, in _run_code\n",
            "      exec(code, run_globals)\n",
            "    File \"/usr/local/lib/python3.7/dist-packages/ipykernel_launcher.py\", line 16, in <module>\n",
            "      app.launch_new_instance()\n",
            "    File \"/usr/local/lib/python3.7/dist-packages/traitlets/config/application.py\", line 846, in launch_instance\n",
            "      app.start()\n",
            "    File \"/usr/local/lib/python3.7/dist-packages/ipykernel/kernelapp.py\", line 612, in start\n",
            "      self.io_loop.start()\n",
            "    File \"/usr/local/lib/python3.7/dist-packages/tornado/platform/asyncio.py\", line 132, in start\n",
            "      self.asyncio_loop.run_forever()\n",
            "    File \"/usr/lib/python3.7/asyncio/base_events.py\", line 541, in run_forever\n",
            "      self._run_once()\n",
            "    File \"/usr/lib/python3.7/asyncio/base_events.py\", line 1786, in _run_once\n",
            "      handle._run()\n",
            "    File \"/usr/lib/python3.7/asyncio/events.py\", line 88, in _run\n",
            "      self._context.run(self._callback, *self._args)\n",
            "    File \"/usr/local/lib/python3.7/dist-packages/tornado/ioloop.py\", line 758, in _run_callback\n",
            "      ret = callback()\n",
            "    File \"/usr/local/lib/python3.7/dist-packages/tornado/stack_context.py\", line 300, in null_wrapper\n",
            "      return fn(*args, **kwargs)\n",
            "    File \"/usr/local/lib/python3.7/dist-packages/tornado/gen.py\", line 1233, in inner\n",
            "      self.run()\n",
            "    File \"/usr/local/lib/python3.7/dist-packages/tornado/gen.py\", line 1147, in run\n",
            "      yielded = self.gen.send(value)\n",
            "    File \"/usr/local/lib/python3.7/dist-packages/ipykernel/kernelbase.py\", line 365, in process_one\n",
            "      yield gen.maybe_future(dispatch(*args))\n",
            "    File \"/usr/local/lib/python3.7/dist-packages/tornado/gen.py\", line 326, in wrapper\n",
            "      yielded = next(result)\n",
            "    File \"/usr/local/lib/python3.7/dist-packages/ipykernel/kernelbase.py\", line 268, in dispatch_shell\n",
            "      yield gen.maybe_future(handler(stream, idents, msg))\n",
            "    File \"/usr/local/lib/python3.7/dist-packages/tornado/gen.py\", line 326, in wrapper\n",
            "      yielded = next(result)\n",
            "    File \"/usr/local/lib/python3.7/dist-packages/ipykernel/kernelbase.py\", line 545, in execute_request\n",
            "      user_expressions, allow_stdin,\n",
            "    File \"/usr/local/lib/python3.7/dist-packages/tornado/gen.py\", line 326, in wrapper\n",
            "      yielded = next(result)\n",
            "    File \"/usr/local/lib/python3.7/dist-packages/ipykernel/ipkernel.py\", line 306, in do_execute\n",
            "      res = shell.run_cell(code, store_history=store_history, silent=silent)\n",
            "    File \"/usr/local/lib/python3.7/dist-packages/ipykernel/zmqshell.py\", line 536, in run_cell\n",
            "      return super(ZMQInteractiveShell, self).run_cell(*args, **kwargs)\n",
            "    File \"/usr/local/lib/python3.7/dist-packages/IPython/core/interactiveshell.py\", line 2855, in run_cell\n",
            "      raw_cell, store_history, silent, shell_futures)\n",
            "    File \"/usr/local/lib/python3.7/dist-packages/IPython/core/interactiveshell.py\", line 2881, in _run_cell\n",
            "      return runner(coro)\n",
            "    File \"/usr/local/lib/python3.7/dist-packages/IPython/core/async_helpers.py\", line 68, in _pseudo_sync_runner\n",
            "      coro.send(None)\n",
            "    File \"/usr/local/lib/python3.7/dist-packages/IPython/core/interactiveshell.py\", line 3058, in run_cell_async\n",
            "      interactivity=interactivity, compiler=compiler, result=result)\n",
            "    File \"/usr/local/lib/python3.7/dist-packages/IPython/core/interactiveshell.py\", line 3249, in run_ast_nodes\n",
            "      if (await self.run_code(code, result,  async_=asy)):\n",
            "    File \"/usr/local/lib/python3.7/dist-packages/IPython/core/interactiveshell.py\", line 3326, in run_code\n",
            "      exec(code_obj, self.user_global_ns, self.user_ns)\n",
            "    File \"<ipython-input-7-7719d8a456c0>\", line 5, in <module>\n",
            "      deeplabcut.train_network(path_config_file, shuffle=shuffle, displayiters=100,saveiters=1000, maxiters=75000, allow_growth=True)\n",
            "    File \"/usr/local/lib/python3.7/dist-packages/deeplabcut/pose_estimation_tensorflow/training.py\", line 204, in train_network\n",
            "      allow_growth=allow_growth,\n",
            "    File \"/usr/local/lib/python3.7/dist-packages/deeplabcut/pose_estimation_tensorflow/core/train_multianimal.py\", line 66, in train\n",
            "      batch, enqueue_op, placeholders = setup_preloading(batch_spec)\n",
            "    File \"/usr/local/lib/python3.7/dist-packages/deeplabcut/pose_estimation_tensorflow/core/train.py\", line 69, in setup_preloading\n",
            "      enqueue_op = q.enqueue(placeholders_list)\n",
            "Node: 'fifo_queue_enqueue'\n",
            "Enqueue operation was cancelled\n",
            "\t [[{{node fifo_queue_enqueue}}]]\n",
            "\n",
            "Original stack trace for 'fifo_queue_enqueue':\n",
            "  File \"/usr/lib/python3.7/runpy.py\", line 193, in _run_module_as_main\n",
            "    \"__main__\", mod_spec)\n",
            "  File \"/usr/lib/python3.7/runpy.py\", line 85, in _run_code\n",
            "    exec(code, run_globals)\n",
            "  File \"/usr/local/lib/python3.7/dist-packages/ipykernel_launcher.py\", line 16, in <module>\n",
            "    app.launch_new_instance()\n",
            "  File \"/usr/local/lib/python3.7/dist-packages/traitlets/config/application.py\", line 846, in launch_instance\n",
            "    app.start()\n",
            "  File \"/usr/local/lib/python3.7/dist-packages/ipykernel/kernelapp.py\", line 612, in start\n",
            "    self.io_loop.start()\n",
            "  File \"/usr/local/lib/python3.7/dist-packages/tornado/platform/asyncio.py\", line 132, in start\n",
            "    self.asyncio_loop.run_forever()\n",
            "  File \"/usr/lib/python3.7/asyncio/base_events.py\", line 541, in run_forever\n",
            "    self._run_once()\n",
            "  File \"/usr/lib/python3.7/asyncio/base_events.py\", line 1786, in _run_once\n",
            "    handle._run()\n",
            "  File \"/usr/lib/python3.7/asyncio/events.py\", line 88, in _run\n",
            "    self._context.run(self._callback, *self._args)\n",
            "  File \"/usr/local/lib/python3.7/dist-packages/tornado/ioloop.py\", line 758, in _run_callback\n",
            "    ret = callback()\n",
            "  File \"/usr/local/lib/python3.7/dist-packages/tornado/stack_context.py\", line 300, in null_wrapper\n",
            "    return fn(*args, **kwargs)\n",
            "  File \"/usr/local/lib/python3.7/dist-packages/tornado/gen.py\", line 1233, in inner\n",
            "    self.run()\n",
            "  File \"/usr/local/lib/python3.7/dist-packages/tornado/gen.py\", line 1147, in run\n",
            "    yielded = self.gen.send(value)\n",
            "  File \"/usr/local/lib/python3.7/dist-packages/ipykernel/kernelbase.py\", line 365, in process_one\n",
            "    yield gen.maybe_future(dispatch(*args))\n",
            "  File \"/usr/local/lib/python3.7/dist-packages/tornado/gen.py\", line 326, in wrapper\n",
            "    yielded = next(result)\n",
            "  File \"/usr/local/lib/python3.7/dist-packages/ipykernel/kernelbase.py\", line 268, in dispatch_shell\n",
            "    yield gen.maybe_future(handler(stream, idents, msg))\n",
            "  File \"/usr/local/lib/python3.7/dist-packages/tornado/gen.py\", line 326, in wrapper\n",
            "    yielded = next(result)\n",
            "  File \"/usr/local/lib/python3.7/dist-packages/ipykernel/kernelbase.py\", line 545, in execute_request\n",
            "    user_expressions, allow_stdin,\n",
            "  File \"/usr/local/lib/python3.7/dist-packages/tornado/gen.py\", line 326, in wrapper\n",
            "    yielded = next(result)\n",
            "  File \"/usr/local/lib/python3.7/dist-packages/ipykernel/ipkernel.py\", line 306, in do_execute\n",
            "    res = shell.run_cell(code, store_history=store_history, silent=silent)\n",
            "  File \"/usr/local/lib/python3.7/dist-packages/ipykernel/zmqshell.py\", line 536, in run_cell\n",
            "    return super(ZMQInteractiveShell, self).run_cell(*args, **kwargs)\n",
            "  File \"/usr/local/lib/python3.7/dist-packages/IPython/core/interactiveshell.py\", line 2855, in run_cell\n",
            "    raw_cell, store_history, silent, shell_futures)\n",
            "  File \"/usr/local/lib/python3.7/dist-packages/IPython/core/interactiveshell.py\", line 2881, in _run_cell\n",
            "    return runner(coro)\n",
            "  File \"/usr/local/lib/python3.7/dist-packages/IPython/core/async_helpers.py\", line 68, in _pseudo_sync_runner\n",
            "    coro.send(None)\n",
            "  File \"/usr/local/lib/python3.7/dist-packages/IPython/core/interactiveshell.py\", line 3058, in run_cell_async\n",
            "    interactivity=interactivity, compiler=compiler, result=result)\n",
            "  File \"/usr/local/lib/python3.7/dist-packages/IPython/core/interactiveshell.py\", line 3249, in run_ast_nodes\n",
            "    if (await self.run_code(code, result,  async_=asy)):\n",
            "  File \"/usr/local/lib/python3.7/dist-packages/IPython/core/interactiveshell.py\", line 3326, in run_code\n",
            "    exec(code_obj, self.user_global_ns, self.user_ns)\n",
            "  File \"<ipython-input-7-7719d8a456c0>\", line 5, in <module>\n",
            "    deeplabcut.train_network(path_config_file, shuffle=shuffle, displayiters=100,saveiters=1000, maxiters=75000, allow_growth=True)\n",
            "  File \"/usr/local/lib/python3.7/dist-packages/deeplabcut/pose_estimation_tensorflow/training.py\", line 204, in train_network\n",
            "    allow_growth=allow_growth,\n",
            "  File \"/usr/local/lib/python3.7/dist-packages/deeplabcut/pose_estimation_tensorflow/core/train_multianimal.py\", line 66, in train\n",
            "    batch, enqueue_op, placeholders = setup_preloading(batch_spec)\n",
            "  File \"/usr/local/lib/python3.7/dist-packages/deeplabcut/pose_estimation_tensorflow/core/train.py\", line 69, in setup_preloading\n",
            "    enqueue_op = q.enqueue(placeholders_list)\n",
            "  File \"/usr/local/lib/python3.7/dist-packages/tensorflow/python/ops/data_flow_ops.py\", line 348, in enqueue\n",
            "    self._queue_ref, vals, name=scope)\n",
            "  File \"/usr/local/lib/python3.7/dist-packages/tensorflow/python/ops/gen_data_flow_ops.py\", line 4065, in queue_enqueue_v2\n",
            "    timeout_ms=timeout_ms, name=name)\n",
            "  File \"/usr/local/lib/python3.7/dist-packages/tensorflow/python/framework/op_def_library.py\", line 742, in _apply_op_helper\n",
            "    attrs=attr_protos, op_def=op_def)\n",
            "  File \"/usr/local/lib/python3.7/dist-packages/tensorflow/python/framework/ops.py\", line 3784, in _create_op_internal\n",
            "    op_def=op_def)\n",
            "  File \"/usr/local/lib/python3.7/dist-packages/tensorflow/python/framework/ops.py\", line 2175, in __init__\n",
            "    self._traceback = tf_stack.extract_stack_for_node(self._c_op)\n",
            "\n",
            "\n"
          ]
        },
        {
          "output_type": "stream",
          "name": "stdout",
          "text": [
            "The network is now trained and ready to evaluate. Use the function 'evaluate_network' to evaluate the network.\n"
          ]
        }
      ],
      "source": [
        "#let's also change the display and save_iters just in case Colab takes away the GPU... \n",
        "#Typically, you want to train to 50,000 - 200K iterations.\n",
        "#more info and there are more things you can set: https://github.com/DeepLabCut/DeepLabCut/blob/master/docs/functionDetails.md#g-train-the-network\n",
        "\n",
        "deeplabcut.train_network(path_config_file, shuffle=shuffle, displayiters=100,saveiters=1000, maxiters=75000, allow_growth=True)\n",
        "\n",
        "#this will run until you stop it (CTRL+C), or hit \"STOP\" icon, or when it hits the end (default, 50K iterations). \n",
        "#Whichever you chose, you will see what looks like an error message, but it's not an error - don't worry...."
      ]
    },
    {
      "cell_type": "markdown",
      "metadata": {
        "id": "RiDwIVf5-3H_"
      },
      "source": [
        "**When you hit \"STOP\" you will get a KeyInterrupt \"error\"! No worries! :)**"
      ]
    },
    {
      "cell_type": "markdown",
      "metadata": {
        "id": "xZygsb2DoEJc"
      },
      "source": [
        "## Start evaluating: \n",
        "\n",
        " - First, we evaluate the pose estimation performance.\n",
        "\n",
        "- This function evaluates a trained model for a specific shuffle/shuffles at a particular state or all the states on the data set (images) and stores the results as .5 and .csv file in a subdirectory under **evaluation-results**\n",
        "\n",
        "- If the scoremaps do not look accurate, don't proceed to tracklet assembly; please consider (1) adding more data, (2) adding more bodyparts!\n",
        "\n",
        "- more info: https://deeplabcut.github.io/DeepLabCut/docs/maDLC_UserGuide.html#evaluate-the-trained-network\n",
        "\n",
        "Here is an example of what you'd aim to see before proceeding:\n",
        "\n",
        "![alt text](https://images.squarespace-cdn.com/content/v1/57f6d51c9f74566f55ecf271/1590535809087-X655WY9W1MW1MY1I7DHE/ke17ZwdGBToddI8pDm48kBoswZhKnUtAF7-bTXgw67EUqsxRUqqbr1mOJYKfIPR7LoDQ9mXPOjoJoqy81S2I8N_N4V1vUb5AoIIIbLZhVYxCRW4BPu10St3TBAUQYVKc5tTP1cnANTUwNNPnYFjIp6XbP9N1GxIgAkxvBVqt0UvLpPHYwvNQTwHg8f_Zu8ZF/evaluation.png?format=1000w)\n",
        "\n"
      ]
    },
    {
      "cell_type": "code",
      "execution_count": null,
      "metadata": {
        "id": "nv4zlbrnoEJg",
        "colab": {
          "base_uri": "https://localhost:8080/"
        },
        "outputId": "8d63473d-0049-43df-b370-68736954e262"
      },
      "outputs": [
        {
          "output_type": "stream",
          "name": "stdout",
          "text": [
            "Running  DLC_dlcrnetms5_2022-06-10-laboSep27shuffle11_243000  with # of trainingiterations: 243000\n"
          ]
        },
        {
          "output_type": "stream",
          "name": "stderr",
          "text": [
            "/usr/local/lib/python3.7/dist-packages/tensorflow/python/keras/engine/base_layer_v1.py:1694: UserWarning: `layer.apply` is deprecated and will be removed in a future version. Please use `layer.__call__` method instead.\n",
            "  warnings.warn('`layer.apply` is deprecated and '\n",
            "/usr/local/lib/python3.7/dist-packages/tf_slim/layers/layers.py:684: UserWarning: `layer.apply` is deprecated and will be removed in a future version. Please use `layer.__call__` method instead.\n",
            "  outputs = layer.apply(inputs, training=is_training)\n"
          ]
        },
        {
          "output_type": "stream",
          "name": "stdout",
          "text": [
            "Activating extracting of PAFs\n",
            "Network Evaluation underway...\n"
          ]
        },
        {
          "output_type": "stream",
          "name": "stderr",
          "text": [
            "1673it [14:11,  1.97it/s]\n"
          ]
        },
        {
          "output_type": "stream",
          "name": "stdout",
          "text": [
            "Results for 243000 training iterations, training fraction of 95, and shuffle 11:\n",
            "Train error: 2.72 pixels. Test error: 4.85 pixels.\n",
            "With pcutoff of 0.4:\n",
            "Train error: 2.7 pixels. Test error: 4.78 pixels.\n",
            "##########################################\n",
            "Average Euclidean distance to GT per individual (in pixels; test-only)\n",
            "individuals\n",
            "tadpole1    4.373090\n",
            "tadpole2    5.129354\n",
            "tadpole3    5.028751\n",
            "Average Euclidean distance to GT per bodypart (in pixels; test-only)\n",
            "bodyparts\n",
            "L_eye       3.114443\n",
            "Nose        3.381510\n",
            "R_Eye       3.586267\n",
            "Stomach     3.090311\n",
            "T1          3.458280\n",
            "T2          5.102679\n",
            "T3          7.978693\n",
            "T4         10.311673\n",
            "Done and results stored for snapshot:  snapshot-243000\n",
            "Selecting best skeleton...\n",
            "Graph 1|10\n"
          ]
        },
        {
          "output_type": "stream",
          "name": "stderr",
          "text": [
            "100%|██████████| 1672/1672 [00:03<00:00, 517.57it/s]\n",
            "100%|██████████| 1588/1588 [00:01<00:00, 986.42it/s] \n",
            "100%|██████████| 84/84 [00:00<00:00, 1023.45it/s]\n",
            "100%|██████████| 1672/1672 [00:00<00:00, 2366.14it/s]"
          ]
        },
        {
          "output_type": "stream",
          "name": "stdout",
          "text": [
            "Graph 2|10\n"
          ]
        },
        {
          "output_type": "stream",
          "name": "stderr",
          "text": [
            "\n",
            "100%|██████████| 1672/1672 [00:03<00:00, 477.94it/s]\n",
            "100%|██████████| 1588/1588 [00:01<00:00, 1044.16it/s]\n",
            "100%|██████████| 84/84 [00:00<00:00, 1042.59it/s]\n",
            "100%|██████████| 1672/1672 [00:00<00:00, 2273.66it/s]"
          ]
        },
        {
          "output_type": "stream",
          "name": "stdout",
          "text": [
            "Graph 3|10\n"
          ]
        },
        {
          "output_type": "stream",
          "name": "stderr",
          "text": [
            "\n",
            "100%|██████████| 1672/1672 [00:03<00:00, 434.86it/s]\n",
            "100%|██████████| 1588/1588 [00:01<00:00, 979.67it/s]\n",
            "100%|██████████| 84/84 [00:00<00:00, 1023.50it/s]\n",
            "100%|██████████| 1672/1672 [00:00<00:00, 2270.31it/s]"
          ]
        },
        {
          "output_type": "stream",
          "name": "stdout",
          "text": [
            "Graph 4|10\n"
          ]
        },
        {
          "output_type": "stream",
          "name": "stderr",
          "text": [
            "\n",
            "100%|██████████| 1672/1672 [00:04<00:00, 387.73it/s]\n",
            "100%|██████████| 1588/1588 [00:01<00:00, 1028.31it/s]\n",
            "100%|██████████| 84/84 [00:00<00:00, 1024.48it/s]\n",
            "100%|██████████| 1672/1672 [00:00<00:00, 2347.82it/s]"
          ]
        },
        {
          "output_type": "stream",
          "name": "stdout",
          "text": [
            "Graph 5|10\n"
          ]
        },
        {
          "output_type": "stream",
          "name": "stderr",
          "text": [
            "\n",
            "100%|██████████| 1672/1672 [00:03<00:00, 433.98it/s]\n",
            "100%|██████████| 1588/1588 [00:01<00:00, 1048.69it/s]\n",
            "100%|██████████| 84/84 [00:00<00:00, 1045.73it/s]\n",
            "100%|██████████| 1672/1672 [00:00<00:00, 2190.17it/s]"
          ]
        },
        {
          "output_type": "stream",
          "name": "stdout",
          "text": [
            "Graph 6|10\n"
          ]
        },
        {
          "output_type": "stream",
          "name": "stderr",
          "text": [
            "\n",
            "100%|██████████| 1672/1672 [00:04<00:00, 347.31it/s]\n",
            "100%|██████████| 1588/1588 [00:01<00:00, 911.33it/s]\n",
            "100%|██████████| 84/84 [00:00<00:00, 651.92it/s]\n",
            "100%|██████████| 1672/1672 [00:01<00:00, 1541.31it/s]"
          ]
        },
        {
          "output_type": "stream",
          "name": "stdout",
          "text": [
            "Graph 7|10\n"
          ]
        },
        {
          "output_type": "stream",
          "name": "stderr",
          "text": [
            "\n",
            "100%|██████████| 1672/1672 [00:06<00:00, 256.08it/s]\n",
            "100%|██████████| 1588/1588 [00:01<00:00, 1046.70it/s]\n",
            "100%|██████████| 84/84 [00:00<00:00, 963.96it/s]\n",
            "100%|██████████| 1672/1672 [00:00<00:00, 2353.79it/s]"
          ]
        },
        {
          "output_type": "stream",
          "name": "stdout",
          "text": [
            "Graph 8|10\n"
          ]
        },
        {
          "output_type": "stream",
          "name": "stderr",
          "text": [
            "\n",
            "100%|██████████| 1672/1672 [00:04<00:00, 359.45it/s]\n",
            "100%|██████████| 1588/1588 [00:01<00:00, 1044.53it/s]\n",
            "100%|██████████| 84/84 [00:00<00:00, 1002.53it/s]\n",
            "100%|██████████| 1672/1672 [00:00<00:00, 2342.47it/s]"
          ]
        },
        {
          "output_type": "stream",
          "name": "stdout",
          "text": [
            "Graph 9|10\n"
          ]
        },
        {
          "output_type": "stream",
          "name": "stderr",
          "text": [
            "\n",
            "100%|██████████| 1672/1672 [00:05<00:00, 282.55it/s]\n",
            "100%|██████████| 1588/1588 [00:01<00:00, 1055.85it/s]\n",
            "100%|██████████| 84/84 [00:00<00:00, 1024.06it/s]\n",
            "100%|██████████| 1672/1672 [00:00<00:00, 2322.31it/s]"
          ]
        },
        {
          "output_type": "stream",
          "name": "stdout",
          "text": [
            "Graph 10|10\n"
          ]
        },
        {
          "output_type": "stream",
          "name": "stderr",
          "text": [
            "\n",
            "100%|██████████| 1672/1672 [00:05<00:00, 319.16it/s]\n",
            "100%|██████████| 1588/1588 [00:01<00:00, 1049.10it/s]\n",
            "100%|██████████| 84/84 [00:00<00:00, 1067.12it/s]\n",
            "100%|██████████| 1672/1672 [00:00<00:00, 2305.69it/s]\n"
          ]
        },
        {
          "output_type": "stream",
          "name": "stdout",
          "text": [
            "Activating extracting of PAFs\n",
            "Analyzing data...\n"
          ]
        },
        {
          "output_type": "stream",
          "name": "stderr",
          "text": [
            "1it [00:00,  3.23it/s]\n"
          ]
        },
        {
          "output_type": "stream",
          "name": "stdout",
          "text": [
            "Saving plots...\n"
          ]
        },
        {
          "output_type": "stream",
          "name": "stderr",
          "text": [
            "100%|██████████| 1/1 [00:02<00:00,  2.75s/it]\n"
          ]
        }
      ],
      "source": [
        "#let's evaluate first:\n",
        "deeplabcut.evaluate_network(path_config_file,Shuffles=[shuffle], plotting=True)\n",
        "#plot a few scoremaps:\n",
        "deeplabcut.extract_save_all_maps(path_config_file, shuffle=shuffle, Indices=[0])"
      ]
    },
    {
      "cell_type": "markdown",
      "metadata": {
        "id": "fYlGbloolDU2"
      },
      "source": [
        "IF these images, numbers, and maps do not look good, do not proceed. You should increase the diversity and number of frames you label, and re-create a training dataset and re-train! "
      ]
    },
    {
      "cell_type": "markdown",
      "metadata": {
        "id": "OVFLSKKfoEJk"
      },
      "source": [
        "## Start Analyzing videos: \n",
        "This function analyzes the new video. The user can choose the best model from the evaluation results and specify the correct snapshot index for the variable **snapshotindex** in the **config.yaml** file. Otherwise, by default the most recent snapshot is used to analyse the video.\n",
        "\n",
        "The results are stored in a pickle file in the same directory where the video resides. "
      ]
    },
    {
      "cell_type": "code",
      "execution_count": null,
      "metadata": {
        "id": "Y_LZiS_0oEJl",
        "colab": {
          "base_uri": "https://localhost:8080/",
          "height": 1000
        },
        "outputId": "dbfbe9e6-3932-479a-ad6e-3da9dba75656"
      },
      "outputs": [
        {
          "output_type": "stream",
          "name": "stdout",
          "text": [
            "Start Analyzing my video(s)!\n",
            "Using snapshot-243000 for model /content/drive/My Drive/2022-06-10-labo-cg-2022-09-27/dlc-models/iteration-0/2022-06-10-laboSep27-trainset95shuffle11\n"
          ]
        },
        {
          "output_type": "stream",
          "name": "stderr",
          "text": [
            "/usr/local/lib/python3.7/dist-packages/tensorflow/python/keras/engine/base_layer_v1.py:1694: UserWarning: `layer.apply` is deprecated and will be removed in a future version. Please use `layer.__call__` method instead.\n",
            "  warnings.warn('`layer.apply` is deprecated and '\n"
          ]
        },
        {
          "output_type": "stream",
          "name": "stdout",
          "text": [
            "Activating extracting of PAFs\n",
            "Analyzing all the videos in the directory...\n",
            "Starting to analyze %  /content/drive/My Drive/2022-06-10-labo-cg-2022-09-27/videos/Basler_acA800-510um__23617456__20221020_150809448_cropped-1.mp4\n",
            "Loading  /content/drive/My Drive/2022-06-10-labo-cg-2022-09-27/videos/Basler_acA800-510um__23617456__20221020_150809448_cropped-1.mp4\n",
            "Duration of video [s]:  175.04 , recorded with  25.0 fps!\n",
            "Overall # of frames:  4376  found with (before cropping) frame dimensions:  346 374\n",
            "Starting to extract posture from the video(s) with batchsize: 8\n"
          ]
        },
        {
          "output_type": "stream",
          "name": "stderr",
          "text": [
            "100%|██████████| 4376/4376 [00:54<00:00, 81.03it/s]\n"
          ]
        },
        {
          "output_type": "stream",
          "name": "stdout",
          "text": [
            "Video Analyzed. Saving results in /content/drive/My Drive/2022-06-10-labo-cg-2022-09-27/videos...\n",
            "Using snapshot-243000 for model /content/drive/My Drive/2022-06-10-labo-cg-2022-09-27/dlc-models/iteration-0/2022-06-10-laboSep27-trainset95shuffle11\n",
            "Processing...  /content/drive/My Drive/2022-06-10-labo-cg-2022-09-27/videos/Basler_acA800-510um__23617456__20221020_150809448_cropped-1.mp4\n",
            "Analyzing /content/drive/My Drive/2022-06-10-labo-cg-2022-09-27/videos/Basler_acA800-510um__23617456__20221020_150809448_cropped-1DLC_dlcrnetms5_2022-06-10-laboSep27shuffle11_243000.h5\n"
          ]
        },
        {
          "output_type": "stream",
          "name": "stderr",
          "text": [
            "100%|██████████| 4376/4376 [00:09<00:00, 483.40it/s]\n",
            "4376it [00:04, 897.47it/s]\n"
          ]
        },
        {
          "output_type": "stream",
          "name": "stdout",
          "text": [
            "The tracklets were created (i.e., under the hood deeplabcut.convert_detections2tracklets was run). Now you can 'refine_tracklets' in the GUI, or run 'deeplabcut.stitch_tracklets'.\n",
            "Processing...  /content/drive/My Drive/2022-06-10-labo-cg-2022-09-27/videos/Basler_acA800-510um__23617456__20221020_150809448_cropped-1.mp4\n"
          ]
        },
        {
          "output_type": "stream",
          "name": "stderr",
          "text": [
            "100%|██████████| 65/65 [00:00<00:00, 2617.66it/s]\n"
          ]
        },
        {
          "output_type": "stream",
          "name": "stdout",
          "text": [
            "Starting to analyze %  /content/drive/My Drive/2022-06-10-labo-cg-2022-09-27/videos/Basler_acA800-510um__23617456__20221020_153247995_cropped-2.mp4\n",
            "Loading  /content/drive/My Drive/2022-06-10-labo-cg-2022-09-27/videos/Basler_acA800-510um__23617456__20221020_153247995_cropped-2.mp4\n",
            "Duration of video [s]:  60.0 , recorded with  25.0 fps!\n",
            "Overall # of frames:  1500  found with (before cropping) frame dimensions:  340 358\n",
            "Starting to extract posture from the video(s) with batchsize: 8\n"
          ]
        },
        {
          "output_type": "stream",
          "name": "stderr",
          "text": [
            "100%|██████████| 1500/1500 [00:18<00:00, 80.90it/s]\n"
          ]
        },
        {
          "output_type": "stream",
          "name": "stdout",
          "text": [
            "Video Analyzed. Saving results in /content/drive/My Drive/2022-06-10-labo-cg-2022-09-27/videos...\n",
            "Using snapshot-243000 for model /content/drive/My Drive/2022-06-10-labo-cg-2022-09-27/dlc-models/iteration-0/2022-06-10-laboSep27-trainset95shuffle11\n",
            "Processing...  /content/drive/My Drive/2022-06-10-labo-cg-2022-09-27/videos/Basler_acA800-510um__23617456__20221020_153247995_cropped-2.mp4\n",
            "Analyzing /content/drive/My Drive/2022-06-10-labo-cg-2022-09-27/videos/Basler_acA800-510um__23617456__20221020_153247995_cropped-2DLC_dlcrnetms5_2022-06-10-laboSep27shuffle11_243000.h5\n"
          ]
        },
        {
          "output_type": "stream",
          "name": "stderr",
          "text": [
            "100%|██████████| 1500/1500 [00:03<00:00, 451.75it/s]\n",
            "1500it [00:01, 876.05it/s]\n"
          ]
        },
        {
          "output_type": "stream",
          "name": "stdout",
          "text": [
            "The tracklets were created (i.e., under the hood deeplabcut.convert_detections2tracklets was run). Now you can 'refine_tracklets' in the GUI, or run 'deeplabcut.stitch_tracklets'.\n",
            "Processing...  /content/drive/My Drive/2022-06-10-labo-cg-2022-09-27/videos/Basler_acA800-510um__23617456__20221020_153247995_cropped-2.mp4\n"
          ]
        },
        {
          "output_type": "stream",
          "name": "stderr",
          "text": [
            "100%|██████████| 12/12 [00:00<00:00, 1365.78it/s]\n"
          ]
        },
        {
          "output_type": "stream",
          "name": "stdout",
          "text": [
            "Starting to analyze %  /content/drive/My Drive/2022-06-10-labo-cg-2022-09-27/videos/Basler_acA800-510um__23617456__20221020_152940991_cropped-2.mp4\n",
            "Loading  /content/drive/My Drive/2022-06-10-labo-cg-2022-09-27/videos/Basler_acA800-510um__23617456__20221020_152940991_cropped-2.mp4\n",
            "Duration of video [s]:  175.04 , recorded with  25.0 fps!\n",
            "Overall # of frames:  4376  found with (before cropping) frame dimensions:  354 344\n",
            "Starting to extract posture from the video(s) with batchsize: 8\n"
          ]
        },
        {
          "output_type": "stream",
          "name": "stderr",
          "text": [
            "100%|██████████| 4376/4376 [00:52<00:00, 82.62it/s]\n"
          ]
        },
        {
          "output_type": "stream",
          "name": "stdout",
          "text": [
            "Video Analyzed. Saving results in /content/drive/My Drive/2022-06-10-labo-cg-2022-09-27/videos...\n",
            "Using snapshot-243000 for model /content/drive/My Drive/2022-06-10-labo-cg-2022-09-27/dlc-models/iteration-0/2022-06-10-laboSep27-trainset95shuffle11\n",
            "Processing...  /content/drive/My Drive/2022-06-10-labo-cg-2022-09-27/videos/Basler_acA800-510um__23617456__20221020_152940991_cropped-2.mp4\n",
            "Analyzing /content/drive/My Drive/2022-06-10-labo-cg-2022-09-27/videos/Basler_acA800-510um__23617456__20221020_152940991_cropped-2DLC_dlcrnetms5_2022-06-10-laboSep27shuffle11_243000.h5\n"
          ]
        },
        {
          "output_type": "stream",
          "name": "stderr",
          "text": [
            "100%|██████████| 4376/4376 [00:09<00:00, 475.32it/s]\n",
            "4376it [00:05, 829.89it/s]\n"
          ]
        },
        {
          "output_type": "stream",
          "name": "stdout",
          "text": [
            "The tracklets were created (i.e., under the hood deeplabcut.convert_detections2tracklets was run). Now you can 'refine_tracklets' in the GUI, or run 'deeplabcut.stitch_tracklets'.\n",
            "Processing...  /content/drive/My Drive/2022-06-10-labo-cg-2022-09-27/videos/Basler_acA800-510um__23617456__20221020_152940991_cropped-2.mp4\n"
          ]
        },
        {
          "output_type": "stream",
          "name": "stderr",
          "text": [
            "100%|██████████| 118/118 [00:00<00:00, 3728.33it/s]\n"
          ]
        },
        {
          "output_type": "stream",
          "name": "stdout",
          "text": [
            "Starting to analyze %  /content/drive/My Drive/2022-06-10-labo-cg-2022-09-27/videos/Basler_acA800-510um__23617456__20221020_151953393_cropped-1.mp4\n",
            "Loading  /content/drive/My Drive/2022-06-10-labo-cg-2022-09-27/videos/Basler_acA800-510um__23617456__20221020_151953393_cropped-1.mp4\n",
            "Duration of video [s]:  60.0 , recorded with  25.0 fps!\n",
            "Overall # of frames:  1500  found with (before cropping) frame dimensions:  338 344\n",
            "Starting to extract posture from the video(s) with batchsize: 8\n"
          ]
        },
        {
          "output_type": "stream",
          "name": "stderr",
          "text": [
            "100%|██████████| 1500/1500 [00:18<00:00, 81.76it/s]\n"
          ]
        },
        {
          "output_type": "stream",
          "name": "stdout",
          "text": [
            "Video Analyzed. Saving results in /content/drive/My Drive/2022-06-10-labo-cg-2022-09-27/videos...\n",
            "Using snapshot-243000 for model /content/drive/My Drive/2022-06-10-labo-cg-2022-09-27/dlc-models/iteration-0/2022-06-10-laboSep27-trainset95shuffle11\n",
            "Processing...  /content/drive/My Drive/2022-06-10-labo-cg-2022-09-27/videos/Basler_acA800-510um__23617456__20221020_151953393_cropped-1.mp4\n",
            "Analyzing /content/drive/My Drive/2022-06-10-labo-cg-2022-09-27/videos/Basler_acA800-510um__23617456__20221020_151953393_cropped-1DLC_dlcrnetms5_2022-06-10-laboSep27shuffle11_243000.h5\n"
          ]
        },
        {
          "output_type": "stream",
          "name": "stderr",
          "text": [
            "100%|██████████| 1500/1500 [00:02<00:00, 552.66it/s]\n",
            "1500it [00:01, 865.56it/s]\n"
          ]
        },
        {
          "output_type": "stream",
          "name": "stdout",
          "text": [
            "The tracklets were created (i.e., under the hood deeplabcut.convert_detections2tracklets was run). Now you can 'refine_tracklets' in the GUI, or run 'deeplabcut.stitch_tracklets'.\n",
            "Processing...  /content/drive/My Drive/2022-06-10-labo-cg-2022-09-27/videos/Basler_acA800-510um__23617456__20221020_151953393_cropped-1.mp4\n"
          ]
        },
        {
          "output_type": "stream",
          "name": "stderr",
          "text": [
            "100%|██████████| 76/76 [00:00<00:00, 3612.17it/s]\n"
          ]
        },
        {
          "output_type": "stream",
          "name": "stdout",
          "text": [
            "Starting to analyze %  /content/drive/My Drive/2022-06-10-labo-cg-2022-09-27/videos/Basler_acA800-510um__23617456__20221020_152414985_cropped-1.mp4\n",
            "Loading  /content/drive/My Drive/2022-06-10-labo-cg-2022-09-27/videos/Basler_acA800-510um__23617456__20221020_152414985_cropped-1.mp4\n",
            "Duration of video [s]:  60.04 , recorded with  25.0 fps!\n",
            "Overall # of frames:  1501  found with (before cropping) frame dimensions:  330 354\n",
            "Starting to extract posture from the video(s) with batchsize: 8\n"
          ]
        },
        {
          "output_type": "stream",
          "name": "stderr",
          "text": [
            "100%|██████████| 1501/1501 [00:18<00:00, 80.23it/s]\n"
          ]
        },
        {
          "output_type": "stream",
          "name": "stdout",
          "text": [
            "Video Analyzed. Saving results in /content/drive/My Drive/2022-06-10-labo-cg-2022-09-27/videos...\n",
            "Using snapshot-243000 for model /content/drive/My Drive/2022-06-10-labo-cg-2022-09-27/dlc-models/iteration-0/2022-06-10-laboSep27-trainset95shuffle11\n",
            "Processing...  /content/drive/My Drive/2022-06-10-labo-cg-2022-09-27/videos/Basler_acA800-510um__23617456__20221020_152414985_cropped-1.mp4\n",
            "Analyzing /content/drive/My Drive/2022-06-10-labo-cg-2022-09-27/videos/Basler_acA800-510um__23617456__20221020_152414985_cropped-1DLC_dlcrnetms5_2022-06-10-laboSep27shuffle11_243000.h5\n"
          ]
        },
        {
          "output_type": "stream",
          "name": "stderr",
          "text": [
            "100%|██████████| 1501/1501 [00:03<00:00, 444.01it/s]\n",
            "1501it [00:01, 872.99it/s]\n"
          ]
        },
        {
          "output_type": "stream",
          "name": "stdout",
          "text": [
            "The tracklets were created (i.e., under the hood deeplabcut.convert_detections2tracklets was run). Now you can 'refine_tracklets' in the GUI, or run 'deeplabcut.stitch_tracklets'.\n",
            "Processing...  /content/drive/My Drive/2022-06-10-labo-cg-2022-09-27/videos/Basler_acA800-510um__23617456__20221020_152414985_cropped-1.mp4\n"
          ]
        },
        {
          "output_type": "stream",
          "name": "stderr",
          "text": [
            "100%|██████████| 12/12 [00:00<00:00, 2100.04it/s]\n",
            "/usr/local/lib/python3.7/dist-packages/deeplabcut/refine_training_dataset/stitch.py:676: UserWarning: No optimal solution found. Employing black magic...\n",
            "  warnings.warn(\"No optimal solution found. Employing black magic...\")\n"
          ]
        },
        {
          "output_type": "stream",
          "name": "stdout",
          "text": [
            "Starting to analyze %  /content/drive/My Drive/2022-06-10-labo-cg-2022-09-27/videos/Basler_acA800-510um__23617456__20221020_141718783_cropped-2.mp4\n",
            "Loading  /content/drive/My Drive/2022-06-10-labo-cg-2022-09-27/videos/Basler_acA800-510um__23617456__20221020_141718783_cropped-2.mp4\n",
            "Duration of video [s]:  175.04 , recorded with  25.0 fps!\n",
            "Overall # of frames:  4376  found with (before cropping) frame dimensions:  376 394\n",
            "Starting to extract posture from the video(s) with batchsize: 8\n"
          ]
        },
        {
          "output_type": "stream",
          "name": "stderr",
          "text": [
            "100%|██████████| 4376/4376 [01:02<00:00, 70.25it/s]\n"
          ]
        },
        {
          "output_type": "stream",
          "name": "stdout",
          "text": [
            "Video Analyzed. Saving results in /content/drive/My Drive/2022-06-10-labo-cg-2022-09-27/videos...\n",
            "Using snapshot-243000 for model /content/drive/My Drive/2022-06-10-labo-cg-2022-09-27/dlc-models/iteration-0/2022-06-10-laboSep27-trainset95shuffle11\n",
            "Processing...  /content/drive/My Drive/2022-06-10-labo-cg-2022-09-27/videos/Basler_acA800-510um__23617456__20221020_141718783_cropped-2.mp4\n",
            "Analyzing /content/drive/My Drive/2022-06-10-labo-cg-2022-09-27/videos/Basler_acA800-510um__23617456__20221020_141718783_cropped-2DLC_dlcrnetms5_2022-06-10-laboSep27shuffle11_243000.h5\n"
          ]
        },
        {
          "output_type": "stream",
          "name": "stderr",
          "text": [
            "100%|██████████| 4376/4376 [00:09<00:00, 460.83it/s]\n",
            "4376it [00:05, 854.98it/s]\n"
          ]
        },
        {
          "output_type": "stream",
          "name": "stdout",
          "text": [
            "The tracklets were created (i.e., under the hood deeplabcut.convert_detections2tracklets was run). Now you can 'refine_tracklets' in the GUI, or run 'deeplabcut.stitch_tracklets'.\n",
            "Processing...  /content/drive/My Drive/2022-06-10-labo-cg-2022-09-27/videos/Basler_acA800-510um__23617456__20221020_141718783_cropped-2.mp4\n"
          ]
        },
        {
          "output_type": "stream",
          "name": "stderr",
          "text": [
            "100%|██████████| 106/106 [00:00<00:00, 2696.97it/s]\n"
          ]
        },
        {
          "output_type": "stream",
          "name": "stdout",
          "text": [
            "Starting to analyze %  /content/drive/My Drive/2022-06-10-labo-cg-2022-09-27/videos/Basler_acA800-510um__23617456__20221020_152108990_cropped-1.mp4\n",
            "Loading  /content/drive/My Drive/2022-06-10-labo-cg-2022-09-27/videos/Basler_acA800-510um__23617456__20221020_152108990_cropped-1.mp4\n",
            "Duration of video [s]:  175.04 , recorded with  25.0 fps!\n",
            "Overall # of frames:  4376  found with (before cropping) frame dimensions:  338 356\n",
            "Starting to extract posture from the video(s) with batchsize: 8\n"
          ]
        },
        {
          "output_type": "stream",
          "name": "stderr",
          "text": [
            "100%|██████████| 4376/4376 [00:52<00:00, 83.49it/s]\n"
          ]
        },
        {
          "output_type": "stream",
          "name": "stdout",
          "text": [
            "Video Analyzed. Saving results in /content/drive/My Drive/2022-06-10-labo-cg-2022-09-27/videos...\n",
            "Using snapshot-243000 for model /content/drive/My Drive/2022-06-10-labo-cg-2022-09-27/dlc-models/iteration-0/2022-06-10-laboSep27-trainset95shuffle11\n",
            "Processing...  /content/drive/My Drive/2022-06-10-labo-cg-2022-09-27/videos/Basler_acA800-510um__23617456__20221020_152108990_cropped-1.mp4\n",
            "Analyzing /content/drive/My Drive/2022-06-10-labo-cg-2022-09-27/videos/Basler_acA800-510um__23617456__20221020_152108990_cropped-1DLC_dlcrnetms5_2022-06-10-laboSep27shuffle11_243000.h5\n"
          ]
        },
        {
          "output_type": "stream",
          "name": "stderr",
          "text": [
            "100%|██████████| 4376/4376 [00:09<00:00, 479.91it/s]\n",
            "4376it [00:05, 844.64it/s]\n"
          ]
        },
        {
          "output_type": "stream",
          "name": "stdout",
          "text": [
            "The tracklets were created (i.e., under the hood deeplabcut.convert_detections2tracklets was run). Now you can 'refine_tracklets' in the GUI, or run 'deeplabcut.stitch_tracklets'.\n",
            "Processing...  /content/drive/My Drive/2022-06-10-labo-cg-2022-09-27/videos/Basler_acA800-510um__23617456__20221020_152108990_cropped-1.mp4\n"
          ]
        },
        {
          "output_type": "stream",
          "name": "stderr",
          "text": [
            "100%|██████████| 55/55 [00:00<00:00, 2141.54it/s]\n"
          ]
        },
        {
          "output_type": "stream",
          "name": "stdout",
          "text": [
            "Starting to analyze %  /content/drive/My Drive/2022-06-10-labo-cg-2022-09-27/videos/Basler_acA800-510um__23617456__20221020_151535145_cropped-2.mp4\n",
            "Loading  /content/drive/My Drive/2022-06-10-labo-cg-2022-09-27/videos/Basler_acA800-510um__23617456__20221020_151535145_cropped-2.mp4\n",
            "Duration of video [s]:  60.04 , recorded with  25.0 fps!\n",
            "Overall # of frames:  1501  found with (before cropping) frame dimensions:  346 354\n",
            "Starting to extract posture from the video(s) with batchsize: 8\n"
          ]
        },
        {
          "output_type": "stream",
          "name": "stderr",
          "text": [
            "100%|██████████| 1501/1501 [00:18<00:00, 82.12it/s]\n"
          ]
        },
        {
          "output_type": "stream",
          "name": "stdout",
          "text": [
            "Video Analyzed. Saving results in /content/drive/My Drive/2022-06-10-labo-cg-2022-09-27/videos...\n",
            "Using snapshot-243000 for model /content/drive/My Drive/2022-06-10-labo-cg-2022-09-27/dlc-models/iteration-0/2022-06-10-laboSep27-trainset95shuffle11\n",
            "Processing...  /content/drive/My Drive/2022-06-10-labo-cg-2022-09-27/videos/Basler_acA800-510um__23617456__20221020_151535145_cropped-2.mp4\n",
            "Analyzing /content/drive/My Drive/2022-06-10-labo-cg-2022-09-27/videos/Basler_acA800-510um__23617456__20221020_151535145_cropped-2DLC_dlcrnetms5_2022-06-10-laboSep27shuffle11_243000.h5\n"
          ]
        },
        {
          "output_type": "stream",
          "name": "stderr",
          "text": [
            "100%|██████████| 1501/1501 [00:03<00:00, 446.67it/s]\n",
            "1501it [00:01, 836.25it/s]\n"
          ]
        },
        {
          "output_type": "stream",
          "name": "stdout",
          "text": [
            "The tracklets were created (i.e., under the hood deeplabcut.convert_detections2tracklets was run). Now you can 'refine_tracklets' in the GUI, or run 'deeplabcut.stitch_tracklets'.\n",
            "Processing...  /content/drive/My Drive/2022-06-10-labo-cg-2022-09-27/videos/Basler_acA800-510um__23617456__20221020_151535145_cropped-2.mp4\n"
          ]
        },
        {
          "output_type": "stream",
          "name": "stderr",
          "text": [
            "100%|██████████| 16/16 [00:00<00:00, 1844.66it/s]\n"
          ]
        },
        {
          "output_type": "stream",
          "name": "stdout",
          "text": [
            "Starting to analyze %  /content/drive/My Drive/2022-06-10-labo-cg-2022-09-27/videos/Basler_acA800-510um__23617456__20221020_151118043_cropped-2.mp4\n",
            "Loading  /content/drive/My Drive/2022-06-10-labo-cg-2022-09-27/videos/Basler_acA800-510um__23617456__20221020_151118043_cropped-2.mp4\n",
            "Duration of video [s]:  60.0 , recorded with  25.0 fps!\n",
            "Overall # of frames:  1500  found with (before cropping) frame dimensions:  356 362\n",
            "Starting to extract posture from the video(s) with batchsize: 8\n"
          ]
        },
        {
          "output_type": "stream",
          "name": "stderr",
          "text": [
            "100%|██████████| 1500/1500 [00:20<00:00, 72.69it/s]\n"
          ]
        },
        {
          "output_type": "stream",
          "name": "stdout",
          "text": [
            "Video Analyzed. Saving results in /content/drive/My Drive/2022-06-10-labo-cg-2022-09-27/videos...\n",
            "Using snapshot-243000 for model /content/drive/My Drive/2022-06-10-labo-cg-2022-09-27/dlc-models/iteration-0/2022-06-10-laboSep27-trainset95shuffle11\n",
            "Processing...  /content/drive/My Drive/2022-06-10-labo-cg-2022-09-27/videos/Basler_acA800-510um__23617456__20221020_151118043_cropped-2.mp4\n",
            "Analyzing /content/drive/My Drive/2022-06-10-labo-cg-2022-09-27/videos/Basler_acA800-510um__23617456__20221020_151118043_cropped-2DLC_dlcrnetms5_2022-06-10-laboSep27shuffle11_243000.h5\n"
          ]
        },
        {
          "output_type": "stream",
          "name": "stderr",
          "text": [
            "100%|██████████| 1500/1500 [00:03<00:00, 468.76it/s]\n",
            "1500it [00:01, 863.11it/s]\n"
          ]
        },
        {
          "output_type": "stream",
          "name": "stdout",
          "text": [
            "The tracklets were created (i.e., under the hood deeplabcut.convert_detections2tracklets was run). Now you can 'refine_tracklets' in the GUI, or run 'deeplabcut.stitch_tracklets'.\n",
            "Processing...  /content/drive/My Drive/2022-06-10-labo-cg-2022-09-27/videos/Basler_acA800-510um__23617456__20221020_151118043_cropped-2.mp4\n"
          ]
        },
        {
          "output_type": "stream",
          "name": "stderr",
          "text": [
            "100%|██████████| 97/97 [00:00<00:00, 3862.60it/s]\n"
          ]
        },
        {
          "output_type": "stream",
          "name": "stdout",
          "text": [
            "Starting to analyze %  /content/drive/My Drive/2022-06-10-labo-cg-2022-09-27/videos/Basler_acA800-510um__23617456__20221020_151646323_cropped-1.mp4\n",
            "Loading  /content/drive/My Drive/2022-06-10-labo-cg-2022-09-27/videos/Basler_acA800-510um__23617456__20221020_151646323_cropped-1.mp4\n",
            "Duration of video [s]:  175.04 , recorded with  25.0 fps!\n",
            "Overall # of frames:  4376  found with (before cropping) frame dimensions:  338 362\n",
            "Starting to extract posture from the video(s) with batchsize: 8\n"
          ]
        },
        {
          "output_type": "stream",
          "name": "stderr",
          "text": [
            "100%|██████████| 4376/4376 [00:52<00:00, 82.93it/s]\n"
          ]
        },
        {
          "output_type": "stream",
          "name": "stdout",
          "text": [
            "Video Analyzed. Saving results in /content/drive/My Drive/2022-06-10-labo-cg-2022-09-27/videos...\n",
            "Using snapshot-243000 for model /content/drive/My Drive/2022-06-10-labo-cg-2022-09-27/dlc-models/iteration-0/2022-06-10-laboSep27-trainset95shuffle11\n",
            "Processing...  /content/drive/My Drive/2022-06-10-labo-cg-2022-09-27/videos/Basler_acA800-510um__23617456__20221020_151646323_cropped-1.mp4\n",
            "Analyzing /content/drive/My Drive/2022-06-10-labo-cg-2022-09-27/videos/Basler_acA800-510um__23617456__20221020_151646323_cropped-1DLC_dlcrnetms5_2022-06-10-laboSep27shuffle11_243000.h5\n"
          ]
        },
        {
          "output_type": "stream",
          "name": "stderr",
          "text": [
            "100%|██████████| 4376/4376 [00:08<00:00, 516.79it/s]\n",
            "4376it [00:05, 857.23it/s]\n"
          ]
        },
        {
          "output_type": "stream",
          "name": "stdout",
          "text": [
            "The tracklets were created (i.e., under the hood deeplabcut.convert_detections2tracklets was run). Now you can 'refine_tracklets' in the GUI, or run 'deeplabcut.stitch_tracklets'.\n",
            "Processing...  /content/drive/My Drive/2022-06-10-labo-cg-2022-09-27/videos/Basler_acA800-510um__23617456__20221020_151646323_cropped-1.mp4\n"
          ]
        },
        {
          "output_type": "stream",
          "name": "stderr",
          "text": [
            "100%|██████████| 40/40 [00:00<00:00, 1353.07it/s]\n"
          ]
        },
        {
          "output_type": "stream",
          "name": "stdout",
          "text": [
            "Starting to analyze %  /content/drive/My Drive/2022-06-10-labo-cg-2022-09-27/videos/Basler_acA800-510um__23617456__20221020_153353997_cropped-1.mp4\n",
            "Loading  /content/drive/My Drive/2022-06-10-labo-cg-2022-09-27/videos/Basler_acA800-510um__23617456__20221020_153353997_cropped-1.mp4\n",
            "Duration of video [s]:  175.04 , recorded with  25.0 fps!\n",
            "Overall # of frames:  4376  found with (before cropping) frame dimensions:  336 340\n",
            "Starting to extract posture from the video(s) with batchsize: 8\n"
          ]
        },
        {
          "output_type": "stream",
          "name": "stderr",
          "text": [
            "100%|██████████| 4376/4376 [00:49<00:00, 88.40it/s]\n"
          ]
        },
        {
          "output_type": "stream",
          "name": "stdout",
          "text": [
            "Video Analyzed. Saving results in /content/drive/My Drive/2022-06-10-labo-cg-2022-09-27/videos...\n",
            "Using snapshot-243000 for model /content/drive/My Drive/2022-06-10-labo-cg-2022-09-27/dlc-models/iteration-0/2022-06-10-laboSep27-trainset95shuffle11\n",
            "Processing...  /content/drive/My Drive/2022-06-10-labo-cg-2022-09-27/videos/Basler_acA800-510um__23617456__20221020_153353997_cropped-1.mp4\n",
            "Analyzing /content/drive/My Drive/2022-06-10-labo-cg-2022-09-27/videos/Basler_acA800-510um__23617456__20221020_153353997_cropped-1DLC_dlcrnetms5_2022-06-10-laboSep27shuffle11_243000.h5\n"
          ]
        },
        {
          "output_type": "stream",
          "name": "stderr",
          "text": [
            "100%|██████████| 4376/4376 [00:09<00:00, 485.55it/s]\n",
            "4376it [00:05, 850.94it/s]\n"
          ]
        },
        {
          "output_type": "stream",
          "name": "stdout",
          "text": [
            "The tracklets were created (i.e., under the hood deeplabcut.convert_detections2tracklets was run). Now you can 'refine_tracklets' in the GUI, or run 'deeplabcut.stitch_tracklets'.\n",
            "Processing...  /content/drive/My Drive/2022-06-10-labo-cg-2022-09-27/videos/Basler_acA800-510um__23617456__20221020_153353997_cropped-1.mp4\n"
          ]
        },
        {
          "output_type": "stream",
          "name": "stderr",
          "text": [
            "100%|██████████| 3/3 [00:00<00:00, 23967.45it/s]\n"
          ]
        },
        {
          "output_type": "stream",
          "name": "stdout",
          "text": [
            "Starting to analyze %  /content/drive/My Drive/2022-06-10-labo-cg-2022-09-27/videos/Basler_acA800-510um__23617456__20221020_152940991_cropped-1.mp4\n",
            "Loading  /content/drive/My Drive/2022-06-10-labo-cg-2022-09-27/videos/Basler_acA800-510um__23617456__20221020_152940991_cropped-1.mp4\n",
            "Duration of video [s]:  175.04 , recorded with  25.0 fps!\n",
            "Overall # of frames:  4376  found with (before cropping) frame dimensions:  322 348\n",
            "Starting to extract posture from the video(s) with batchsize: 8\n"
          ]
        },
        {
          "output_type": "stream",
          "name": "stderr",
          "text": [
            "100%|██████████| 4376/4376 [00:48<00:00, 90.75it/s]\n"
          ]
        },
        {
          "output_type": "stream",
          "name": "stdout",
          "text": [
            "Video Analyzed. Saving results in /content/drive/My Drive/2022-06-10-labo-cg-2022-09-27/videos...\n",
            "Using snapshot-243000 for model /content/drive/My Drive/2022-06-10-labo-cg-2022-09-27/dlc-models/iteration-0/2022-06-10-laboSep27-trainset95shuffle11\n",
            "Processing...  /content/drive/My Drive/2022-06-10-labo-cg-2022-09-27/videos/Basler_acA800-510um__23617456__20221020_152940991_cropped-1.mp4\n",
            "Analyzing /content/drive/My Drive/2022-06-10-labo-cg-2022-09-27/videos/Basler_acA800-510um__23617456__20221020_152940991_cropped-1DLC_dlcrnetms5_2022-06-10-laboSep27shuffle11_243000.h5\n"
          ]
        },
        {
          "output_type": "stream",
          "name": "stderr",
          "text": [
            "100%|██████████| 4376/4376 [00:09<00:00, 482.96it/s]\n",
            "4376it [00:04, 883.59it/s]\n"
          ]
        },
        {
          "output_type": "stream",
          "name": "stdout",
          "text": [
            "The tracklets were created (i.e., under the hood deeplabcut.convert_detections2tracklets was run). Now you can 'refine_tracklets' in the GUI, or run 'deeplabcut.stitch_tracklets'.\n",
            "Processing...  /content/drive/My Drive/2022-06-10-labo-cg-2022-09-27/videos/Basler_acA800-510um__23617456__20221020_152940991_cropped-1.mp4\n"
          ]
        },
        {
          "output_type": "stream",
          "name": "stderr",
          "text": [
            "100%|██████████| 28/28 [00:00<00:00, 1837.02it/s]\n"
          ]
        },
        {
          "output_type": "stream",
          "name": "stdout",
          "text": [
            "Starting to analyze %  /content/drive/My Drive/2022-06-10-labo-cg-2022-09-27/videos/Basler_acA800-510um__23617456__20221020_152831538_cropped-2.mp4\n",
            "Loading  /content/drive/My Drive/2022-06-10-labo-cg-2022-09-27/videos/Basler_acA800-510um__23617456__20221020_152831538_cropped-2.mp4\n",
            "Duration of video [s]:  60.04 , recorded with  25.0 fps!\n",
            "Overall # of frames:  1501  found with (before cropping) frame dimensions:  354 364\n",
            "Starting to extract posture from the video(s) with batchsize: 8\n"
          ]
        },
        {
          "output_type": "stream",
          "name": "stderr",
          "text": [
            "100%|██████████| 1501/1501 [00:18<00:00, 79.70it/s]\n"
          ]
        },
        {
          "output_type": "stream",
          "name": "stdout",
          "text": [
            "Video Analyzed. Saving results in /content/drive/My Drive/2022-06-10-labo-cg-2022-09-27/videos...\n",
            "Using snapshot-243000 for model /content/drive/My Drive/2022-06-10-labo-cg-2022-09-27/dlc-models/iteration-0/2022-06-10-laboSep27-trainset95shuffle11\n",
            "Processing...  /content/drive/My Drive/2022-06-10-labo-cg-2022-09-27/videos/Basler_acA800-510um__23617456__20221020_152831538_cropped-2.mp4\n",
            "Analyzing /content/drive/My Drive/2022-06-10-labo-cg-2022-09-27/videos/Basler_acA800-510um__23617456__20221020_152831538_cropped-2DLC_dlcrnetms5_2022-06-10-laboSep27shuffle11_243000.h5\n"
          ]
        },
        {
          "output_type": "stream",
          "name": "stderr",
          "text": [
            "100%|██████████| 1501/1501 [00:03<00:00, 485.05it/s]\n",
            "1501it [00:01, 884.78it/s]\n"
          ]
        },
        {
          "output_type": "stream",
          "name": "stdout",
          "text": [
            "The tracklets were created (i.e., under the hood deeplabcut.convert_detections2tracklets was run). Now you can 'refine_tracklets' in the GUI, or run 'deeplabcut.stitch_tracklets'.\n",
            "Processing...  /content/drive/My Drive/2022-06-10-labo-cg-2022-09-27/videos/Basler_acA800-510um__23617456__20221020_152831538_cropped-2.mp4\n"
          ]
        },
        {
          "output_type": "stream",
          "name": "stderr",
          "text": [
            "100%|██████████| 77/77 [00:00<00:00, 3584.68it/s]\n"
          ]
        },
        {
          "output_type": "stream",
          "name": "stdout",
          "text": [
            "Starting to analyze %  /content/drive/My Drive/2022-06-10-labo-cg-2022-09-27/videos/Basler_acA800-510um__23617456__20221020_151227047_cropped-2.mp4\n",
            "Loading  /content/drive/My Drive/2022-06-10-labo-cg-2022-09-27/videos/Basler_acA800-510um__23617456__20221020_151227047_cropped-2.mp4\n",
            "Duration of video [s]:  175.04 , recorded with  25.0 fps!\n",
            "Overall # of frames:  4376  found with (before cropping) frame dimensions:  356 372\n",
            "Starting to extract posture from the video(s) with batchsize: 8\n"
          ]
        },
        {
          "output_type": "stream",
          "name": "stderr",
          "text": [
            "100%|██████████| 4376/4376 [00:56<00:00, 77.26it/s]\n"
          ]
        },
        {
          "output_type": "stream",
          "name": "stdout",
          "text": [
            "Video Analyzed. Saving results in /content/drive/My Drive/2022-06-10-labo-cg-2022-09-27/videos...\n",
            "Using snapshot-243000 for model /content/drive/My Drive/2022-06-10-labo-cg-2022-09-27/dlc-models/iteration-0/2022-06-10-laboSep27-trainset95shuffle11\n",
            "Processing...  /content/drive/My Drive/2022-06-10-labo-cg-2022-09-27/videos/Basler_acA800-510um__23617456__20221020_151227047_cropped-2.mp4\n",
            "Analyzing /content/drive/My Drive/2022-06-10-labo-cg-2022-09-27/videos/Basler_acA800-510um__23617456__20221020_151227047_cropped-2DLC_dlcrnetms5_2022-06-10-laboSep27shuffle11_243000.h5\n"
          ]
        },
        {
          "output_type": "stream",
          "name": "stderr",
          "text": [
            "100%|██████████| 4376/4376 [00:08<00:00, 517.95it/s]\n",
            "4376it [00:04, 890.36it/s]\n"
          ]
        },
        {
          "output_type": "stream",
          "name": "stdout",
          "text": [
            "The tracklets were created (i.e., under the hood deeplabcut.convert_detections2tracklets was run). Now you can 'refine_tracklets' in the GUI, or run 'deeplabcut.stitch_tracklets'.\n",
            "Processing...  /content/drive/My Drive/2022-06-10-labo-cg-2022-09-27/videos/Basler_acA800-510um__23617456__20221020_151227047_cropped-2.mp4\n"
          ]
        },
        {
          "output_type": "stream",
          "name": "stderr",
          "text": [
            "100%|██████████| 197/197 [00:00<00:00, 1988.58it/s]\n"
          ]
        },
        {
          "output_type": "stream",
          "name": "stdout",
          "text": [
            "Starting to analyze %  /content/drive/My Drive/2022-06-10-labo-cg-2022-09-27/videos/Basler_acA800-510um__23617456__20221020_141718783_cropped-1.mp4\n",
            "Loading  /content/drive/My Drive/2022-06-10-labo-cg-2022-09-27/videos/Basler_acA800-510um__23617456__20221020_141718783_cropped-1.mp4\n",
            "Duration of video [s]:  175.04 , recorded with  25.0 fps!\n",
            "Overall # of frames:  4376  found with (before cropping) frame dimensions:  374 392\n",
            "Starting to extract posture from the video(s) with batchsize: 8\n"
          ]
        },
        {
          "output_type": "stream",
          "name": "stderr",
          "text": [
            "100%|██████████| 4376/4376 [01:00<00:00, 71.86it/s]\n"
          ]
        },
        {
          "output_type": "stream",
          "name": "stdout",
          "text": [
            "Video Analyzed. Saving results in /content/drive/My Drive/2022-06-10-labo-cg-2022-09-27/videos...\n",
            "Using snapshot-243000 for model /content/drive/My Drive/2022-06-10-labo-cg-2022-09-27/dlc-models/iteration-0/2022-06-10-laboSep27-trainset95shuffle11\n",
            "Processing...  /content/drive/My Drive/2022-06-10-labo-cg-2022-09-27/videos/Basler_acA800-510um__23617456__20221020_141718783_cropped-1.mp4\n",
            "Analyzing /content/drive/My Drive/2022-06-10-labo-cg-2022-09-27/videos/Basler_acA800-510um__23617456__20221020_141718783_cropped-1DLC_dlcrnetms5_2022-06-10-laboSep27shuffle11_243000.h5\n"
          ]
        },
        {
          "output_type": "stream",
          "name": "stderr",
          "text": [
            "100%|██████████| 4376/4376 [00:08<00:00, 501.53it/s]\n",
            "4376it [00:04, 928.53it/s]\n"
          ]
        },
        {
          "output_type": "stream",
          "name": "stdout",
          "text": [
            "The tracklets were created (i.e., under the hood deeplabcut.convert_detections2tracklets was run). Now you can 'refine_tracklets' in the GUI, or run 'deeplabcut.stitch_tracklets'.\n",
            "Processing...  /content/drive/My Drive/2022-06-10-labo-cg-2022-09-27/videos/Basler_acA800-510um__23617456__20221020_141718783_cropped-1.mp4\n"
          ]
        },
        {
          "output_type": "stream",
          "name": "stderr",
          "text": [
            "100%|██████████| 88/88 [00:00<00:00, 2773.89it/s]\n"
          ]
        },
        {
          "output_type": "stream",
          "name": "stdout",
          "text": [
            "Starting to analyze %  /content/drive/My Drive/2022-06-10-labo-cg-2022-09-27/videos/Basler_acA800-510um__23617456__20221020_152523138_cropped-1.mp4\n",
            "Loading  /content/drive/My Drive/2022-06-10-labo-cg-2022-09-27/videos/Basler_acA800-510um__23617456__20221020_152523138_cropped-1.mp4\n",
            "Duration of video [s]:  175.04 , recorded with  25.0 fps!\n",
            "Overall # of frames:  4376  found with (before cropping) frame dimensions:  332 348\n",
            "Starting to extract posture from the video(s) with batchsize: 8\n"
          ]
        },
        {
          "output_type": "stream",
          "name": "stderr",
          "text": [
            "100%|██████████| 4376/4376 [00:48<00:00, 90.87it/s]\n"
          ]
        },
        {
          "output_type": "stream",
          "name": "stdout",
          "text": [
            "Video Analyzed. Saving results in /content/drive/My Drive/2022-06-10-labo-cg-2022-09-27/videos...\n",
            "Using snapshot-243000 for model /content/drive/My Drive/2022-06-10-labo-cg-2022-09-27/dlc-models/iteration-0/2022-06-10-laboSep27-trainset95shuffle11\n",
            "Processing...  /content/drive/My Drive/2022-06-10-labo-cg-2022-09-27/videos/Basler_acA800-510um__23617456__20221020_152523138_cropped-1.mp4\n",
            "Analyzing /content/drive/My Drive/2022-06-10-labo-cg-2022-09-27/videos/Basler_acA800-510um__23617456__20221020_152523138_cropped-1DLC_dlcrnetms5_2022-06-10-laboSep27shuffle11_243000.h5\n"
          ]
        },
        {
          "output_type": "stream",
          "name": "stderr",
          "text": [
            "100%|██████████| 4376/4376 [00:08<00:00, 490.58it/s]\n",
            "4376it [00:05, 867.99it/s]\n"
          ]
        },
        {
          "output_type": "stream",
          "name": "stdout",
          "text": [
            "The tracklets were created (i.e., under the hood deeplabcut.convert_detections2tracklets was run). Now you can 'refine_tracklets' in the GUI, or run 'deeplabcut.stitch_tracklets'.\n",
            "Processing...  /content/drive/My Drive/2022-06-10-labo-cg-2022-09-27/videos/Basler_acA800-510um__23617456__20221020_152523138_cropped-1.mp4\n"
          ]
        },
        {
          "output_type": "stream",
          "name": "stderr",
          "text": [
            "100%|██████████| 3/3 [00:00<00:00, 26214.40it/s]\n"
          ]
        },
        {
          "output_type": "stream",
          "name": "stdout",
          "text": [
            "Starting to analyze %  /content/drive/My Drive/2022-06-10-labo-cg-2022-09-27/videos/Basler_acA800-510um__23617456__20221020_152831538_cropped-1.mp4\n",
            "Loading  /content/drive/My Drive/2022-06-10-labo-cg-2022-09-27/videos/Basler_acA800-510um__23617456__20221020_152831538_cropped-1.mp4\n",
            "Duration of video [s]:  60.04 , recorded with  25.0 fps!\n",
            "Overall # of frames:  1501  found with (before cropping) frame dimensions:  320 344\n",
            "Starting to extract posture from the video(s) with batchsize: 8\n"
          ]
        },
        {
          "output_type": "stream",
          "name": "stderr",
          "text": [
            "100%|██████████| 1501/1501 [00:16<00:00, 91.63it/s]\n"
          ]
        },
        {
          "output_type": "stream",
          "name": "stdout",
          "text": [
            "Video Analyzed. Saving results in /content/drive/My Drive/2022-06-10-labo-cg-2022-09-27/videos...\n",
            "Using snapshot-243000 for model /content/drive/My Drive/2022-06-10-labo-cg-2022-09-27/dlc-models/iteration-0/2022-06-10-laboSep27-trainset95shuffle11\n",
            "Processing...  /content/drive/My Drive/2022-06-10-labo-cg-2022-09-27/videos/Basler_acA800-510um__23617456__20221020_152831538_cropped-1.mp4\n",
            "Analyzing /content/drive/My Drive/2022-06-10-labo-cg-2022-09-27/videos/Basler_acA800-510um__23617456__20221020_152831538_cropped-1DLC_dlcrnetms5_2022-06-10-laboSep27shuffle11_243000.h5\n"
          ]
        },
        {
          "output_type": "stream",
          "name": "stderr",
          "text": [
            "100%|██████████| 1501/1501 [00:02<00:00, 504.27it/s]\n",
            "1501it [00:01, 900.34it/s]\n"
          ]
        },
        {
          "output_type": "stream",
          "name": "stdout",
          "text": [
            "The tracklets were created (i.e., under the hood deeplabcut.convert_detections2tracklets was run). Now you can 'refine_tracklets' in the GUI, or run 'deeplabcut.stitch_tracklets'.\n",
            "Processing...  /content/drive/My Drive/2022-06-10-labo-cg-2022-09-27/videos/Basler_acA800-510um__23617456__20221020_152831538_cropped-1.mp4\n"
          ]
        },
        {
          "output_type": "stream",
          "name": "stderr",
          "text": [
            "100%|██████████| 62/62 [00:00<00:00, 2640.34it/s]\n"
          ]
        },
        {
          "output_type": "stream",
          "name": "stdout",
          "text": [
            "Starting to analyze %  /content/drive/My Drive/2022-06-10-labo-cg-2022-09-27/videos/Basler_acA800-510um__23617456__20221020_151953393_cropped-2.mp4\n",
            "Loading  /content/drive/My Drive/2022-06-10-labo-cg-2022-09-27/videos/Basler_acA800-510um__23617456__20221020_151953393_cropped-2.mp4\n",
            "Duration of video [s]:  60.0 , recorded with  25.0 fps!\n",
            "Overall # of frames:  1500  found with (before cropping) frame dimensions:  350 366\n",
            "Starting to extract posture from the video(s) with batchsize: 8\n"
          ]
        },
        {
          "output_type": "stream",
          "name": "stderr",
          "text": [
            "100%|██████████| 1500/1500 [00:18<00:00, 81.34it/s]\n"
          ]
        },
        {
          "output_type": "stream",
          "name": "stdout",
          "text": [
            "Video Analyzed. Saving results in /content/drive/My Drive/2022-06-10-labo-cg-2022-09-27/videos...\n",
            "Using snapshot-243000 for model /content/drive/My Drive/2022-06-10-labo-cg-2022-09-27/dlc-models/iteration-0/2022-06-10-laboSep27-trainset95shuffle11\n",
            "Processing...  /content/drive/My Drive/2022-06-10-labo-cg-2022-09-27/videos/Basler_acA800-510um__23617456__20221020_151953393_cropped-2.mp4\n",
            "Analyzing /content/drive/My Drive/2022-06-10-labo-cg-2022-09-27/videos/Basler_acA800-510um__23617456__20221020_151953393_cropped-2DLC_dlcrnetms5_2022-06-10-laboSep27shuffle11_243000.h5\n"
          ]
        },
        {
          "output_type": "stream",
          "name": "stderr",
          "text": [
            "100%|██████████| 1500/1500 [00:03<00:00, 477.12it/s]\n",
            "1500it [00:01, 899.76it/s]\n"
          ]
        },
        {
          "output_type": "stream",
          "name": "stdout",
          "text": [
            "The tracklets were created (i.e., under the hood deeplabcut.convert_detections2tracklets was run). Now you can 'refine_tracklets' in the GUI, or run 'deeplabcut.stitch_tracklets'.\n",
            "Processing...  /content/drive/My Drive/2022-06-10-labo-cg-2022-09-27/videos/Basler_acA800-510um__23617456__20221020_151953393_cropped-2.mp4\n"
          ]
        },
        {
          "output_type": "stream",
          "name": "stderr",
          "text": [
            "100%|██████████| 46/46 [00:00<00:00, 3165.41it/s]\n"
          ]
        },
        {
          "output_type": "stream",
          "name": "stdout",
          "text": [
            "Starting to analyze %  /content/drive/My Drive/2022-06-10-labo-cg-2022-09-27/videos/Basler_acA800-510um__23617456__20221020_153353997_cropped-2.mp4\n",
            "Loading  /content/drive/My Drive/2022-06-10-labo-cg-2022-09-27/videos/Basler_acA800-510um__23617456__20221020_153353997_cropped-2.mp4\n",
            "Duration of video [s]:  175.04 , recorded with  25.0 fps!\n",
            "Overall # of frames:  4376  found with (before cropping) frame dimensions:  338 352\n",
            "Starting to extract posture from the video(s) with batchsize: 8\n"
          ]
        },
        {
          "output_type": "stream",
          "name": "stderr",
          "text": [
            "100%|██████████| 4376/4376 [00:49<00:00, 87.55it/s]\n"
          ]
        },
        {
          "output_type": "stream",
          "name": "stdout",
          "text": [
            "Video Analyzed. Saving results in /content/drive/My Drive/2022-06-10-labo-cg-2022-09-27/videos...\n",
            "Using snapshot-243000 for model /content/drive/My Drive/2022-06-10-labo-cg-2022-09-27/dlc-models/iteration-0/2022-06-10-laboSep27-trainset95shuffle11\n",
            "Processing...  /content/drive/My Drive/2022-06-10-labo-cg-2022-09-27/videos/Basler_acA800-510um__23617456__20221020_153353997_cropped-2.mp4\n",
            "Analyzing /content/drive/My Drive/2022-06-10-labo-cg-2022-09-27/videos/Basler_acA800-510um__23617456__20221020_153353997_cropped-2DLC_dlcrnetms5_2022-06-10-laboSep27shuffle11_243000.h5\n"
          ]
        },
        {
          "output_type": "stream",
          "name": "stderr",
          "text": [
            "100%|██████████| 4376/4376 [00:09<00:00, 478.34it/s]\n",
            "4376it [00:05, 841.41it/s]\n"
          ]
        },
        {
          "output_type": "stream",
          "name": "stdout",
          "text": [
            "The tracklets were created (i.e., under the hood deeplabcut.convert_detections2tracklets was run). Now you can 'refine_tracklets' in the GUI, or run 'deeplabcut.stitch_tracklets'.\n",
            "Processing...  /content/drive/My Drive/2022-06-10-labo-cg-2022-09-27/videos/Basler_acA800-510um__23617456__20221020_153353997_cropped-2.mp4\n"
          ]
        },
        {
          "output_type": "stream",
          "name": "stderr",
          "text": [
            "100%|██████████| 3/3 [00:00<00:00, 27354.16it/s]\n"
          ]
        },
        {
          "output_type": "stream",
          "name": "stdout",
          "text": [
            "Starting to analyze %  /content/drive/My Drive/2022-06-10-labo-cg-2022-09-27/videos/Basler_acA800-510um__23617456__20221020_152523138_cropped-2.mp4\n",
            "Loading  /content/drive/My Drive/2022-06-10-labo-cg-2022-09-27/videos/Basler_acA800-510um__23617456__20221020_152523138_cropped-2.mp4\n",
            "Duration of video [s]:  175.04 , recorded with  25.0 fps!\n",
            "Overall # of frames:  4376  found with (before cropping) frame dimensions:  360 352\n",
            "Starting to extract posture from the video(s) with batchsize: 8\n"
          ]
        },
        {
          "output_type": "stream",
          "name": "stderr",
          "text": [
            "100%|██████████| 4376/4376 [00:51<00:00, 84.32it/s]\n"
          ]
        },
        {
          "output_type": "stream",
          "name": "stdout",
          "text": [
            "Video Analyzed. Saving results in /content/drive/My Drive/2022-06-10-labo-cg-2022-09-27/videos...\n",
            "Using snapshot-243000 for model /content/drive/My Drive/2022-06-10-labo-cg-2022-09-27/dlc-models/iteration-0/2022-06-10-laboSep27-trainset95shuffle11\n",
            "Processing...  /content/drive/My Drive/2022-06-10-labo-cg-2022-09-27/videos/Basler_acA800-510um__23617456__20221020_152523138_cropped-2.mp4\n",
            "Analyzing /content/drive/My Drive/2022-06-10-labo-cg-2022-09-27/videos/Basler_acA800-510um__23617456__20221020_152523138_cropped-2DLC_dlcrnetms5_2022-06-10-laboSep27shuffle11_243000.h5\n"
          ]
        },
        {
          "output_type": "stream",
          "name": "stderr",
          "text": [
            "100%|██████████| 4376/4376 [00:09<00:00, 448.58it/s]\n",
            "4376it [00:04, 887.86it/s]\n"
          ]
        },
        {
          "output_type": "stream",
          "name": "stdout",
          "text": [
            "The tracklets were created (i.e., under the hood deeplabcut.convert_detections2tracklets was run). Now you can 'refine_tracklets' in the GUI, or run 'deeplabcut.stitch_tracklets'.\n",
            "Processing...  /content/drive/My Drive/2022-06-10-labo-cg-2022-09-27/videos/Basler_acA800-510um__23617456__20221020_152523138_cropped-2.mp4\n"
          ]
        },
        {
          "output_type": "stream",
          "name": "stderr",
          "text": [
            "100%|██████████| 3/3 [00:00<00:00, 25679.41it/s]\n"
          ]
        },
        {
          "output_type": "stream",
          "name": "stdout",
          "text": [
            "Starting to analyze %  /content/drive/My Drive/2022-06-10-labo-cg-2022-09-27/videos/Basler_acA800-510um__23617456__20221020_150809448_cropped-2.mp4\n",
            "Loading  /content/drive/My Drive/2022-06-10-labo-cg-2022-09-27/videos/Basler_acA800-510um__23617456__20221020_150809448_cropped-2.mp4\n",
            "Duration of video [s]:  175.04 , recorded with  25.0 fps!\n",
            "Overall # of frames:  4376  found with (before cropping) frame dimensions:  376 382\n",
            "Starting to extract posture from the video(s) with batchsize: 8\n"
          ]
        },
        {
          "output_type": "stream",
          "name": "stderr",
          "text": [
            "100%|██████████| 4376/4376 [00:57<00:00, 75.70it/s]\n"
          ]
        },
        {
          "output_type": "stream",
          "name": "stdout",
          "text": [
            "Video Analyzed. Saving results in /content/drive/My Drive/2022-06-10-labo-cg-2022-09-27/videos...\n",
            "Using snapshot-243000 for model /content/drive/My Drive/2022-06-10-labo-cg-2022-09-27/dlc-models/iteration-0/2022-06-10-laboSep27-trainset95shuffle11\n",
            "Processing...  /content/drive/My Drive/2022-06-10-labo-cg-2022-09-27/videos/Basler_acA800-510um__23617456__20221020_150809448_cropped-2.mp4\n",
            "Analyzing /content/drive/My Drive/2022-06-10-labo-cg-2022-09-27/videos/Basler_acA800-510um__23617456__20221020_150809448_cropped-2DLC_dlcrnetms5_2022-06-10-laboSep27shuffle11_243000.h5\n"
          ]
        },
        {
          "output_type": "stream",
          "name": "stderr",
          "text": [
            "100%|██████████| 4376/4376 [00:08<00:00, 502.08it/s]\n",
            "4376it [00:04, 913.19it/s]\n"
          ]
        },
        {
          "output_type": "stream",
          "name": "stdout",
          "text": [
            "The tracklets were created (i.e., under the hood deeplabcut.convert_detections2tracklets was run). Now you can 'refine_tracklets' in the GUI, or run 'deeplabcut.stitch_tracklets'.\n",
            "Processing...  /content/drive/My Drive/2022-06-10-labo-cg-2022-09-27/videos/Basler_acA800-510um__23617456__20221020_150809448_cropped-2.mp4\n"
          ]
        },
        {
          "output_type": "stream",
          "name": "stderr",
          "text": [
            "100%|██████████| 3/3 [00:00<00:00, 1735.10it/s]\n"
          ]
        },
        {
          "output_type": "stream",
          "name": "stdout",
          "text": [
            "Starting to analyze %  /content/drive/My Drive/2022-06-10-labo-cg-2022-09-27/videos/Basler_acA800-510um__23617456__20221020_151118043_cropped-1.mp4\n",
            "Loading  /content/drive/My Drive/2022-06-10-labo-cg-2022-09-27/videos/Basler_acA800-510um__23617456__20221020_151118043_cropped-1.mp4\n",
            "Duration of video [s]:  60.0 , recorded with  25.0 fps!\n",
            "Overall # of frames:  1500  found with (before cropping) frame dimensions:  360 370\n",
            "Starting to extract posture from the video(s) with batchsize: 8\n"
          ]
        },
        {
          "output_type": "stream",
          "name": "stderr",
          "text": [
            "100%|██████████| 1500/1500 [00:18<00:00, 80.08it/s]\n"
          ]
        },
        {
          "output_type": "stream",
          "name": "stdout",
          "text": [
            "Video Analyzed. Saving results in /content/drive/My Drive/2022-06-10-labo-cg-2022-09-27/videos...\n",
            "Using snapshot-243000 for model /content/drive/My Drive/2022-06-10-labo-cg-2022-09-27/dlc-models/iteration-0/2022-06-10-laboSep27-trainset95shuffle11\n",
            "Processing...  /content/drive/My Drive/2022-06-10-labo-cg-2022-09-27/videos/Basler_acA800-510um__23617456__20221020_151118043_cropped-1.mp4\n",
            "Analyzing /content/drive/My Drive/2022-06-10-labo-cg-2022-09-27/videos/Basler_acA800-510um__23617456__20221020_151118043_cropped-1DLC_dlcrnetms5_2022-06-10-laboSep27shuffle11_243000.h5\n"
          ]
        },
        {
          "output_type": "stream",
          "name": "stderr",
          "text": [
            "100%|██████████| 1500/1500 [00:03<00:00, 491.42it/s]\n",
            "1500it [00:01, 915.44it/s]\n"
          ]
        },
        {
          "output_type": "stream",
          "name": "stdout",
          "text": [
            "The tracklets were created (i.e., under the hood deeplabcut.convert_detections2tracklets was run). Now you can 'refine_tracklets' in the GUI, or run 'deeplabcut.stitch_tracklets'.\n",
            "Processing...  /content/drive/My Drive/2022-06-10-labo-cg-2022-09-27/videos/Basler_acA800-510um__23617456__20221020_151118043_cropped-1.mp4\n"
          ]
        },
        {
          "output_type": "stream",
          "name": "stderr",
          "text": [
            "100%|██████████| 79/79 [00:00<00:00, 3573.93it/s]\n"
          ]
        },
        {
          "output_type": "stream",
          "name": "stdout",
          "text": [
            "Starting to analyze %  /content/drive/My Drive/2022-06-10-labo-cg-2022-09-27/videos/Basler_acA800-510um__23617456__20221020_151227047_cropped-1.mp4\n",
            "Loading  /content/drive/My Drive/2022-06-10-labo-cg-2022-09-27/videos/Basler_acA800-510um__23617456__20221020_151227047_cropped-1.mp4\n",
            "Duration of video [s]:  175.04 , recorded with  25.0 fps!\n",
            "Overall # of frames:  4376  found with (before cropping) frame dimensions:  360 348\n",
            "Starting to extract posture from the video(s) with batchsize: 8\n"
          ]
        },
        {
          "output_type": "stream",
          "name": "stderr",
          "text": [
            "100%|██████████| 4376/4376 [00:51<00:00, 84.55it/s]\n"
          ]
        },
        {
          "output_type": "stream",
          "name": "stdout",
          "text": [
            "Video Analyzed. Saving results in /content/drive/My Drive/2022-06-10-labo-cg-2022-09-27/videos...\n",
            "Using snapshot-243000 for model /content/drive/My Drive/2022-06-10-labo-cg-2022-09-27/dlc-models/iteration-0/2022-06-10-laboSep27-trainset95shuffle11\n",
            "Processing...  /content/drive/My Drive/2022-06-10-labo-cg-2022-09-27/videos/Basler_acA800-510um__23617456__20221020_151227047_cropped-1.mp4\n",
            "Analyzing /content/drive/My Drive/2022-06-10-labo-cg-2022-09-27/videos/Basler_acA800-510um__23617456__20221020_151227047_cropped-1DLC_dlcrnetms5_2022-06-10-laboSep27shuffle11_243000.h5\n"
          ]
        },
        {
          "output_type": "stream",
          "name": "stderr",
          "text": [
            "100%|██████████| 4376/4376 [00:08<00:00, 500.87it/s]\n",
            "4376it [00:04, 929.59it/s]\n"
          ]
        },
        {
          "output_type": "stream",
          "name": "stdout",
          "text": [
            "The tracklets were created (i.e., under the hood deeplabcut.convert_detections2tracklets was run). Now you can 'refine_tracklets' in the GUI, or run 'deeplabcut.stitch_tracklets'.\n",
            "Processing...  /content/drive/My Drive/2022-06-10-labo-cg-2022-09-27/videos/Basler_acA800-510um__23617456__20221020_151227047_cropped-1.mp4\n"
          ]
        },
        {
          "output_type": "stream",
          "name": "stderr",
          "text": [
            "100%|██████████| 111/111 [00:00<00:00, 3729.61it/s]\n"
          ]
        },
        {
          "output_type": "stream",
          "name": "stdout",
          "text": [
            "Starting to analyze %  /content/drive/My Drive/2022-06-10-labo-cg-2022-09-27/videos/Basler_acA800-510um__23617456__20221020_152108990_cropped-2.mp4\n",
            "Loading  /content/drive/My Drive/2022-06-10-labo-cg-2022-09-27/videos/Basler_acA800-510um__23617456__20221020_152108990_cropped-2.mp4\n",
            "Duration of video [s]:  175.04 , recorded with  25.0 fps!\n",
            "Overall # of frames:  4376  found with (before cropping) frame dimensions:  352 352\n",
            "Starting to extract posture from the video(s) with batchsize: 8\n"
          ]
        },
        {
          "output_type": "stream",
          "name": "stderr",
          "text": [
            "100%|██████████| 4376/4376 [00:50<00:00, 86.80it/s]\n"
          ]
        },
        {
          "output_type": "stream",
          "name": "stdout",
          "text": [
            "Video Analyzed. Saving results in /content/drive/My Drive/2022-06-10-labo-cg-2022-09-27/videos...\n",
            "Using snapshot-243000 for model /content/drive/My Drive/2022-06-10-labo-cg-2022-09-27/dlc-models/iteration-0/2022-06-10-laboSep27-trainset95shuffle11\n",
            "Processing...  /content/drive/My Drive/2022-06-10-labo-cg-2022-09-27/videos/Basler_acA800-510um__23617456__20221020_152108990_cropped-2.mp4\n",
            "Analyzing /content/drive/My Drive/2022-06-10-labo-cg-2022-09-27/videos/Basler_acA800-510um__23617456__20221020_152108990_cropped-2DLC_dlcrnetms5_2022-06-10-laboSep27shuffle11_243000.h5\n"
          ]
        },
        {
          "output_type": "stream",
          "name": "stderr",
          "text": [
            "100%|██████████| 4376/4376 [00:09<00:00, 468.05it/s]\n",
            "4376it [00:05, 874.56it/s]\n"
          ]
        },
        {
          "output_type": "stream",
          "name": "stdout",
          "text": [
            "The tracklets were created (i.e., under the hood deeplabcut.convert_detections2tracklets was run). Now you can 'refine_tracklets' in the GUI, or run 'deeplabcut.stitch_tracklets'.\n",
            "Processing...  /content/drive/My Drive/2022-06-10-labo-cg-2022-09-27/videos/Basler_acA800-510um__23617456__20221020_152108990_cropped-2.mp4\n"
          ]
        },
        {
          "output_type": "stream",
          "name": "stderr",
          "text": [
            "100%|██████████| 3/3 [00:00<00:00, 23087.91it/s]\n"
          ]
        },
        {
          "output_type": "stream",
          "name": "stdout",
          "text": [
            "Starting to analyze %  /content/drive/My Drive/2022-06-10-labo-cg-2022-09-27/videos/Basler_acA800-510um__23617456__20221020_152414985_cropped-2.mp4\n",
            "Loading  /content/drive/My Drive/2022-06-10-labo-cg-2022-09-27/videos/Basler_acA800-510um__23617456__20221020_152414985_cropped-2.mp4\n",
            "Duration of video [s]:  60.04 , recorded with  25.0 fps!\n",
            "Overall # of frames:  1501  found with (before cropping) frame dimensions:  354 350\n",
            "Starting to extract posture from the video(s) with batchsize: 8\n"
          ]
        },
        {
          "output_type": "stream",
          "name": "stderr",
          "text": [
            "100%|██████████| 1501/1501 [00:17<00:00, 85.18it/s]\n"
          ]
        },
        {
          "output_type": "stream",
          "name": "stdout",
          "text": [
            "Video Analyzed. Saving results in /content/drive/My Drive/2022-06-10-labo-cg-2022-09-27/videos...\n",
            "Using snapshot-243000 for model /content/drive/My Drive/2022-06-10-labo-cg-2022-09-27/dlc-models/iteration-0/2022-06-10-laboSep27-trainset95shuffle11\n",
            "Processing...  /content/drive/My Drive/2022-06-10-labo-cg-2022-09-27/videos/Basler_acA800-510um__23617456__20221020_152414985_cropped-2.mp4\n",
            "Analyzing /content/drive/My Drive/2022-06-10-labo-cg-2022-09-27/videos/Basler_acA800-510um__23617456__20221020_152414985_cropped-2DLC_dlcrnetms5_2022-06-10-laboSep27shuffle11_243000.h5\n"
          ]
        },
        {
          "output_type": "stream",
          "name": "stderr",
          "text": [
            "100%|██████████| 1501/1501 [00:03<00:00, 445.98it/s]\n",
            "1501it [00:01, 879.55it/s]\n"
          ]
        },
        {
          "output_type": "stream",
          "name": "stdout",
          "text": [
            "The tracklets were created (i.e., under the hood deeplabcut.convert_detections2tracklets was run). Now you can 'refine_tracklets' in the GUI, or run 'deeplabcut.stitch_tracklets'.\n",
            "Processing...  /content/drive/My Drive/2022-06-10-labo-cg-2022-09-27/videos/Basler_acA800-510um__23617456__20221020_152414985_cropped-2.mp4\n"
          ]
        },
        {
          "output_type": "stream",
          "name": "stderr",
          "text": [
            "100%|██████████| 3/3 [00:00<00:00, 22836.50it/s]\n"
          ]
        },
        {
          "output_type": "stream",
          "name": "stdout",
          "text": [
            "Starting to analyze %  /content/drive/My Drive/2022-06-10-labo-cg-2022-09-27/videos/Basler_acA800-510um__23617456__20221020_151535145_cropped-1.mp4\n",
            "Loading  /content/drive/My Drive/2022-06-10-labo-cg-2022-09-27/videos/Basler_acA800-510um__23617456__20221020_151535145_cropped-1.mp4\n",
            "Duration of video [s]:  60.04 , recorded with  25.0 fps!\n",
            "Overall # of frames:  1501  found with (before cropping) frame dimensions:  344 362\n",
            "Starting to extract posture from the video(s) with batchsize: 8\n"
          ]
        },
        {
          "output_type": "stream",
          "name": "stderr",
          "text": [
            "100%|██████████| 1501/1501 [00:18<00:00, 82.43it/s]\n"
          ]
        },
        {
          "output_type": "stream",
          "name": "stdout",
          "text": [
            "Video Analyzed. Saving results in /content/drive/My Drive/2022-06-10-labo-cg-2022-09-27/videos...\n",
            "Using snapshot-243000 for model /content/drive/My Drive/2022-06-10-labo-cg-2022-09-27/dlc-models/iteration-0/2022-06-10-laboSep27-trainset95shuffle11\n",
            "Processing...  /content/drive/My Drive/2022-06-10-labo-cg-2022-09-27/videos/Basler_acA800-510um__23617456__20221020_151535145_cropped-1.mp4\n",
            "Analyzing /content/drive/My Drive/2022-06-10-labo-cg-2022-09-27/videos/Basler_acA800-510um__23617456__20221020_151535145_cropped-1DLC_dlcrnetms5_2022-06-10-laboSep27shuffle11_243000.h5\n"
          ]
        },
        {
          "output_type": "stream",
          "name": "stderr",
          "text": [
            "100%|██████████| 1501/1501 [00:02<00:00, 512.59it/s]\n",
            "1501it [00:01, 905.56it/s]\n"
          ]
        },
        {
          "output_type": "stream",
          "name": "stdout",
          "text": [
            "The tracklets were created (i.e., under the hood deeplabcut.convert_detections2tracklets was run). Now you can 'refine_tracklets' in the GUI, or run 'deeplabcut.stitch_tracklets'.\n",
            "Processing...  /content/drive/My Drive/2022-06-10-labo-cg-2022-09-27/videos/Basler_acA800-510um__23617456__20221020_151535145_cropped-1.mp4\n"
          ]
        },
        {
          "output_type": "stream",
          "name": "stderr",
          "text": [
            "100%|██████████| 17/17 [00:00<00:00, 2325.84it/s]\n"
          ]
        },
        {
          "output_type": "stream",
          "name": "stdout",
          "text": [
            "Starting to analyze %  /content/drive/My Drive/2022-06-10-labo-cg-2022-09-27/videos/Basler_acA800-510um__23617456__20221020_153247995_cropped-1.mp4\n",
            "Loading  /content/drive/My Drive/2022-06-10-labo-cg-2022-09-27/videos/Basler_acA800-510um__23617456__20221020_153247995_cropped-1.mp4\n",
            "Duration of video [s]:  60.0 , recorded with  25.0 fps!\n",
            "Overall # of frames:  1500  found with (before cropping) frame dimensions:  328 348\n",
            "Starting to extract posture from the video(s) with batchsize: 8\n"
          ]
        },
        {
          "output_type": "stream",
          "name": "stderr",
          "text": [
            "100%|██████████| 1500/1500 [00:16<00:00, 89.02it/s]\n"
          ]
        },
        {
          "output_type": "stream",
          "name": "stdout",
          "text": [
            "Video Analyzed. Saving results in /content/drive/My Drive/2022-06-10-labo-cg-2022-09-27/videos...\n",
            "Using snapshot-243000 for model /content/drive/My Drive/2022-06-10-labo-cg-2022-09-27/dlc-models/iteration-0/2022-06-10-laboSep27-trainset95shuffle11\n",
            "Processing...  /content/drive/My Drive/2022-06-10-labo-cg-2022-09-27/videos/Basler_acA800-510um__23617456__20221020_153247995_cropped-1.mp4\n",
            "Analyzing /content/drive/My Drive/2022-06-10-labo-cg-2022-09-27/videos/Basler_acA800-510um__23617456__20221020_153247995_cropped-1DLC_dlcrnetms5_2022-06-10-laboSep27shuffle11_243000.h5\n"
          ]
        },
        {
          "output_type": "stream",
          "name": "stderr",
          "text": [
            "100%|██████████| 1500/1500 [00:03<00:00, 486.49it/s]\n",
            "1500it [00:01, 878.57it/s]\n"
          ]
        },
        {
          "output_type": "stream",
          "name": "stdout",
          "text": [
            "The tracklets were created (i.e., under the hood deeplabcut.convert_detections2tracklets was run). Now you can 'refine_tracklets' in the GUI, or run 'deeplabcut.stitch_tracklets'.\n",
            "Processing...  /content/drive/My Drive/2022-06-10-labo-cg-2022-09-27/videos/Basler_acA800-510um__23617456__20221020_153247995_cropped-1.mp4\n"
          ]
        },
        {
          "output_type": "stream",
          "name": "stderr",
          "text": [
            "100%|██████████| 3/3 [00:00<00:00, 25890.77it/s]\n"
          ]
        },
        {
          "output_type": "stream",
          "name": "stdout",
          "text": [
            "Starting to analyze %  /content/drive/My Drive/2022-06-10-labo-cg-2022-09-27/videos/Basler_acA800-510um__23617456__20221020_151646323_cropped-2.mp4\n",
            "Loading  /content/drive/My Drive/2022-06-10-labo-cg-2022-09-27/videos/Basler_acA800-510um__23617456__20221020_151646323_cropped-2.mp4\n",
            "Duration of video [s]:  175.04 , recorded with  25.0 fps!\n",
            "Overall # of frames:  4376  found with (before cropping) frame dimensions:  360 350\n",
            "Starting to extract posture from the video(s) with batchsize: 8\n"
          ]
        },
        {
          "output_type": "stream",
          "name": "stderr",
          "text": [
            "100%|██████████| 4376/4376 [00:51<00:00, 85.39it/s]\n"
          ]
        },
        {
          "output_type": "stream",
          "name": "stdout",
          "text": [
            "Video Analyzed. Saving results in /content/drive/My Drive/2022-06-10-labo-cg-2022-09-27/videos...\n",
            "Using snapshot-243000 for model /content/drive/My Drive/2022-06-10-labo-cg-2022-09-27/dlc-models/iteration-0/2022-06-10-laboSep27-trainset95shuffle11\n",
            "Processing...  /content/drive/My Drive/2022-06-10-labo-cg-2022-09-27/videos/Basler_acA800-510um__23617456__20221020_151646323_cropped-2.mp4\n",
            "Analyzing /content/drive/My Drive/2022-06-10-labo-cg-2022-09-27/videos/Basler_acA800-510um__23617456__20221020_151646323_cropped-2DLC_dlcrnetms5_2022-06-10-laboSep27shuffle11_243000.h5\n"
          ]
        },
        {
          "output_type": "stream",
          "name": "stderr",
          "text": [
            "100%|██████████| 4376/4376 [00:08<00:00, 496.05it/s]\n",
            "4376it [00:04, 896.32it/s]\n"
          ]
        },
        {
          "output_type": "stream",
          "name": "stdout",
          "text": [
            "The tracklets were created (i.e., under the hood deeplabcut.convert_detections2tracklets was run). Now you can 'refine_tracklets' in the GUI, or run 'deeplabcut.stitch_tracklets'.\n",
            "Processing...  /content/drive/My Drive/2022-06-10-labo-cg-2022-09-27/videos/Basler_acA800-510um__23617456__20221020_151646323_cropped-2.mp4\n"
          ]
        },
        {
          "output_type": "stream",
          "name": "stderr",
          "text": [
            "100%|██████████| 9/9 [00:00<00:00, 910.24it/s]"
          ]
        },
        {
          "output_type": "stream",
          "name": "stdout",
          "text": [
            "The videos are analyzed. Time to assemble animals and track 'em... \n",
            " Call 'create_video_with_all_detections' to check multi-animal detection quality before tracking.\n",
            "If the tracking is not satisfactory for some videos, consider expanding the training set. You can use the function 'extract_outlier_frames' to extract a few representative outlier frames.\n"
          ]
        },
        {
          "output_type": "stream",
          "name": "stderr",
          "text": [
            "\n"
          ]
        },
        {
          "output_type": "execute_result",
          "data": {
            "text/plain": [
              "'DLC_dlcrnetms5_2022-06-10-laboSep27shuffle11_243000'"
            ],
            "application/vnd.google.colaboratory.intrinsic+json": {
              "type": "string"
            }
          },
          "metadata": {},
          "execution_count": 21
        }
      ],
      "source": [
        "print(\"Start Analyzing my video(s)!\")\n",
        "#EDIT OPTION: which video(s) do you want to analyze? You can pass a path or a folder:\n",
        "# currently, if you run \"as is\" it assumes you have a video in the DLC project video folder!\n",
        "\n",
        "deeplabcut.analyze_videos(path_config_file,videofile_path, shuffle=shuffle, videotype=VideoType)"
      ]
    },
    {
      "cell_type": "markdown",
      "metadata": {
        "id": "91xBLOcBzGxo"
      },
      "source": [
        "Optional: Now you have the option to check the raw dections before animals are assembled. To do so, pass a video path:"
      ]
    },
    {
      "cell_type": "code",
      "execution_count": null,
      "metadata": {
        "id": "65mWwX5bTc5C"
      },
      "outputs": [],
      "source": [
        "##### PROTIP: #####\n",
        "## look at the output video; if the pose estimation (i.e. key points)\n",
        "## don't look good, don't proceed with tracking - add more data to your training set and re-train!\n",
        "\n",
        "#EDIT: let's check a specific video (PLEASE EDIT VIDEO PATH):\n",
        "Specific_videofile = '/content/drive/My Drive/2022-06-10-labo-cg-2022-09-27/videosBasler_acA800-510um__23617456__20221020_141718783_cropped-1.mp4'\n",
        "\n",
        "#don't edit:\n",
        "deeplabcut.create_video_with_all_detections(path_config_file, [Specific_videofile], shuffle=shuffle)"
      ]
    },
    {
      "cell_type": "code",
      "source": [],
      "metadata": {
        "id": "fT18MTCuiJvx"
      },
      "execution_count": null,
      "outputs": []
    },
    {
      "cell_type": "markdown",
      "metadata": {
        "id": "3-OgTJ0Lz20e"
      },
      "source": [
        "If the resutling video (ends in full.mp4) is not good, we highly recommend adding more data and training again. See here: https://deeplabcut.github.io/DeepLabCut/docs/maDLC_UserGuide.html#decision-break-point"
      ]
    },
    {
      "cell_type": "markdown",
      "metadata": {
        "id": "PxRLS2_-r55K"
      },
      "source": [
        "# Next, we will assemble animals using our data-driven optimal graph method:\n",
        "\n",
        "- Here, we will find the optimal graph, which matches the \"data-driven\" method from our paper (Figure adapted from Lauer et al. 2021):\n",
        "\n",
        "![alt text](https://images.squarespace-cdn.com/content/v1/57f6d51c9f74566f55ecf271/1626266017809-XO6NX84QB4FBAZGOTCEY/fig3.jpg?format=400w)\n",
        "\n",
        "\n",
        "- note, you can set the number of animals you expect to see, so check, edit, then click run:"
      ]
    },
    {
      "cell_type": "code",
      "execution_count": null,
      "metadata": {
        "id": "zIvXM7TXIs-U",
        "colab": {
          "base_uri": "https://localhost:8080/"
        },
        "outputId": "bf0938f7-7598-43a0-d2c3-edff20063acc"
      },
      "outputs": [
        {
          "output_type": "stream",
          "name": "stdout",
          "text": [
            "Using snapshot-243000 for model /content/drive/My Drive/2022-06-10-labo-cg-2022-09-27/dlc-models/iteration-0/2022-06-10-laboSep27-trainset95shuffle11\n",
            "Analyzing all the videos in the directory...\n",
            "Processing...  /content/drive/My Drive/2022-06-10-labo-cg-2022-09-27/videos/Basler_acA800-510um__23617456__20221020_151535145_cropped-1.mp4\n",
            "Analyzing /content/drive/My Drive/2022-06-10-labo-cg-2022-09-27/videos/Basler_acA800-510um__23617456__20221020_151535145_cropped-1DLC_dlcrnetms5_2022-06-10-laboSep27shuffle11_243000.h5\n"
          ]
        },
        {
          "output_type": "stream",
          "name": "stderr",
          "text": [
            "100%|██████████| 1501/1501 [00:05<00:00, 257.48it/s]\n",
            "1501it [00:04, 308.76it/s]\n"
          ]
        },
        {
          "output_type": "stream",
          "name": "stdout",
          "text": [
            "Processing...  /content/drive/My Drive/2022-06-10-labo-cg-2022-09-27/videos/Basler_acA800-510um__23617456__20221020_153353997_cropped-2.mp4\n",
            "Analyzing /content/drive/My Drive/2022-06-10-labo-cg-2022-09-27/videos/Basler_acA800-510um__23617456__20221020_153353997_cropped-2DLC_dlcrnetms5_2022-06-10-laboSep27shuffle11_243000.h5\n"
          ]
        },
        {
          "output_type": "stream",
          "name": "stderr",
          "text": [
            "100%|██████████| 4376/4376 [00:12<00:00, 348.31it/s]\n",
            "4376it [00:05, 827.36it/s]\n"
          ]
        },
        {
          "output_type": "stream",
          "name": "stdout",
          "text": [
            "Processing...  /content/drive/My Drive/2022-06-10-labo-cg-2022-09-27/videos/Basler_acA800-510um__23617456__20221020_152523138_cropped-1.mp4\n",
            "Analyzing /content/drive/My Drive/2022-06-10-labo-cg-2022-09-27/videos/Basler_acA800-510um__23617456__20221020_152523138_cropped-1DLC_dlcrnetms5_2022-06-10-laboSep27shuffle11_243000.h5\n"
          ]
        },
        {
          "output_type": "stream",
          "name": "stderr",
          "text": [
            "100%|██████████| 4376/4376 [00:09<00:00, 470.48it/s]\n",
            "4376it [00:05, 857.15it/s]\n"
          ]
        },
        {
          "output_type": "stream",
          "name": "stdout",
          "text": [
            "Processing...  /content/drive/My Drive/2022-06-10-labo-cg-2022-09-27/videos/Basler_acA800-510um__23617456__20221020_152414985_cropped-2.mp4\n",
            "Analyzing /content/drive/My Drive/2022-06-10-labo-cg-2022-09-27/videos/Basler_acA800-510um__23617456__20221020_152414985_cropped-2DLC_dlcrnetms5_2022-06-10-laboSep27shuffle11_243000.h5\n"
          ]
        },
        {
          "output_type": "stream",
          "name": "stderr",
          "text": [
            "100%|██████████| 1501/1501 [00:03<00:00, 479.28it/s]\n",
            "1501it [00:01, 866.62it/s]\n"
          ]
        },
        {
          "output_type": "stream",
          "name": "stdout",
          "text": [
            "Processing...  /content/drive/My Drive/2022-06-10-labo-cg-2022-09-27/videos/Basler_acA800-510um__23617456__20221020_150809448_cropped-1.mp4\n",
            "Analyzing /content/drive/My Drive/2022-06-10-labo-cg-2022-09-27/videos/Basler_acA800-510um__23617456__20221020_150809448_cropped-1DLC_dlcrnetms5_2022-06-10-laboSep27shuffle11_243000.h5\n"
          ]
        },
        {
          "output_type": "stream",
          "name": "stderr",
          "text": [
            "100%|██████████| 4376/4376 [00:09<00:00, 485.68it/s]\n",
            "4376it [00:04, 921.05it/s]\n"
          ]
        },
        {
          "output_type": "stream",
          "name": "stdout",
          "text": [
            "Processing...  /content/drive/My Drive/2022-06-10-labo-cg-2022-09-27/videos/Basler_acA800-510um__23617456__20221020_153247995_cropped-1.mp4\n",
            "Analyzing /content/drive/My Drive/2022-06-10-labo-cg-2022-09-27/videos/Basler_acA800-510um__23617456__20221020_153247995_cropped-1DLC_dlcrnetms5_2022-06-10-laboSep27shuffle11_243000.h5\n"
          ]
        },
        {
          "output_type": "stream",
          "name": "stderr",
          "text": [
            "100%|██████████| 1500/1500 [00:02<00:00, 523.30it/s]\n",
            "1500it [00:01, 852.12it/s]\n"
          ]
        },
        {
          "output_type": "stream",
          "name": "stdout",
          "text": [
            "Processing...  /content/drive/My Drive/2022-06-10-labo-cg-2022-09-27/videos/Basler_acA800-510um__23617456__20221020_141718783_cropped-1.mp4\n",
            "Analyzing /content/drive/My Drive/2022-06-10-labo-cg-2022-09-27/videos/Basler_acA800-510um__23617456__20221020_141718783_cropped-1DLC_dlcrnetms5_2022-06-10-laboSep27shuffle11_243000.h5\n"
          ]
        },
        {
          "output_type": "stream",
          "name": "stderr",
          "text": [
            "100%|██████████| 4376/4376 [00:09<00:00, 485.46it/s]\n",
            "4376it [00:04, 913.10it/s]\n"
          ]
        },
        {
          "output_type": "stream",
          "name": "stdout",
          "text": [
            "Processing...  /content/drive/My Drive/2022-06-10-labo-cg-2022-09-27/videos/Basler_acA800-510um__23617456__20221020_152414985_cropped-1.mp4\n",
            "Analyzing /content/drive/My Drive/2022-06-10-labo-cg-2022-09-27/videos/Basler_acA800-510um__23617456__20221020_152414985_cropped-1DLC_dlcrnetms5_2022-06-10-laboSep27shuffle11_243000.h5\n"
          ]
        },
        {
          "output_type": "stream",
          "name": "stderr",
          "text": [
            "100%|██████████| 1501/1501 [00:03<00:00, 461.09it/s]\n",
            "1501it [00:01, 902.46it/s]\n"
          ]
        },
        {
          "output_type": "stream",
          "name": "stdout",
          "text": [
            "Processing...  /content/drive/My Drive/2022-06-10-labo-cg-2022-09-27/videos/Basler_acA800-510um__23617456__20221020_152108990_cropped-2.mp4\n",
            "Analyzing /content/drive/My Drive/2022-06-10-labo-cg-2022-09-27/videos/Basler_acA800-510um__23617456__20221020_152108990_cropped-2DLC_dlcrnetms5_2022-06-10-laboSep27shuffle11_243000.h5\n"
          ]
        },
        {
          "output_type": "stream",
          "name": "stderr",
          "text": [
            "100%|██████████| 4376/4376 [00:09<00:00, 467.91it/s]\n",
            "4376it [00:04, 882.03it/s]\n"
          ]
        },
        {
          "output_type": "stream",
          "name": "stdout",
          "text": [
            "Processing...  /content/drive/My Drive/2022-06-10-labo-cg-2022-09-27/videos/Basler_acA800-510um__23617456__20221020_152940991_cropped-1.mp4\n",
            "Analyzing /content/drive/My Drive/2022-06-10-labo-cg-2022-09-27/videos/Basler_acA800-510um__23617456__20221020_152940991_cropped-1DLC_dlcrnetms5_2022-06-10-laboSep27shuffle11_243000.h5\n"
          ]
        },
        {
          "output_type": "stream",
          "name": "stderr",
          "text": [
            "100%|██████████| 4376/4376 [00:09<00:00, 485.69it/s]\n",
            "4376it [00:07, 613.07it/s]\n"
          ]
        },
        {
          "output_type": "stream",
          "name": "stdout",
          "text": [
            "Processing...  /content/drive/My Drive/2022-06-10-labo-cg-2022-09-27/videos/Basler_acA800-510um__23617456__20221020_151118043_cropped-1.mp4\n",
            "Analyzing /content/drive/My Drive/2022-06-10-labo-cg-2022-09-27/videos/Basler_acA800-510um__23617456__20221020_151118043_cropped-1DLC_dlcrnetms5_2022-06-10-laboSep27shuffle11_243000.h5\n"
          ]
        },
        {
          "output_type": "stream",
          "name": "stderr",
          "text": [
            "100%|██████████| 1500/1500 [00:02<00:00, 543.10it/s]\n",
            "1500it [00:01, 907.22it/s]\n"
          ]
        },
        {
          "output_type": "stream",
          "name": "stdout",
          "text": [
            "Processing...  /content/drive/My Drive/2022-06-10-labo-cg-2022-09-27/videos/Basler_acA800-510um__23617456__20221020_152523138_cropped-2.mp4\n",
            "Analyzing /content/drive/My Drive/2022-06-10-labo-cg-2022-09-27/videos/Basler_acA800-510um__23617456__20221020_152523138_cropped-2DLC_dlcrnetms5_2022-06-10-laboSep27shuffle11_243000.h5\n"
          ]
        },
        {
          "output_type": "stream",
          "name": "stderr",
          "text": [
            "100%|██████████| 4376/4376 [00:09<00:00, 443.15it/s]\n",
            "4376it [00:05, 874.20it/s]\n"
          ]
        },
        {
          "output_type": "stream",
          "name": "stdout",
          "text": [
            "Processing...  /content/drive/My Drive/2022-06-10-labo-cg-2022-09-27/videos/Basler_acA800-510um__23617456__20221020_151227047_cropped-2.mp4\n",
            "Analyzing /content/drive/My Drive/2022-06-10-labo-cg-2022-09-27/videos/Basler_acA800-510um__23617456__20221020_151227047_cropped-2DLC_dlcrnetms5_2022-06-10-laboSep27shuffle11_243000.h5\n"
          ]
        },
        {
          "output_type": "stream",
          "name": "stderr",
          "text": [
            "100%|██████████| 4376/4376 [00:08<00:00, 499.85it/s]\n",
            "4376it [00:05, 874.22it/s]\n"
          ]
        },
        {
          "output_type": "stream",
          "name": "stdout",
          "text": [
            "Processing...  /content/drive/My Drive/2022-06-10-labo-cg-2022-09-27/videos/Basler_acA800-510um__23617456__20221020_151646323_cropped-2.mp4\n",
            "Analyzing /content/drive/My Drive/2022-06-10-labo-cg-2022-09-27/videos/Basler_acA800-510um__23617456__20221020_151646323_cropped-2DLC_dlcrnetms5_2022-06-10-laboSep27shuffle11_243000.h5\n"
          ]
        },
        {
          "output_type": "stream",
          "name": "stderr",
          "text": [
            "100%|██████████| 4376/4376 [00:09<00:00, 461.97it/s]\n",
            "4376it [00:05, 873.76it/s]\n"
          ]
        },
        {
          "output_type": "stream",
          "name": "stdout",
          "text": [
            "Processing...  /content/drive/My Drive/2022-06-10-labo-cg-2022-09-27/videos/Basler_acA800-510um__23617456__20221020_152831538_cropped-2.mp4\n",
            "Analyzing /content/drive/My Drive/2022-06-10-labo-cg-2022-09-27/videos/Basler_acA800-510um__23617456__20221020_152831538_cropped-2DLC_dlcrnetms5_2022-06-10-laboSep27shuffle11_243000.h5\n"
          ]
        },
        {
          "output_type": "stream",
          "name": "stderr",
          "text": [
            "100%|██████████| 1501/1501 [00:02<00:00, 553.26it/s]\n",
            "1501it [00:01, 847.63it/s]\n"
          ]
        },
        {
          "output_type": "stream",
          "name": "stdout",
          "text": [
            "Processing...  /content/drive/My Drive/2022-06-10-labo-cg-2022-09-27/videos/Basler_acA800-510um__23617456__20221020_151953393_cropped-1.mp4\n",
            "Analyzing /content/drive/My Drive/2022-06-10-labo-cg-2022-09-27/videos/Basler_acA800-510um__23617456__20221020_151953393_cropped-1DLC_dlcrnetms5_2022-06-10-laboSep27shuffle11_243000.h5\n"
          ]
        },
        {
          "output_type": "stream",
          "name": "stderr",
          "text": [
            "100%|██████████| 1500/1500 [00:02<00:00, 504.41it/s]\n",
            "1500it [00:01, 917.14it/s]\n"
          ]
        },
        {
          "output_type": "stream",
          "name": "stdout",
          "text": [
            "Processing...  /content/drive/My Drive/2022-06-10-labo-cg-2022-09-27/videos/Basler_acA800-510um__23617456__20221020_153247995_cropped-2.mp4\n",
            "Analyzing /content/drive/My Drive/2022-06-10-labo-cg-2022-09-27/videos/Basler_acA800-510um__23617456__20221020_153247995_cropped-2DLC_dlcrnetms5_2022-06-10-laboSep27shuffle11_243000.h5\n"
          ]
        },
        {
          "output_type": "stream",
          "name": "stderr",
          "text": [
            "100%|██████████| 1500/1500 [00:03<00:00, 471.28it/s]\n",
            "1500it [00:01, 875.47it/s]\n"
          ]
        },
        {
          "output_type": "stream",
          "name": "stdout",
          "text": [
            "Processing...  /content/drive/My Drive/2022-06-10-labo-cg-2022-09-27/videos/Basler_acA800-510um__23617456__20221020_152108990_cropped-1.mp4\n",
            "Analyzing /content/drive/My Drive/2022-06-10-labo-cg-2022-09-27/videos/Basler_acA800-510um__23617456__20221020_152108990_cropped-1DLC_dlcrnetms5_2022-06-10-laboSep27shuffle11_243000.h5\n"
          ]
        },
        {
          "output_type": "stream",
          "name": "stderr",
          "text": [
            "100%|██████████| 4376/4376 [00:09<00:00, 483.24it/s]\n",
            "4376it [00:04, 876.52it/s]\n"
          ]
        },
        {
          "output_type": "stream",
          "name": "stdout",
          "text": [
            "Processing...  /content/drive/My Drive/2022-06-10-labo-cg-2022-09-27/videos/Basler_acA800-510um__23617456__20221020_150809448_cropped-2.mp4\n",
            "Analyzing /content/drive/My Drive/2022-06-10-labo-cg-2022-09-27/videos/Basler_acA800-510um__23617456__20221020_150809448_cropped-2DLC_dlcrnetms5_2022-06-10-laboSep27shuffle11_243000.h5\n"
          ]
        },
        {
          "output_type": "stream",
          "name": "stderr",
          "text": [
            "100%|██████████| 4376/4376 [00:09<00:00, 479.46it/s]\n",
            "4376it [00:05, 843.18it/s]\n"
          ]
        },
        {
          "output_type": "stream",
          "name": "stdout",
          "text": [
            "Processing...  /content/drive/My Drive/2022-06-10-labo-cg-2022-09-27/videos/Basler_acA800-510um__23617456__20221020_151227047_cropped-1.mp4\n",
            "Analyzing /content/drive/My Drive/2022-06-10-labo-cg-2022-09-27/videos/Basler_acA800-510um__23617456__20221020_151227047_cropped-1DLC_dlcrnetms5_2022-06-10-laboSep27shuffle11_243000.h5\n"
          ]
        },
        {
          "output_type": "stream",
          "name": "stderr",
          "text": [
            "100%|██████████| 4376/4376 [00:08<00:00, 493.29it/s]\n",
            "4376it [00:04, 898.66it/s]\n"
          ]
        },
        {
          "output_type": "stream",
          "name": "stdout",
          "text": [
            "Processing...  /content/drive/My Drive/2022-06-10-labo-cg-2022-09-27/videos/Basler_acA800-510um__23617456__20221020_152831538_cropped-1.mp4\n",
            "Analyzing /content/drive/My Drive/2022-06-10-labo-cg-2022-09-27/videos/Basler_acA800-510um__23617456__20221020_152831538_cropped-1DLC_dlcrnetms5_2022-06-10-laboSep27shuffle11_243000.h5\n"
          ]
        },
        {
          "output_type": "stream",
          "name": "stderr",
          "text": [
            "100%|██████████| 1501/1501 [00:02<00:00, 565.97it/s]\n",
            "1501it [00:01, 952.04it/s]\n"
          ]
        },
        {
          "output_type": "stream",
          "name": "stdout",
          "text": [
            "Processing...  /content/drive/My Drive/2022-06-10-labo-cg-2022-09-27/videos/Basler_acA800-510um__23617456__20221020_151118043_cropped-2.mp4\n",
            "Analyzing /content/drive/My Drive/2022-06-10-labo-cg-2022-09-27/videos/Basler_acA800-510um__23617456__20221020_151118043_cropped-2DLC_dlcrnetms5_2022-06-10-laboSep27shuffle11_243000.h5\n"
          ]
        },
        {
          "output_type": "stream",
          "name": "stderr",
          "text": [
            "100%|██████████| 1500/1500 [00:03<00:00, 477.28it/s]\n",
            "1500it [00:01, 921.03it/s]\n"
          ]
        },
        {
          "output_type": "stream",
          "name": "stdout",
          "text": [
            "Processing...  /content/drive/My Drive/2022-06-10-labo-cg-2022-09-27/videos/Basler_acA800-510um__23617456__20221020_151953393_cropped-2.mp4\n",
            "Analyzing /content/drive/My Drive/2022-06-10-labo-cg-2022-09-27/videos/Basler_acA800-510um__23617456__20221020_151953393_cropped-2DLC_dlcrnetms5_2022-06-10-laboSep27shuffle11_243000.h5\n"
          ]
        },
        {
          "output_type": "stream",
          "name": "stderr",
          "text": [
            "100%|██████████| 1500/1500 [00:03<00:00, 465.41it/s]\n",
            "1500it [00:01, 890.52it/s]\n"
          ]
        },
        {
          "output_type": "stream",
          "name": "stdout",
          "text": [
            "Processing...  /content/drive/My Drive/2022-06-10-labo-cg-2022-09-27/videos/Basler_acA800-510um__23617456__20221020_153353997_cropped-1.mp4\n",
            "Analyzing /content/drive/My Drive/2022-06-10-labo-cg-2022-09-27/videos/Basler_acA800-510um__23617456__20221020_153353997_cropped-1DLC_dlcrnetms5_2022-06-10-laboSep27shuffle11_243000.h5\n"
          ]
        },
        {
          "output_type": "stream",
          "name": "stderr",
          "text": [
            "100%|██████████| 4376/4376 [00:08<00:00, 497.85it/s]\n",
            "4376it [00:05, 870.90it/s]\n"
          ]
        },
        {
          "output_type": "stream",
          "name": "stdout",
          "text": [
            "Processing...  /content/drive/My Drive/2022-06-10-labo-cg-2022-09-27/videos/Basler_acA800-510um__23617456__20221020_141718783_cropped-2.mp4\n",
            "Analyzing /content/drive/My Drive/2022-06-10-labo-cg-2022-09-27/videos/Basler_acA800-510um__23617456__20221020_141718783_cropped-2DLC_dlcrnetms5_2022-06-10-laboSep27shuffle11_243000.h5\n"
          ]
        },
        {
          "output_type": "stream",
          "name": "stderr",
          "text": [
            "100%|██████████| 4376/4376 [00:08<00:00, 491.12it/s]\n",
            "4376it [00:04, 875.36it/s]\n"
          ]
        },
        {
          "output_type": "stream",
          "name": "stdout",
          "text": [
            "Processing...  /content/drive/My Drive/2022-06-10-labo-cg-2022-09-27/videos/Basler_acA800-510um__23617456__20221020_151646323_cropped-1.mp4\n",
            "Analyzing /content/drive/My Drive/2022-06-10-labo-cg-2022-09-27/videos/Basler_acA800-510um__23617456__20221020_151646323_cropped-1DLC_dlcrnetms5_2022-06-10-laboSep27shuffle11_243000.h5\n"
          ]
        },
        {
          "output_type": "stream",
          "name": "stderr",
          "text": [
            "100%|██████████| 4376/4376 [00:08<00:00, 544.01it/s]\n",
            "4376it [00:04, 920.67it/s]\n"
          ]
        },
        {
          "output_type": "stream",
          "name": "stdout",
          "text": [
            "Processing...  /content/drive/My Drive/2022-06-10-labo-cg-2022-09-27/videos/Basler_acA800-510um__23617456__20221020_152940991_cropped-2.mp4\n",
            "Analyzing /content/drive/My Drive/2022-06-10-labo-cg-2022-09-27/videos/Basler_acA800-510um__23617456__20221020_152940991_cropped-2DLC_dlcrnetms5_2022-06-10-laboSep27shuffle11_243000.h5\n"
          ]
        },
        {
          "output_type": "stream",
          "name": "stderr",
          "text": [
            "100%|██████████| 4376/4376 [00:08<00:00, 492.40it/s]\n",
            "4376it [00:05, 854.63it/s]\n"
          ]
        },
        {
          "output_type": "stream",
          "name": "stdout",
          "text": [
            "Processing...  /content/drive/My Drive/2022-06-10-labo-cg-2022-09-27/videos/Basler_acA800-510um__23617456__20221020_151535145_cropped-2.mp4\n",
            "Analyzing /content/drive/My Drive/2022-06-10-labo-cg-2022-09-27/videos/Basler_acA800-510um__23617456__20221020_151535145_cropped-2DLC_dlcrnetms5_2022-06-10-laboSep27shuffle11_243000.h5\n"
          ]
        },
        {
          "output_type": "stream",
          "name": "stderr",
          "text": [
            "100%|██████████| 1501/1501 [00:02<00:00, 506.80it/s]\n",
            "1501it [00:01, 880.82it/s]\n"
          ]
        },
        {
          "output_type": "stream",
          "name": "stdout",
          "text": [
            "The tracklets were created (i.e., under the hood deeplabcut.convert_detections2tracklets was run). Now you can 'refine_tracklets' in the GUI, or run 'deeplabcut.stitch_tracklets'.\n",
            "Analyzing all the videos in the directory...\n",
            "Processing...  /content/drive/My Drive/2022-06-10-labo-cg-2022-09-27/videos/Basler_acA800-510um__23617456__20221020_153353997_cropped-2.mp4\n"
          ]
        },
        {
          "output_type": "stream",
          "name": "stderr",
          "text": [
            "100%|██████████| 3/3 [00:00<00:00, 24013.19it/s]\n"
          ]
        },
        {
          "output_type": "stream",
          "name": "stdout",
          "text": [
            "Processing...  /content/drive/My Drive/2022-06-10-labo-cg-2022-09-27/videos/Basler_acA800-510um__23617456__20221020_152523138_cropped-1.mp4\n"
          ]
        },
        {
          "output_type": "stream",
          "name": "stderr",
          "text": [
            "100%|██████████| 3/3 [00:00<00:00, 21546.08it/s]\n"
          ]
        },
        {
          "output_type": "stream",
          "name": "stdout",
          "text": [
            "Processing...  /content/drive/My Drive/2022-06-10-labo-cg-2022-09-27/videos/Basler_acA800-510um__23617456__20221020_152940991_cropped-1.mp4\n"
          ]
        },
        {
          "output_type": "stream",
          "name": "stderr",
          "text": [
            "100%|██████████| 26/26 [00:00<00:00, 1664.28it/s]\n"
          ]
        },
        {
          "output_type": "stream",
          "name": "stdout",
          "text": [
            "Processing...  /content/drive/My Drive/2022-06-10-labo-cg-2022-09-27/videos/Basler_acA800-510um__23617456__20221020_151953393_cropped-1.mp4\n"
          ]
        },
        {
          "output_type": "stream",
          "name": "stderr",
          "text": [
            "100%|██████████| 72/72 [00:00<00:00, 3187.46it/s]\n"
          ]
        },
        {
          "output_type": "stream",
          "name": "stdout",
          "text": [
            "Processing...  /content/drive/My Drive/2022-06-10-labo-cg-2022-09-27/videos/Basler_acA800-510um__23617456__20221020_151646323_cropped-1.mp4\n"
          ]
        },
        {
          "output_type": "stream",
          "name": "stderr",
          "text": [
            "100%|██████████| 42/42 [00:00<00:00, 2128.73it/s]\n"
          ]
        },
        {
          "output_type": "stream",
          "name": "stdout",
          "text": [
            "Processing...  /content/drive/My Drive/2022-06-10-labo-cg-2022-09-27/videos/Basler_acA800-510um__23617456__20221020_152940991_cropped-2.mp4\n"
          ]
        },
        {
          "output_type": "stream",
          "name": "stderr",
          "text": [
            "100%|██████████| 117/117 [00:00<00:00, 4108.69it/s]\n"
          ]
        },
        {
          "output_type": "stream",
          "name": "stdout",
          "text": [
            "Processing...  /content/drive/My Drive/2022-06-10-labo-cg-2022-09-27/videos/Basler_acA800-510um__23617456__20221020_152414985_cropped-2.mp4\n"
          ]
        },
        {
          "output_type": "stream",
          "name": "stderr",
          "text": [
            "100%|██████████| 3/3 [00:00<00:00, 20560.31it/s]\n"
          ]
        },
        {
          "output_type": "stream",
          "name": "stdout",
          "text": [
            "Processing...  /content/drive/My Drive/2022-06-10-labo-cg-2022-09-27/videos/Basler_acA800-510um__23617456__20221020_152108990_cropped-1.mp4\n"
          ]
        },
        {
          "output_type": "stream",
          "name": "stderr",
          "text": [
            "100%|██████████| 55/55 [00:00<00:00, 2604.13it/s]\n"
          ]
        },
        {
          "output_type": "stream",
          "name": "stdout",
          "text": [
            "Processing...  /content/drive/My Drive/2022-06-10-labo-cg-2022-09-27/videos/Basler_acA800-510um__23617456__20221020_151227047_cropped-1.mp4\n"
          ]
        },
        {
          "output_type": "stream",
          "name": "stderr",
          "text": [
            "100%|██████████| 109/109 [00:00<00:00, 3242.68it/s]\n"
          ]
        },
        {
          "output_type": "stream",
          "name": "stdout",
          "text": [
            "Processing...  /content/drive/My Drive/2022-06-10-labo-cg-2022-09-27/videos/Basler_acA800-510um__23617456__20221020_141718783_cropped-2.mp4\n"
          ]
        },
        {
          "output_type": "stream",
          "name": "stderr",
          "text": [
            "100%|██████████| 99/99 [00:00<00:00, 2944.71it/s]\n"
          ]
        },
        {
          "output_type": "stream",
          "name": "stdout",
          "text": [
            "Processing...  /content/drive/My Drive/2022-06-10-labo-cg-2022-09-27/videos/Basler_acA800-510um__23617456__20221020_152831538_cropped-1.mp4\n"
          ]
        },
        {
          "output_type": "stream",
          "name": "stderr",
          "text": [
            "100%|██████████| 56/56 [00:00<00:00, 2830.54it/s]\n"
          ]
        },
        {
          "output_type": "stream",
          "name": "stdout",
          "text": [
            "Processing...  /content/drive/My Drive/2022-06-10-labo-cg-2022-09-27/videos/Basler_acA800-510um__23617456__20221020_153247995_cropped-1.mp4\n"
          ]
        },
        {
          "output_type": "stream",
          "name": "stderr",
          "text": [
            "100%|██████████| 3/3 [00:00<00:00, 22795.13it/s]\n"
          ]
        },
        {
          "output_type": "stream",
          "name": "stdout",
          "text": [
            "Processing...  /content/drive/My Drive/2022-06-10-labo-cg-2022-09-27/videos/Basler_acA800-510um__23617456__20221020_151118043_cropped-1.mp4\n"
          ]
        },
        {
          "output_type": "stream",
          "name": "stderr",
          "text": [
            "100%|██████████| 77/77 [00:00<00:00, 4170.63it/s]\n"
          ]
        },
        {
          "output_type": "stream",
          "name": "stdout",
          "text": [
            "Processing...  /content/drive/My Drive/2022-06-10-labo-cg-2022-09-27/videos/Basler_acA800-510um__23617456__20221020_152523138_cropped-2.mp4\n"
          ]
        },
        {
          "output_type": "stream",
          "name": "stderr",
          "text": [
            "100%|██████████| 3/3 [00:00<00:00, 24480.37it/s]\n"
          ]
        },
        {
          "output_type": "stream",
          "name": "stdout",
          "text": [
            "Processing...  /content/drive/My Drive/2022-06-10-labo-cg-2022-09-27/videos/Basler_acA800-510um__23617456__20221020_141718783_cropped-1.mp4\n"
          ]
        },
        {
          "output_type": "stream",
          "name": "stderr",
          "text": [
            "100%|██████████| 92/92 [00:00<00:00, 2593.74it/s]\n"
          ]
        },
        {
          "output_type": "stream",
          "name": "stdout",
          "text": [
            "Processing...  /content/drive/My Drive/2022-06-10-labo-cg-2022-09-27/videos/Basler_acA800-510um__23617456__20221020_151535145_cropped-1.mp4\n"
          ]
        },
        {
          "output_type": "stream",
          "name": "stderr",
          "text": [
            "100%|██████████| 17/17 [00:00<00:00, 2472.46it/s]\n"
          ]
        },
        {
          "output_type": "stream",
          "name": "stdout",
          "text": [
            "Processing...  /content/drive/My Drive/2022-06-10-labo-cg-2022-09-27/videos/Basler_acA800-510um__23617456__20221020_151953393_cropped-2.mp4\n"
          ]
        },
        {
          "output_type": "stream",
          "name": "stderr",
          "text": [
            "100%|██████████| 44/44 [00:00<00:00, 3181.56it/s]\n"
          ]
        },
        {
          "output_type": "stream",
          "name": "stdout",
          "text": [
            "Processing...  /content/drive/My Drive/2022-06-10-labo-cg-2022-09-27/videos/Basler_acA800-510um__23617456__20221020_152831538_cropped-2.mp4\n"
          ]
        },
        {
          "output_type": "stream",
          "name": "stderr",
          "text": [
            "100%|██████████| 77/77 [00:00<00:00, 2987.53it/s]\n"
          ]
        },
        {
          "output_type": "stream",
          "name": "stdout",
          "text": [
            "Processing...  /content/drive/My Drive/2022-06-10-labo-cg-2022-09-27/videos/Basler_acA800-510um__23617456__20221020_152414985_cropped-1.mp4\n"
          ]
        },
        {
          "output_type": "stream",
          "name": "stderr",
          "text": [
            "100%|██████████| 11/11 [00:00<00:00, 1757.35it/s]\n"
          ]
        },
        {
          "output_type": "stream",
          "name": "stdout",
          "text": [
            "Processing...  /content/drive/My Drive/2022-06-10-labo-cg-2022-09-27/videos/Basler_acA800-510um__23617456__20221020_151646323_cropped-2.mp4\n"
          ]
        },
        {
          "output_type": "stream",
          "name": "stderr",
          "text": [
            "100%|██████████| 9/9 [00:00<00:00, 1058.66it/s]\n"
          ]
        },
        {
          "output_type": "stream",
          "name": "stdout",
          "text": [
            "Processing...  /content/drive/My Drive/2022-06-10-labo-cg-2022-09-27/videos/Basler_acA800-510um__23617456__20221020_150809448_cropped-2.mp4\n"
          ]
        },
        {
          "output_type": "stream",
          "name": "stderr",
          "text": [
            "100%|██████████| 3/3 [00:00<00:00, 24432.84it/s]\n"
          ]
        },
        {
          "output_type": "stream",
          "name": "stdout",
          "text": [
            "Processing...  /content/drive/My Drive/2022-06-10-labo-cg-2022-09-27/videos/Basler_acA800-510um__23617456__20221020_150809448_cropped-1.mp4\n"
          ]
        },
        {
          "output_type": "stream",
          "name": "stderr",
          "text": [
            "100%|██████████| 58/58 [00:00<00:00, 2478.85it/s]\n"
          ]
        },
        {
          "output_type": "stream",
          "name": "stdout",
          "text": [
            "Processing...  /content/drive/My Drive/2022-06-10-labo-cg-2022-09-27/videos/Basler_acA800-510um__23617456__20221020_151227047_cropped-2.mp4\n"
          ]
        },
        {
          "output_type": "stream",
          "name": "stderr",
          "text": [
            "100%|██████████| 198/198 [00:00<00:00, 1617.08it/s]\n"
          ]
        },
        {
          "output_type": "stream",
          "name": "stdout",
          "text": [
            "Processing...  /content/drive/My Drive/2022-06-10-labo-cg-2022-09-27/videos/Basler_acA800-510um__23617456__20221020_151535145_cropped-2.mp4\n"
          ]
        },
        {
          "output_type": "stream",
          "name": "stderr",
          "text": [
            "100%|██████████| 13/13 [00:00<00:00, 1710.51it/s]\n"
          ]
        },
        {
          "output_type": "stream",
          "name": "stdout",
          "text": [
            "Processing...  /content/drive/My Drive/2022-06-10-labo-cg-2022-09-27/videos/Basler_acA800-510um__23617456__20221020_151118043_cropped-2.mp4\n"
          ]
        },
        {
          "output_type": "stream",
          "name": "stderr",
          "text": [
            "100%|██████████| 82/82 [00:00<00:00, 2067.80it/s]\n"
          ]
        },
        {
          "output_type": "stream",
          "name": "stdout",
          "text": [
            "Processing...  /content/drive/My Drive/2022-06-10-labo-cg-2022-09-27/videos/Basler_acA800-510um__23617456__20221020_153353997_cropped-1.mp4\n"
          ]
        },
        {
          "output_type": "stream",
          "name": "stderr",
          "text": [
            "100%|██████████| 3/3 [00:00<00:00, 23301.69it/s]\n"
          ]
        },
        {
          "output_type": "stream",
          "name": "stdout",
          "text": [
            "Processing...  /content/drive/My Drive/2022-06-10-labo-cg-2022-09-27/videos/Basler_acA800-510um__23617456__20221020_153247995_cropped-2.mp4\n"
          ]
        },
        {
          "output_type": "stream",
          "name": "stderr",
          "text": [
            "100%|██████████| 13/13 [00:00<00:00, 1613.00it/s]\n"
          ]
        },
        {
          "output_type": "stream",
          "name": "stdout",
          "text": [
            "Processing...  /content/drive/My Drive/2022-06-10-labo-cg-2022-09-27/videos/Basler_acA800-510um__23617456__20221020_152108990_cropped-2.mp4\n"
          ]
        },
        {
          "output_type": "stream",
          "name": "stderr",
          "text": [
            "100%|██████████| 3/3 [00:00<00:00, 19878.22it/s]\n"
          ]
        }
      ],
      "source": [
        "#Check and edit:\n",
        "numAnimals = 3 #how many animals do you expect to find?\n",
        "tracktype= 'ellipse' #box, skeleton, ellipse:\n",
        "#-- ellipse is recommended, unless you have a single-point ma project, then use BOX!\n",
        "\n",
        "#Optional: \n",
        "#imagine you tracked a point that is not useful for assembly, \n",
        "#like a tail tip that is far from the body, consider dropping it for this step (it's still used later)!\n",
        "#To drop it, uncomment the next line TWO lines and add your parts(s):\n",
        "\n",
        "bodypart= 'T4'\n",
        "deeplabcut.convert_detections2tracklets(path_config_file, videofile_path, videotype=VideoType, shuffle=shuffle, overwrite=True, ignore_bodyparts=[bodypart])\n",
        "\n",
        "#OR don't drop, just click RUN:\n",
        "#deeplabcut.convert_detections2tracklets(path_config_file, videofile_path, videotype=VideoType, \n",
        "                                        #shuffle=shuffle, overwrite=True)\n",
        "\n",
        "deeplabcut.stitch_tracklets(path_config_file, videofile_path, shuffle=shuffle, track_method=tracktype, n_tracks=numAnimals)"
      ]
    },
    {
      "cell_type": "markdown",
      "metadata": {
        "id": "TqbAnyfL0Q7h"
      },
      "source": [
        "Now let's filter the data to remove any small jitter:"
      ]
    },
    {
      "cell_type": "code",
      "execution_count": null,
      "metadata": {
        "id": "a6izVWX8sdzL",
        "colab": {
          "base_uri": "https://localhost:8080/"
        },
        "outputId": "3a6a3c10-7547-4f2a-8166-afe465c7042d"
      },
      "outputs": [
        {
          "output_type": "stream",
          "name": "stdout",
          "text": [
            "Analyzing all the videos in the directory...\n",
            "Filtering with median model /content/drive/My Drive/2022-06-10-labo-cg-2022-09-27/videos/Basler_acA800-510um__23617456__20221020_150809448_cropped-1.mp4\n",
            "Saving filtered csv poses!\n",
            "Filtering with median model /content/drive/My Drive/2022-06-10-labo-cg-2022-09-27/videos/Basler_acA800-510um__23617456__20221020_153247995_cropped-2.mp4\n",
            "Saving filtered csv poses!\n",
            "Filtering with median model /content/drive/My Drive/2022-06-10-labo-cg-2022-09-27/videos/Basler_acA800-510um__23617456__20221020_151646323_cropped-1.mp4\n",
            "Saving filtered csv poses!\n",
            "Filtering with median model /content/drive/My Drive/2022-06-10-labo-cg-2022-09-27/videos/Basler_acA800-510um__23617456__20221020_152523138_cropped-1.mp4\n",
            "Saving filtered csv poses!\n",
            "Filtering with median model /content/drive/My Drive/2022-06-10-labo-cg-2022-09-27/videos/Basler_acA800-510um__23617456__20221020_151118043_cropped-1.mp4\n",
            "Saving filtered csv poses!\n",
            "Filtering with median model /content/drive/My Drive/2022-06-10-labo-cg-2022-09-27/videos/Basler_acA800-510um__23617456__20221020_151953393_cropped-2.mp4\n",
            "Saving filtered csv poses!\n",
            "Filtering with median model /content/drive/My Drive/2022-06-10-labo-cg-2022-09-27/videos/Basler_acA800-510um__23617456__20221020_151535145_cropped-1.mp4\n",
            "Saving filtered csv poses!\n",
            "Filtering with median model /content/drive/My Drive/2022-06-10-labo-cg-2022-09-27/videos/Basler_acA800-510um__23617456__20221020_141718783_cropped-1.mp4\n",
            "Saving filtered csv poses!\n",
            "Filtering with median model /content/drive/My Drive/2022-06-10-labo-cg-2022-09-27/videos/Basler_acA800-510um__23617456__20221020_151646323_cropped-2.mp4\n",
            "Saving filtered csv poses!\n",
            "Filtering with median model /content/drive/My Drive/2022-06-10-labo-cg-2022-09-27/videos/Basler_acA800-510um__23617456__20221020_152831538_cropped-1.mp4\n",
            "Saving filtered csv poses!\n",
            "Filtering with median model /content/drive/My Drive/2022-06-10-labo-cg-2022-09-27/videos/Basler_acA800-510um__23617456__20221020_151535145_cropped-2.mp4\n",
            "Saving filtered csv poses!\n",
            "Filtering with median model /content/drive/My Drive/2022-06-10-labo-cg-2022-09-27/videos/Basler_acA800-510um__23617456__20221020_152940991_cropped-2.mp4\n",
            "Saving filtered csv poses!\n",
            "Filtering with median model /content/drive/My Drive/2022-06-10-labo-cg-2022-09-27/videos/Basler_acA800-510um__23617456__20221020_151227047_cropped-2.mp4\n",
            "Saving filtered csv poses!\n",
            "Filtering with median model /content/drive/My Drive/2022-06-10-labo-cg-2022-09-27/videos/Basler_acA800-510um__23617456__20221020_152940991_cropped-1.mp4\n",
            "Saving filtered csv poses!\n",
            "Filtering with median model /content/drive/My Drive/2022-06-10-labo-cg-2022-09-27/videos/Basler_acA800-510um__23617456__20221020_152108990_cropped-2.mp4\n",
            "Saving filtered csv poses!\n",
            "Filtering with median model /content/drive/My Drive/2022-06-10-labo-cg-2022-09-27/videos/Basler_acA800-510um__23617456__20221020_151227047_cropped-1.mp4\n",
            "Saving filtered csv poses!\n",
            "Filtering with median model /content/drive/My Drive/2022-06-10-labo-cg-2022-09-27/videos/Basler_acA800-510um__23617456__20221020_151118043_cropped-2.mp4\n",
            "Saving filtered csv poses!\n",
            "Filtering with median model /content/drive/My Drive/2022-06-10-labo-cg-2022-09-27/videos/Basler_acA800-510um__23617456__20221020_153353997_cropped-1.mp4\n",
            "Saving filtered csv poses!\n",
            "Filtering with median model /content/drive/My Drive/2022-06-10-labo-cg-2022-09-27/videos/Basler_acA800-510um__23617456__20221020_152414985_cropped-1.mp4\n",
            "Saving filtered csv poses!\n",
            "Filtering with median model /content/drive/My Drive/2022-06-10-labo-cg-2022-09-27/videos/Basler_acA800-510um__23617456__20221020_152414985_cropped-2.mp4\n",
            "Saving filtered csv poses!\n",
            "Filtering with median model /content/drive/My Drive/2022-06-10-labo-cg-2022-09-27/videos/Basler_acA800-510um__23617456__20221020_153247995_cropped-1.mp4\n",
            "Saving filtered csv poses!\n",
            "Filtering with median model /content/drive/My Drive/2022-06-10-labo-cg-2022-09-27/videos/Basler_acA800-510um__23617456__20221020_141718783_cropped-2.mp4\n",
            "Saving filtered csv poses!\n",
            "Filtering with median model /content/drive/My Drive/2022-06-10-labo-cg-2022-09-27/videos/Basler_acA800-510um__23617456__20221020_150809448_cropped-2.mp4\n",
            "Saving filtered csv poses!\n",
            "Filtering with median model /content/drive/My Drive/2022-06-10-labo-cg-2022-09-27/videos/Basler_acA800-510um__23617456__20221020_152831538_cropped-2.mp4\n",
            "Saving filtered csv poses!\n",
            "Filtering with median model /content/drive/My Drive/2022-06-10-labo-cg-2022-09-27/videos/Basler_acA800-510um__23617456__20221020_153353997_cropped-2.mp4\n",
            "Saving filtered csv poses!\n",
            "Filtering with median model /content/drive/My Drive/2022-06-10-labo-cg-2022-09-27/videos/Basler_acA800-510um__23617456__20221020_152108990_cropped-1.mp4\n",
            "Saving filtered csv poses!\n",
            "Filtering with median model /content/drive/My Drive/2022-06-10-labo-cg-2022-09-27/videos/Basler_acA800-510um__23617456__20221020_151953393_cropped-1.mp4\n",
            "Saving filtered csv poses!\n",
            "Filtering with median model /content/drive/My Drive/2022-06-10-labo-cg-2022-09-27/videos/Basler_acA800-510um__23617456__20221020_152523138_cropped-2.mp4\n",
            "Saving filtered csv poses!\n"
          ]
        }
      ],
      "source": [
        "deeplabcut.filterpredictions(path_config_file, \n",
        "                                 videofile_path, \n",
        "                                 shuffle=shuffle,\n",
        "                                 videotype=VideoType, \n",
        "                                 track_method = tracktype)"
      ]
    },
    {
      "cell_type": "markdown",
      "metadata": {
        "id": "Zk4xGb8Ftf3B"
      },
      "source": [
        "## Create plots of your trajectories:"
      ]
    },
    {
      "cell_type": "code",
      "execution_count": null,
      "metadata": {
        "id": "gX21zZbXoEKJ",
        "colab": {
          "base_uri": "https://localhost:8080/"
        },
        "outputId": "0c4d9198-6ece-4c02-c300-113df3f2235c"
      },
      "outputs": [
        {
          "output_type": "stream",
          "name": "stdout",
          "text": [
            "Analyzing all the videos in the directory...\n",
            "Loading  /content/drive/My Drive/2022-06-10-labo-cg-2022-09-27/videos/Basler_acA800-510um__23617456__20221020_151535145_cropped-2.mp4 and data.\n",
            "Loading  /content/drive/My Drive/2022-06-10-labo-cg-2022-09-27/videos/Basler_acA800-510um__23617456__20221020_151646323_cropped-1.mp4 and data.\n",
            "Loading  /content/drive/My Drive/2022-06-10-labo-cg-2022-09-27/videos/Basler_acA800-510um__23617456__20221020_141718783_cropped-2.mp4 and data.\n",
            "Loading  /content/drive/My Drive/2022-06-10-labo-cg-2022-09-27/videos/Basler_acA800-510um__23617456__20221020_152108990_cropped-1.mp4 and data.\n",
            "Loading  /content/drive/My Drive/2022-06-10-labo-cg-2022-09-27/videos/Basler_acA800-510um__23617456__20221020_152523138_cropped-2.mp4 and data.\n",
            "Loading  /content/drive/My Drive/2022-06-10-labo-cg-2022-09-27/videos/Basler_acA800-510um__23617456__20221020_151953393_cropped-2.mp4 and data.\n",
            "Loading  /content/drive/My Drive/2022-06-10-labo-cg-2022-09-27/videos/Basler_acA800-510um__23617456__20221020_153353997_cropped-2.mp4 and data.\n",
            "Loading  /content/drive/My Drive/2022-06-10-labo-cg-2022-09-27/videos/Basler_acA800-510um__23617456__20221020_152523138_cropped-1.mp4 and data.\n",
            "Loading  /content/drive/My Drive/2022-06-10-labo-cg-2022-09-27/videos/Basler_acA800-510um__23617456__20221020_151227047_cropped-2.mp4 and data.\n",
            "Loading  /content/drive/My Drive/2022-06-10-labo-cg-2022-09-27/videos/Basler_acA800-510um__23617456__20221020_150809448_cropped-2.mp4 and data.\n",
            "Loading  /content/drive/My Drive/2022-06-10-labo-cg-2022-09-27/videos/Basler_acA800-510um__23617456__20221020_151118043_cropped-2.mp4 and data.\n",
            "Loading  /content/drive/My Drive/2022-06-10-labo-cg-2022-09-27/videos/Basler_acA800-510um__23617456__20221020_152108990_cropped-2.mp4 and data.\n",
            "Loading  /content/drive/My Drive/2022-06-10-labo-cg-2022-09-27/videos/Basler_acA800-510um__23617456__20221020_152414985_cropped-1.mp4 and data.\n",
            "Loading  /content/drive/My Drive/2022-06-10-labo-cg-2022-09-27/videos/Basler_acA800-510um__23617456__20221020_153247995_cropped-1.mp4 and data.\n",
            "Loading  /content/drive/My Drive/2022-06-10-labo-cg-2022-09-27/videos/Basler_acA800-510um__23617456__20221020_151953393_cropped-1.mp4 and data.\n",
            "Loading  /content/drive/My Drive/2022-06-10-labo-cg-2022-09-27/videos/Basler_acA800-510um__23617456__20221020_152831538_cropped-2.mp4 and data.\n",
            "Loading  /content/drive/My Drive/2022-06-10-labo-cg-2022-09-27/videos/Basler_acA800-510um__23617456__20221020_151118043_cropped-1.mp4 and data.\n",
            "Loading  /content/drive/My Drive/2022-06-10-labo-cg-2022-09-27/videos/Basler_acA800-510um__23617456__20221020_141718783_cropped-1.mp4 and data.\n",
            "Loading  /content/drive/My Drive/2022-06-10-labo-cg-2022-09-27/videos/Basler_acA800-510um__23617456__20221020_152940991_cropped-1.mp4 and data.\n",
            "Loading  /content/drive/My Drive/2022-06-10-labo-cg-2022-09-27/videos/Basler_acA800-510um__23617456__20221020_151227047_cropped-1.mp4 and data.\n",
            "Loading  /content/drive/My Drive/2022-06-10-labo-cg-2022-09-27/videos/Basler_acA800-510um__23617456__20221020_152831538_cropped-1.mp4 and data.\n",
            "Loading  /content/drive/My Drive/2022-06-10-labo-cg-2022-09-27/videos/Basler_acA800-510um__23617456__20221020_151535145_cropped-1.mp4 and data.\n",
            "Loading  /content/drive/My Drive/2022-06-10-labo-cg-2022-09-27/videos/Basler_acA800-510um__23617456__20221020_153247995_cropped-2.mp4 and data.\n",
            "Loading  /content/drive/My Drive/2022-06-10-labo-cg-2022-09-27/videos/Basler_acA800-510um__23617456__20221020_150809448_cropped-1.mp4 and data.\n",
            "Loading  /content/drive/My Drive/2022-06-10-labo-cg-2022-09-27/videos/Basler_acA800-510um__23617456__20221020_152414985_cropped-2.mp4 and data.\n",
            "Loading  /content/drive/My Drive/2022-06-10-labo-cg-2022-09-27/videos/Basler_acA800-510um__23617456__20221020_151646323_cropped-2.mp4 and data.\n",
            "Loading  /content/drive/My Drive/2022-06-10-labo-cg-2022-09-27/videos/Basler_acA800-510um__23617456__20221020_152940991_cropped-2.mp4 and data.\n",
            "Loading  /content/drive/My Drive/2022-06-10-labo-cg-2022-09-27/videos/Basler_acA800-510um__23617456__20221020_153353997_cropped-1.mp4 and data.\n",
            "Plots created! Please check the directory \"plot-poses\" within the video directory\n"
          ]
        }
      ],
      "source": [
        "deeplabcut.plot_trajectories(path_config_file, videofile_path, videotype=VideoType, shuffle=shuffle, displayedbodyparts=\"T4\", track_method=tracktype)"
      ]
    },
    {
      "cell_type": "markdown",
      "metadata": {
        "id": "pqaCw15v8EmB"
      },
      "source": [
        "Now you can look at the plot-poses file and check the \"plot-likelihood.png\" might want to change the \"p-cutoff\" in the config.yaml file so that you have only high confidnece points plotted in the video. i.e. ~0.8 or 0.9. The current default is 0.4. "
      ]
    },
    {
      "cell_type": "markdown",
      "metadata": {
        "id": "pCrUvQIvoEKD"
      },
      "source": [
        "## Create labeled video:\n",
        "This function is for visualiztion purpose and can be used to create a video in .mp4 format with labels predicted by the network. This video is saved in the same directory where the original video resides. "
      ]
    },
    {
      "cell_type": "code",
      "execution_count": null,
      "metadata": {
        "id": "6aDF7Q7KoEKE",
        "colab": {
          "base_uri": "https://localhost:8080/",
          "height": 606
        },
        "outputId": "17c35024-835e-43cb-b501-451d25c44288"
      },
      "outputs": [
        {
          "output_type": "stream",
          "name": "stdout",
          "text": [
            "Analyzing all the videos in the directory...\n",
            "Starting to process video: /content/drive/My Drive/2022-06-10-labo-cg-2022-09-27/videos/Basler_acA800-510um__23617456__20221020_153247995_cropped-1.mp4Starting to process video: /content/drive/My Drive/2022-06-10-labo-cg-2022-09-27/videos/Basler_acA800-510um__23617456__20221020_153353997_cropped-1.mp4\n",
            "\n",
            "Loading /content/drive/My Drive/2022-06-10-labo-cg-2022-09-27/videos/Basler_acA800-510um__23617456__20221020_153353997_cropped-1.mp4 and data.\n",
            "Loading /content/drive/My Drive/2022-06-10-labo-cg-2022-09-27/videos/Basler_acA800-510um__23617456__20221020_153247995_cropped-1.mp4 and data.\n",
            "Duration of video [s]: 60.0, recorded with 25.0 fps!\n",
            "Overall # of frames: 1500 with cropped frame dimensions: 328 348\n",
            "Generating frames and creating video.\n",
            "Duration of video [s]: 175.04, recorded with 25.0 fps!\n",
            "Overall # of frames: 4376 with cropped frame dimensions: 336 340\n",
            "Generating frames and creating video.\n"
          ]
        },
        {
          "output_type": "stream",
          "name": "stderr",
          "text": [
            "  8%|▊         | 127/1500 [00:59<10:38,  2.15it/s]\n",
            "  3%|▎         | 133/4376 [00:59<31:24,  2.25it/s]\n"
          ]
        },
        {
          "output_type": "error",
          "ename": "KeyboardInterrupt",
          "evalue": "ignored",
          "traceback": [
            "\u001b[0;31m---------------------------------------------------------------------------\u001b[0m",
            "\u001b[0;31mKeyboardInterrupt\u001b[0m                         Traceback (most recent call last)",
            "\u001b[0;32m<ipython-input-25-757e2ee430b4>\u001b[0m in \u001b[0;36m<module>\u001b[0;34m\u001b[0m\n\u001b[1;32m      5\u001b[0m                                 \u001b[0mvideotype\u001b[0m\u001b[0;34m=\u001b[0m\u001b[0mVideoType\u001b[0m\u001b[0;34m,\u001b[0m\u001b[0;34m\u001b[0m\u001b[0;34m\u001b[0m\u001b[0m\n\u001b[1;32m      6\u001b[0m                                 \u001b[0msave_frames\u001b[0m\u001b[0;34m=\u001b[0m\u001b[0;32mTrue\u001b[0m\u001b[0;34m,\u001b[0m\u001b[0;34m\u001b[0m\u001b[0;34m\u001b[0m\u001b[0m\n\u001b[0;32m----> 7\u001b[0;31m                                 filtered=True)\n\u001b[0m",
            "\u001b[0;32m/usr/local/lib/python3.7/dist-packages/deeplabcut/utils/make_labeled_video.py\u001b[0m in \u001b[0;36mcreate_labeled_video\u001b[0;34m(config, videos, videotype, shuffle, trainingsetindex, filtered, fastmode, save_frames, keypoints_only, Frames2plot, displayedbodyparts, displayedindividuals, codec, outputframerate, destfolder, draw_skeleton, trailpoints, displaycropped, color_by, modelprefix, track_method)\u001b[0m\n\u001b[1;32m    578\u001b[0m \u001b[0;34m\u001b[0m\u001b[0m\n\u001b[1;32m    579\u001b[0m     \u001b[0;32mwith\u001b[0m \u001b[0mPool\u001b[0m\u001b[0;34m(\u001b[0m\u001b[0mmin\u001b[0m\u001b[0;34m(\u001b[0m\u001b[0mos\u001b[0m\u001b[0;34m.\u001b[0m\u001b[0mcpu_count\u001b[0m\u001b[0;34m(\u001b[0m\u001b[0;34m)\u001b[0m\u001b[0;34m,\u001b[0m \u001b[0mlen\u001b[0m\u001b[0;34m(\u001b[0m\u001b[0mVideos\u001b[0m\u001b[0;34m)\u001b[0m\u001b[0;34m)\u001b[0m\u001b[0;34m)\u001b[0m \u001b[0;32mas\u001b[0m \u001b[0mpool\u001b[0m\u001b[0;34m:\u001b[0m\u001b[0;34m\u001b[0m\u001b[0;34m\u001b[0m\u001b[0m\n\u001b[0;32m--> 580\u001b[0;31m         \u001b[0mpool\u001b[0m\u001b[0;34m.\u001b[0m\u001b[0mmap\u001b[0m\u001b[0;34m(\u001b[0m\u001b[0mfunc\u001b[0m\u001b[0;34m,\u001b[0m \u001b[0mVideos\u001b[0m\u001b[0;34m)\u001b[0m\u001b[0;34m\u001b[0m\u001b[0;34m\u001b[0m\u001b[0m\n\u001b[0m\u001b[1;32m    581\u001b[0m \u001b[0;34m\u001b[0m\u001b[0m\n\u001b[1;32m    582\u001b[0m     \u001b[0mos\u001b[0m\u001b[0;34m.\u001b[0m\u001b[0mchdir\u001b[0m\u001b[0;34m(\u001b[0m\u001b[0mstart_path\u001b[0m\u001b[0;34m)\u001b[0m\u001b[0;34m\u001b[0m\u001b[0;34m\u001b[0m\u001b[0m\n",
            "\u001b[0;32m/usr/lib/python3.7/multiprocessing/pool.py\u001b[0m in \u001b[0;36mmap\u001b[0;34m(self, func, iterable, chunksize)\u001b[0m\n\u001b[1;32m    266\u001b[0m         \u001b[0;32min\u001b[0m \u001b[0ma\u001b[0m \u001b[0mlist\u001b[0m \u001b[0mthat\u001b[0m \u001b[0;32mis\u001b[0m \u001b[0mreturned\u001b[0m\u001b[0;34m.\u001b[0m\u001b[0;34m\u001b[0m\u001b[0;34m\u001b[0m\u001b[0m\n\u001b[1;32m    267\u001b[0m         '''\n\u001b[0;32m--> 268\u001b[0;31m         \u001b[0;32mreturn\u001b[0m \u001b[0mself\u001b[0m\u001b[0;34m.\u001b[0m\u001b[0m_map_async\u001b[0m\u001b[0;34m(\u001b[0m\u001b[0mfunc\u001b[0m\u001b[0;34m,\u001b[0m \u001b[0miterable\u001b[0m\u001b[0;34m,\u001b[0m \u001b[0mmapstar\u001b[0m\u001b[0;34m,\u001b[0m \u001b[0mchunksize\u001b[0m\u001b[0;34m)\u001b[0m\u001b[0;34m.\u001b[0m\u001b[0mget\u001b[0m\u001b[0;34m(\u001b[0m\u001b[0;34m)\u001b[0m\u001b[0;34m\u001b[0m\u001b[0;34m\u001b[0m\u001b[0m\n\u001b[0m\u001b[1;32m    269\u001b[0m \u001b[0;34m\u001b[0m\u001b[0m\n\u001b[1;32m    270\u001b[0m     \u001b[0;32mdef\u001b[0m \u001b[0mstarmap\u001b[0m\u001b[0;34m(\u001b[0m\u001b[0mself\u001b[0m\u001b[0;34m,\u001b[0m \u001b[0mfunc\u001b[0m\u001b[0;34m,\u001b[0m \u001b[0miterable\u001b[0m\u001b[0;34m,\u001b[0m \u001b[0mchunksize\u001b[0m\u001b[0;34m=\u001b[0m\u001b[0;32mNone\u001b[0m\u001b[0;34m)\u001b[0m\u001b[0;34m:\u001b[0m\u001b[0;34m\u001b[0m\u001b[0;34m\u001b[0m\u001b[0m\n",
            "\u001b[0;32m/usr/lib/python3.7/multiprocessing/pool.py\u001b[0m in \u001b[0;36mget\u001b[0;34m(self, timeout)\u001b[0m\n\u001b[1;32m    649\u001b[0m \u001b[0;34m\u001b[0m\u001b[0m\n\u001b[1;32m    650\u001b[0m     \u001b[0;32mdef\u001b[0m \u001b[0mget\u001b[0m\u001b[0;34m(\u001b[0m\u001b[0mself\u001b[0m\u001b[0;34m,\u001b[0m \u001b[0mtimeout\u001b[0m\u001b[0;34m=\u001b[0m\u001b[0;32mNone\u001b[0m\u001b[0;34m)\u001b[0m\u001b[0;34m:\u001b[0m\u001b[0;34m\u001b[0m\u001b[0;34m\u001b[0m\u001b[0m\n\u001b[0;32m--> 651\u001b[0;31m         \u001b[0mself\u001b[0m\u001b[0;34m.\u001b[0m\u001b[0mwait\u001b[0m\u001b[0;34m(\u001b[0m\u001b[0mtimeout\u001b[0m\u001b[0;34m)\u001b[0m\u001b[0;34m\u001b[0m\u001b[0;34m\u001b[0m\u001b[0m\n\u001b[0m\u001b[1;32m    652\u001b[0m         \u001b[0;32mif\u001b[0m \u001b[0;32mnot\u001b[0m \u001b[0mself\u001b[0m\u001b[0;34m.\u001b[0m\u001b[0mready\u001b[0m\u001b[0;34m(\u001b[0m\u001b[0;34m)\u001b[0m\u001b[0;34m:\u001b[0m\u001b[0;34m\u001b[0m\u001b[0;34m\u001b[0m\u001b[0m\n\u001b[1;32m    653\u001b[0m             \u001b[0;32mraise\u001b[0m \u001b[0mTimeoutError\u001b[0m\u001b[0;34m\u001b[0m\u001b[0;34m\u001b[0m\u001b[0m\n",
            "\u001b[0;32m/usr/lib/python3.7/multiprocessing/pool.py\u001b[0m in \u001b[0;36mwait\u001b[0;34m(self, timeout)\u001b[0m\n\u001b[1;32m    646\u001b[0m \u001b[0;34m\u001b[0m\u001b[0m\n\u001b[1;32m    647\u001b[0m     \u001b[0;32mdef\u001b[0m \u001b[0mwait\u001b[0m\u001b[0;34m(\u001b[0m\u001b[0mself\u001b[0m\u001b[0;34m,\u001b[0m \u001b[0mtimeout\u001b[0m\u001b[0;34m=\u001b[0m\u001b[0;32mNone\u001b[0m\u001b[0;34m)\u001b[0m\u001b[0;34m:\u001b[0m\u001b[0;34m\u001b[0m\u001b[0;34m\u001b[0m\u001b[0m\n\u001b[0;32m--> 648\u001b[0;31m         \u001b[0mself\u001b[0m\u001b[0;34m.\u001b[0m\u001b[0m_event\u001b[0m\u001b[0;34m.\u001b[0m\u001b[0mwait\u001b[0m\u001b[0;34m(\u001b[0m\u001b[0mtimeout\u001b[0m\u001b[0;34m)\u001b[0m\u001b[0;34m\u001b[0m\u001b[0;34m\u001b[0m\u001b[0m\n\u001b[0m\u001b[1;32m    649\u001b[0m \u001b[0;34m\u001b[0m\u001b[0m\n\u001b[1;32m    650\u001b[0m     \u001b[0;32mdef\u001b[0m \u001b[0mget\u001b[0m\u001b[0;34m(\u001b[0m\u001b[0mself\u001b[0m\u001b[0;34m,\u001b[0m \u001b[0mtimeout\u001b[0m\u001b[0;34m=\u001b[0m\u001b[0;32mNone\u001b[0m\u001b[0;34m)\u001b[0m\u001b[0;34m:\u001b[0m\u001b[0;34m\u001b[0m\u001b[0;34m\u001b[0m\u001b[0m\n",
            "\u001b[0;32m/usr/lib/python3.7/threading.py\u001b[0m in \u001b[0;36mwait\u001b[0;34m(self, timeout)\u001b[0m\n\u001b[1;32m    550\u001b[0m             \u001b[0msignaled\u001b[0m \u001b[0;34m=\u001b[0m \u001b[0mself\u001b[0m\u001b[0;34m.\u001b[0m\u001b[0m_flag\u001b[0m\u001b[0;34m\u001b[0m\u001b[0;34m\u001b[0m\u001b[0m\n\u001b[1;32m    551\u001b[0m             \u001b[0;32mif\u001b[0m \u001b[0;32mnot\u001b[0m \u001b[0msignaled\u001b[0m\u001b[0;34m:\u001b[0m\u001b[0;34m\u001b[0m\u001b[0;34m\u001b[0m\u001b[0m\n\u001b[0;32m--> 552\u001b[0;31m                 \u001b[0msignaled\u001b[0m \u001b[0;34m=\u001b[0m \u001b[0mself\u001b[0m\u001b[0;34m.\u001b[0m\u001b[0m_cond\u001b[0m\u001b[0;34m.\u001b[0m\u001b[0mwait\u001b[0m\u001b[0;34m(\u001b[0m\u001b[0mtimeout\u001b[0m\u001b[0;34m)\u001b[0m\u001b[0;34m\u001b[0m\u001b[0;34m\u001b[0m\u001b[0m\n\u001b[0m\u001b[1;32m    553\u001b[0m             \u001b[0;32mreturn\u001b[0m \u001b[0msignaled\u001b[0m\u001b[0;34m\u001b[0m\u001b[0;34m\u001b[0m\u001b[0m\n\u001b[1;32m    554\u001b[0m \u001b[0;34m\u001b[0m\u001b[0m\n",
            "\u001b[0;32m/usr/lib/python3.7/threading.py\u001b[0m in \u001b[0;36mwait\u001b[0;34m(self, timeout)\u001b[0m\n\u001b[1;32m    294\u001b[0m         \u001b[0;32mtry\u001b[0m\u001b[0;34m:\u001b[0m    \u001b[0;31m# restore state no matter what (e.g., KeyboardInterrupt)\u001b[0m\u001b[0;34m\u001b[0m\u001b[0;34m\u001b[0m\u001b[0m\n\u001b[1;32m    295\u001b[0m             \u001b[0;32mif\u001b[0m \u001b[0mtimeout\u001b[0m \u001b[0;32mis\u001b[0m \u001b[0;32mNone\u001b[0m\u001b[0;34m:\u001b[0m\u001b[0;34m\u001b[0m\u001b[0;34m\u001b[0m\u001b[0m\n\u001b[0;32m--> 296\u001b[0;31m                 \u001b[0mwaiter\u001b[0m\u001b[0;34m.\u001b[0m\u001b[0macquire\u001b[0m\u001b[0;34m(\u001b[0m\u001b[0;34m)\u001b[0m\u001b[0;34m\u001b[0m\u001b[0;34m\u001b[0m\u001b[0m\n\u001b[0m\u001b[1;32m    297\u001b[0m                 \u001b[0mgotit\u001b[0m \u001b[0;34m=\u001b[0m \u001b[0;32mTrue\u001b[0m\u001b[0;34m\u001b[0m\u001b[0;34m\u001b[0m\u001b[0m\n\u001b[1;32m    298\u001b[0m             \u001b[0;32melse\u001b[0m\u001b[0;34m:\u001b[0m\u001b[0;34m\u001b[0m\u001b[0;34m\u001b[0m\u001b[0m\n",
            "\u001b[0;31mKeyboardInterrupt\u001b[0m: "
          ]
        }
      ],
      "source": [
        "deeplabcut.create_labeled_video(path_config_file,\n",
        "                                videofile_path, \n",
        "                                shuffle=shuffle, \n",
        "                                color_by=\"individual\",\n",
        "                                videotype=VideoType, \n",
        "                                save_frames=True,\n",
        "                                filtered=True)"
      ]
    }
  ]
}